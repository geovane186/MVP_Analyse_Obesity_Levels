{
 "cells": [
  {
   "cell_type": "markdown",
   "metadata": {
    "application/vnd.databricks.v1+cell": {
     "cellMetadata": {},
     "inputWidgets": {},
     "nuid": "b7e32f8f-8d9b-4bad-9f0a-bef10f40eaa2",
     "showTitle": false,
     "tableResultSettingsMap": {},
     "title": ""
    }
   },
   "source": [
    "# MVP de Engenharia de Dados: Análise de Níveis de Obesidade\n",
    "Objetivo: Desenvolver um pipeline de dados para analisar a relação entre hábitos alimentares, atividade física e níveis de obesidade, utilizando um modelo estrela em Databricks."
   ]
  },
  {
   "cell_type": "markdown",
   "metadata": {
    "application/vnd.databricks.v1+cell": {
     "cellMetadata": {},
     "inputWidgets": {},
     "nuid": "f698a649-e2e9-4587-bc7d-6f94de2ecd12",
     "showTitle": false,
     "tableResultSettingsMap": {},
     "title": ""
    }
   },
   "source": [
    "## 1. Objetivo do Trabalho\n"
   ]
  },
  {
   "cell_type": "markdown",
   "metadata": {
    "application/vnd.databricks.v1+cell": {
     "cellMetadata": {},
     "inputWidgets": {},
     "nuid": "f9ba054d-bb51-4b94-baa9-6fb5092e52b8",
     "showTitle": false,
     "tableResultSettingsMap": {},
     "title": ""
    }
   },
   "source": [
    "### 1.1 **Problema**  \n",
    "A obesidade é um dos principais fatores de risco para doenças crônicas como diabetes tipo 2, hipertensão e doenças cardiovasculares. Por isso, é fundamental compreender como hábitos alimentares, fatores demográficos e o nível de atividade física influenciam o grau de obesidade dos indivíduos.  \n",
    "A base de dados utilizada é oriunda de uma pesquisa com informações sobre hábitos alimentares e condições físicas de indivíduos de México, Peru e Colômbia. Ela contém 17 atributos e 2.111 registros, sendo o atributo NObeyesdad o responsável por categorizar o nível de obesidade dos participantes.  \n",
    "A partir disso, foram elaboradas as seguintes perguntas-chave a serem respondidas com base na análise dos dados:\n",
    "- **1-** Pessoas que consomem mais água tendem a ter menor nível de obesidade?\n",
    "- **2-** Qual a distribuição de obesidade por gênero e faixa etária?\n",
    "- **3-** Existe uma correlação entre altura, peso e nível de obesidade?\n",
    "- **4-** Qual a média de idade das pessoas em cada nível de obesidade?\n",
    "- **5-** Quem come mais vegetais tem menor índice de obesidade?\n",
    "- **6-** Qual o impacto do consumo frequente de alimentos calóricos na obesidade?\n",
    "- **7-** Pessoas que fazem mais atividades físicas têm menor nível de obesidade?\n",
    "- **8-** Existe uma relação entre hábitos saudáveis (maior consumo de vegetais, menor consumo de alimentos calóricos e maior atividade física) e os níveis de obesidade?\n",
    "- **9-** Pessoas que comem mais refeições por dia têm menor tendência à obesidade?\n",
    "- **10-** Há uma relação entre o consumo de álcool e os níveis de obesidade?\n",
    "- **11-** Quem usa transporte ativo (bicicleta, caminhada) tem menores índices de obesidade do que aqueles que usam carro ou transporte público?\n",
    "\n"
   ]
  },
  {
   "cell_type": "markdown",
   "metadata": {
    "application/vnd.databricks.v1+cell": {
     "cellMetadata": {},
     "inputWidgets": {},
     "nuid": "272b91fc-1942-46b8-8e2e-086c6f4dc0e3",
     "showTitle": false,
     "tableResultSettingsMap": {},
     "title": ""
    }
   },
   "source": [
    "### 1.2 **Solução Proposta**  \n",
    "Este projeto propõe a construção de uma pipeline de dados completa, estruturada em três camadas (Bronze → Silver → Gold), que permite organizar, transformar e analisar os dados de forma eficiente, modular e escalável. A arquitetura escolhida também possibilita uma separação clara entre dados brutos, dados limpos e dados prontos para análise, facilitando a rastreabilidade e reuso."
   ]
  },
  {
   "cell_type": "markdown",
   "metadata": {
    "application/vnd.databricks.v1+cell": {
     "cellMetadata": {},
     "inputWidgets": {},
     "nuid": "39b36855-13ab-42b4-bad4-39d39efa11a4",
     "showTitle": false,
     "tableResultSettingsMap": {},
     "title": ""
    }
   },
   "source": [
    "## 2. Base de Dados Escolhida\n"
   ]
  },
  {
   "cell_type": "markdown",
   "metadata": {
    "application/vnd.databricks.v1+cell": {
     "cellMetadata": {},
     "inputWidgets": {},
     "nuid": "8c4321dc-d491-41a4-a522-93842bbde8c8",
     "showTitle": false,
     "tableResultSettingsMap": {},
     "title": ""
    }
   },
   "source": [
    "Dataset: [Obesity Levels Prediction](https://archive.ics.uci.edu/dataset/544/estimation+of+obesity+levels+based+on+eating+habits+and+physical+condition)\n",
    "\n",
    "A base de dados tem os seguintes atributos:  \n",
    "- Gender - Categórico - Male/Female - Genero do indivíduo.\n",
    "- Age - Contínuo - Idade do indivíduo.\n",
    "- Height - Contínuo - Altura do indivíduo.\n",
    "- Weight - Contínuo - Peso do indivíduo.\n",
    "- family_history_with_overweight - Binário - Algum membro da família do indivíduo já sofreu ou sofre de sobrepeso?\n",
    "- FAVC - Binário - O indivíduo consome alimentos altamente calóricos com frequência?\n",
    "- FCVC - Inteiro - O indivíduo costuma comer vegetais nas suas refeições?\n",
    "- NCP - Contínuo - Quantas refeições principais o indivíduo faz diariamente?\n",
    "- CAEC - Categórico - no/Sometimes/Frequently/Always - O indivíduo consome algum alimento entre as refeições?\n",
    "- SMOKE - Binário - O indivíduo fuma?\n",
    "- CH2O - Contínuo - Quanto de água o indivíduo bebe diariamente?\n",
    "- SCC - Binário - O indivíduo monitora as calorias que consome diariamente?\n",
    "- FAF - Contínuo - Com que frequência o indivíduo pratica atividade física?\n",
    "- TUE - Inteiro - Quanto tempo o indivíduo utiliza dispositivos tecnológicos, como celular, videogames, televisão, computador e outros?\n",
    "- CALC - Categórico - no/Sometimes/Frequently/Always - Com que frequência o indivíduo consome álcool?\n",
    "- MTRANS - Categórico - Public_Transportation,Walking,Automobile,Motorbike,Bike - Qual meio de transporte o indivíduo costuma usar?\n",
    "- NObeyesdad - Categórico - Insufficient_Weight/Normal_Weight/Overweight_Level_I/Overweight_Level_II/Obesity_Type_I/Obesity_Type_II/Obesity_Type_III - Nível de obesidade do indivíduo\n",
    "\n",
    "Como o dataset utilizado é público e foi previamente anonimizado, não contendo informações pessoais identificáveis, consideramos que cada linha da tabela é um paciente entrevistado pela pesquisa, logo não podemos ter linhas duplicadas."
   ]
  },
  {
   "cell_type": "markdown",
   "metadata": {
    "application/vnd.databricks.v1+cell": {
     "cellMetadata": {},
     "inputWidgets": {},
     "nuid": "8648d9ae-412d-4aa0-8773-bd33a8101f89",
     "showTitle": false,
     "tableResultSettingsMap": {},
     "title": ""
    }
   },
   "source": [
    "## 3. Coleta dos Dados\n"
   ]
  },
  {
   "cell_type": "markdown",
   "metadata": {
    "application/vnd.databricks.v1+cell": {
     "cellMetadata": {},
     "inputWidgets": {},
     "nuid": "3d703848-c9cb-446d-b47d-169e87bb0db7",
     "showTitle": false,
     "tableResultSettingsMap": {},
     "title": ""
    }
   },
   "source": [
    "A etapa de coleta de dados consiste em armazenar e disponibilizar o conjunto de dados para o início do processamento da pipeline de dados.  \n",
    "O arquivo CSV foi armazenado no GitHub como ponto de acesso centralizado dos dados brutos. A leitura inicial foi feita com a biblioteca Pandas, permitindo a inspeção e visualização preliminar do dataset. Em seguida, foi realizada, via linguagem SQL, a criação do Database da Camada Bronze. O DataFrame criado com o Pandas foi convertido para um DataFrame do Spark, possibilitando o processamento distribuído e eficiente. Por fim, os dados foram persistidos como uma tabela Delta no catálogo, utilizando o comando saveAsTable(\"bronze.obesity_raw\"), dentro do database da camada Bronze, garantindo versionamento e otimização para as etapas seguintes da pipeline."
   ]
  },
  {
   "cell_type": "code",
   "execution_count": 0,
   "metadata": {
    "application/vnd.databricks.v1+cell": {
     "cellMetadata": {
      "byteLimit": 2048000,
      "rowLimit": 10000
     },
     "inputWidgets": {},
     "nuid": "aca2f2a7-2f86-4c57-b53b-b51e0160b0b4",
     "showTitle": true,
     "tableResultSettingsMap": {},
     "title": "Import de bibliotecas"
    }
   },
   "outputs": [
    {
     "output_type": "display_data",
     "data": {
      "application/vnd.databricks.v1+bamboolib_hint": "{\"pd.DataFrames\": [], \"version\": \"0.0.1\"}",
      "text/plain": []
     },
     "metadata": {},
     "output_type": "display_data"
    }
   ],
   "source": [
    "import pandas as pd\n",
    "from pyspark.sql import SparkSession"
   ]
  },
  {
   "cell_type": "code",
   "execution_count": 0,
   "metadata": {
    "application/vnd.databricks.v1+cell": {
     "cellMetadata": {
      "byteLimit": 2048000,
      "rowLimit": 10000
     },
     "inputWidgets": {},
     "nuid": "24a6e505-4775-4874-ab59-d5ad9e2843fd",
     "showTitle": true,
     "tableResultSettingsMap": {},
     "title": "Coleta do DataSet por url"
    }
   },
   "outputs": [
    {
     "output_type": "stream",
     "name": "stdout",
     "output_type": "stream",
     "text": [
      "✅ Dados carregados com sucesso. Amostra:\n"
     ]
    },
    {
     "output_type": "display_data",
     "data": {
      "text/html": [
       "<style scoped>\n",
       "  .table-result-container {\n",
       "    max-height: 300px;\n",
       "    overflow: auto;\n",
       "  }\n",
       "  table, th, td {\n",
       "    border: 1px solid black;\n",
       "    border-collapse: collapse;\n",
       "  }\n",
       "  th, td {\n",
       "    padding: 5px;\n",
       "  }\n",
       "  th {\n",
       "    text-align: left;\n",
       "  }\n",
       "</style><div class='table-result-container'><table class='table-result'><thead style='background-color: white'><tr><th>Gender</th><th>Age</th><th>Height</th><th>Weight</th><th>family_history_with_overweight</th><th>FAVC</th><th>FCVC</th><th>NCP</th><th>CAEC</th><th>SMOKE</th><th>CH2O</th><th>SCC</th><th>FAF</th><th>TUE</th><th>CALC</th><th>MTRANS</th><th>NObeyesdad</th></tr></thead><tbody><tr><td>Female</td><td>21.0</td><td>1.62</td><td>64.0</td><td>yes</td><td>no</td><td>2.0</td><td>3.0</td><td>Sometimes</td><td>no</td><td>2.0</td><td>no</td><td>0.0</td><td>1.0</td><td>no</td><td>Public_Transportation</td><td>Normal_Weight</td></tr><tr><td>Female</td><td>21.0</td><td>1.52</td><td>56.0</td><td>yes</td><td>no</td><td>3.0</td><td>3.0</td><td>Sometimes</td><td>yes</td><td>3.0</td><td>yes</td><td>3.0</td><td>0.0</td><td>Sometimes</td><td>Public_Transportation</td><td>Normal_Weight</td></tr><tr><td>Male</td><td>23.0</td><td>1.8</td><td>77.0</td><td>yes</td><td>no</td><td>2.0</td><td>3.0</td><td>Sometimes</td><td>no</td><td>2.0</td><td>no</td><td>2.0</td><td>1.0</td><td>Frequently</td><td>Public_Transportation</td><td>Normal_Weight</td></tr></tbody></table></div>"
      ]
     },
     "metadata": {
      "application/vnd.databricks.v1+output": {
       "addedWidgets": {},
       "aggData": [],
       "aggError": "",
       "aggOverflow": false,
       "aggSchema": [],
       "aggSeriesLimitReached": false,
       "aggType": "",
       "arguments": {},
       "columnCustomDisplayInfos": {},
       "data": [
        [
         "Female",
         21.0,
         1.62,
         64.0,
         "yes",
         "no",
         2.0,
         3.0,
         "Sometimes",
         "no",
         2.0,
         "no",
         0.0,
         1.0,
         "no",
         "Public_Transportation",
         "Normal_Weight"
        ],
        [
         "Female",
         21.0,
         1.52,
         56.0,
         "yes",
         "no",
         3.0,
         3.0,
         "Sometimes",
         "yes",
         3.0,
         "yes",
         3.0,
         0.0,
         "Sometimes",
         "Public_Transportation",
         "Normal_Weight"
        ],
        [
         "Male",
         23.0,
         1.8,
         77.0,
         "yes",
         "no",
         2.0,
         3.0,
         "Sometimes",
         "no",
         2.0,
         "no",
         2.0,
         1.0,
         "Frequently",
         "Public_Transportation",
         "Normal_Weight"
        ]
       ],
       "datasetInfos": [],
       "dbfsResultPath": null,
       "isJsonSchema": true,
       "metadata": {},
       "overflow": false,
       "plotOptions": {
        "customPlotOptions": {},
        "displayType": "table",
        "pivotAggregation": null,
        "pivotColumns": null,
        "xColumns": null,
        "yColumns": null
       },
       "removedWidgets": [],
       "schema": [
        {
         "metadata": "{}",
         "name": "Gender",
         "type": "\"string\""
        },
        {
         "metadata": "{}",
         "name": "Age",
         "type": "\"double\""
        },
        {
         "metadata": "{}",
         "name": "Height",
         "type": "\"double\""
        },
        {
         "metadata": "{}",
         "name": "Weight",
         "type": "\"double\""
        },
        {
         "metadata": "{}",
         "name": "family_history_with_overweight",
         "type": "\"string\""
        },
        {
         "metadata": "{}",
         "name": "FAVC",
         "type": "\"string\""
        },
        {
         "metadata": "{}",
         "name": "FCVC",
         "type": "\"double\""
        },
        {
         "metadata": "{}",
         "name": "NCP",
         "type": "\"double\""
        },
        {
         "metadata": "{}",
         "name": "CAEC",
         "type": "\"string\""
        },
        {
         "metadata": "{}",
         "name": "SMOKE",
         "type": "\"string\""
        },
        {
         "metadata": "{}",
         "name": "CH2O",
         "type": "\"double\""
        },
        {
         "metadata": "{}",
         "name": "SCC",
         "type": "\"string\""
        },
        {
         "metadata": "{}",
         "name": "FAF",
         "type": "\"double\""
        },
        {
         "metadata": "{}",
         "name": "TUE",
         "type": "\"double\""
        },
        {
         "metadata": "{}",
         "name": "CALC",
         "type": "\"string\""
        },
        {
         "metadata": "{}",
         "name": "MTRANS",
         "type": "\"string\""
        },
        {
         "metadata": "{}",
         "name": "NObeyesdad",
         "type": "\"string\""
        }
       ],
       "type": "table"
      }
     },
     "output_type": "display_data"
    }
   ],
   "source": [
    "# URL do dataset\n",
    "url_dados = 'https://raw.githubusercontent.com/geovane186/MVP_Analyse_Obesity_Levels/refs/heads/main/DataSet/ObesityDataSet_raw_and_data_sinthetic.csv'\n",
    "\n",
    "# Carrega para DataFrame pandas\n",
    "try:\n",
    "    obesity_pandas_df = pd.read_csv(url_dados)\n",
    "    print(\"✅ Dados carregados com sucesso. Amostra:\")\n",
    "    display(obesity_pandas_df.head(3))\n",
    "    \n",
    "except Exception as e:\n",
    "    print(f\"❌ Erro ao carregar dados: {str(e)}\")\n",
    "    dbutils.notebook.exit(\"Interrompendo execução\")"
   ]
  },
  {
   "cell_type": "code",
   "execution_count": 0,
   "metadata": {
    "application/vnd.databricks.v1+cell": {
     "cellMetadata": {
      "byteLimit": 2048000,
      "implicitDf": true,
      "rowLimit": 10000
     },
     "inputWidgets": {},
     "nuid": "c17fa2c1-3cc1-489d-b982-59a7db112611",
     "showTitle": true,
     "tableResultSettingsMap": {},
     "title": "Apagando o database \"bronze\" para ser recriado"
    }
   },
   "outputs": [
    {
     "output_type": "display_data",
     "data": {
      "text/html": [
       "<style scoped>\n",
       "  .table-result-container {\n",
       "    max-height: 300px;\n",
       "    overflow: auto;\n",
       "  }\n",
       "  table, th, td {\n",
       "    border: 1px solid black;\n",
       "    border-collapse: collapse;\n",
       "  }\n",
       "  th, td {\n",
       "    padding: 5px;\n",
       "  }\n",
       "  th {\n",
       "    text-align: left;\n",
       "  }\n",
       "</style><div class='table-result-container'><table class='table-result'><thead style='background-color: white'><tr></tr></thead><tbody></tbody></table></div>"
      ]
     },
     "metadata": {
      "application/vnd.databricks.v1+output": {
       "addedWidgets": {},
       "aggData": [],
       "aggError": "",
       "aggOverflow": false,
       "aggSchema": [],
       "aggSeriesLimitReached": false,
       "aggType": "",
       "arguments": {},
       "columnCustomDisplayInfos": {},
       "data": [],
       "datasetInfos": [],
       "dbfsResultPath": null,
       "isJsonSchema": true,
       "metadata": {},
       "overflow": false,
       "plotOptions": {
        "customPlotOptions": {},
        "displayType": "table",
        "pivotAggregation": null,
        "pivotColumns": null,
        "xColumns": null,
        "yColumns": null
       },
       "removedWidgets": [],
       "schema": [],
       "type": "table"
      }
     },
     "output_type": "display_data"
    }
   ],
   "source": [
    "%sql DROP DATABASE IF EXISTS  bronze CASCADE"
   ]
  },
  {
   "cell_type": "code",
   "execution_count": 0,
   "metadata": {
    "application/vnd.databricks.v1+cell": {
     "cellMetadata": {
      "byteLimit": 2048000,
      "implicitDf": true,
      "rowLimit": 10000
     },
     "inputWidgets": {},
     "nuid": "7e299703-52c8-441d-be52-2e571589fb1e",
     "showTitle": true,
     "tableResultSettingsMap": {},
     "title": "Recriando o database \"bronze\""
    }
   },
   "outputs": [
    {
     "output_type": "display_data",
     "data": {
      "text/html": [
       "<style scoped>\n",
       "  .table-result-container {\n",
       "    max-height: 300px;\n",
       "    overflow: auto;\n",
       "  }\n",
       "  table, th, td {\n",
       "    border: 1px solid black;\n",
       "    border-collapse: collapse;\n",
       "  }\n",
       "  th, td {\n",
       "    padding: 5px;\n",
       "  }\n",
       "  th {\n",
       "    text-align: left;\n",
       "  }\n",
       "</style><div class='table-result-container'><table class='table-result'><thead style='background-color: white'><tr></tr></thead><tbody></tbody></table></div>"
      ]
     },
     "metadata": {
      "application/vnd.databricks.v1+output": {
       "addedWidgets": {},
       "aggData": [],
       "aggError": "",
       "aggOverflow": false,
       "aggSchema": [],
       "aggSeriesLimitReached": false,
       "aggType": "",
       "arguments": {},
       "columnCustomDisplayInfos": {},
       "data": [],
       "datasetInfos": [],
       "dbfsResultPath": null,
       "isJsonSchema": true,
       "metadata": {},
       "overflow": false,
       "plotOptions": {
        "customPlotOptions": {},
        "displayType": "table",
        "pivotAggregation": null,
        "pivotColumns": null,
        "xColumns": null,
        "yColumns": null
       },
       "removedWidgets": [],
       "schema": [],
       "type": "table"
      }
     },
     "output_type": "display_data"
    }
   ],
   "source": [
    "%sql\n",
    "CREATE DATABASE bronze\n",
    "COMMENT \"Camada raw para dados brutos\"\n",
    "LOCATION \"/mnt/bronze\";\n",
    "\n",
    "DROP TABLE IF EXISTS bronze.obesity_raw;"
   ]
  },
  {
   "cell_type": "code",
   "execution_count": 0,
   "metadata": {
    "application/vnd.databricks.v1+cell": {
     "cellMetadata": {
      "byteLimit": 2048000,
      "rowLimit": 10000
     },
     "inputWidgets": {},
     "nuid": "36e1a7a8-c8d3-4fa7-8bad-fb166399c68d",
     "showTitle": true,
     "tableResultSettingsMap": {},
     "title": "Criação da tabela com os dados da pesquisa de obesidade a partir do dataframe"
    }
   },
   "outputs": [],
   "source": [
    "obesity_spark_df = spark.createDataFrame(obesity_pandas_df)\n",
    "obesity_spark_df.write.format(\"delta\").mode(\"overwrite\").option(\"overwriteSchema\", \"true\").saveAsTable(\"bronze.obesity_raw\")"
   ]
  },
  {
   "cell_type": "code",
   "execution_count": 0,
   "metadata": {
    "application/vnd.databricks.v1+cell": {
     "cellMetadata": {
      "byteLimit": 2048000,
      "implicitDf": true,
      "rowLimit": 10000
     },
     "inputWidgets": {},
     "nuid": "61b30986-c941-48ef-8b47-afd9f0b79bec",
     "showTitle": true,
     "tableResultSettingsMap": {},
     "title": "Amostra dos dados da tabela bronze criada"
    }
   },
   "outputs": [
    {
     "output_type": "display_data",
     "data": {
      "text/html": [
       "<style scoped>\n",
       "  .table-result-container {\n",
       "    max-height: 300px;\n",
       "    overflow: auto;\n",
       "  }\n",
       "  table, th, td {\n",
       "    border: 1px solid black;\n",
       "    border-collapse: collapse;\n",
       "  }\n",
       "  th, td {\n",
       "    padding: 5px;\n",
       "  }\n",
       "  th {\n",
       "    text-align: left;\n",
       "  }\n",
       "</style><div class='table-result-container'><table class='table-result'><thead style='background-color: white'><tr><th>Gender</th><th>Age</th><th>Height</th><th>Weight</th><th>family_history_with_overweight</th><th>FAVC</th><th>FCVC</th><th>NCP</th><th>CAEC</th><th>SMOKE</th><th>CH2O</th><th>SCC</th><th>FAF</th><th>TUE</th><th>CALC</th><th>MTRANS</th><th>NObeyesdad</th></tr></thead><tbody><tr><td>Female</td><td>21.0</td><td>1.62</td><td>64.0</td><td>yes</td><td>no</td><td>2.0</td><td>3.0</td><td>Sometimes</td><td>no</td><td>2.0</td><td>no</td><td>0.0</td><td>1.0</td><td>no</td><td>Public_Transportation</td><td>Normal_Weight</td></tr><tr><td>Female</td><td>21.0</td><td>1.52</td><td>56.0</td><td>yes</td><td>no</td><td>3.0</td><td>3.0</td><td>Sometimes</td><td>yes</td><td>3.0</td><td>yes</td><td>3.0</td><td>0.0</td><td>Sometimes</td><td>Public_Transportation</td><td>Normal_Weight</td></tr><tr><td>Male</td><td>23.0</td><td>1.8</td><td>77.0</td><td>yes</td><td>no</td><td>2.0</td><td>3.0</td><td>Sometimes</td><td>no</td><td>2.0</td><td>no</td><td>2.0</td><td>1.0</td><td>Frequently</td><td>Public_Transportation</td><td>Normal_Weight</td></tr><tr><td>Male</td><td>27.0</td><td>1.8</td><td>87.0</td><td>no</td><td>no</td><td>3.0</td><td>3.0</td><td>Sometimes</td><td>no</td><td>2.0</td><td>no</td><td>2.0</td><td>0.0</td><td>Frequently</td><td>Walking</td><td>Overweight_Level_I</td></tr><tr><td>Male</td><td>22.0</td><td>1.78</td><td>89.8</td><td>no</td><td>no</td><td>2.0</td><td>1.0</td><td>Sometimes</td><td>no</td><td>2.0</td><td>no</td><td>0.0</td><td>0.0</td><td>Sometimes</td><td>Public_Transportation</td><td>Overweight_Level_II</td></tr></tbody></table></div>"
      ]
     },
     "metadata": {
      "application/vnd.databricks.v1+output": {
       "addedWidgets": {},
       "aggData": [],
       "aggError": "",
       "aggOverflow": false,
       "aggSchema": [],
       "aggSeriesLimitReached": false,
       "aggType": "",
       "arguments": {},
       "columnCustomDisplayInfos": {},
       "data": [
        [
         "Female",
         21.0,
         1.62,
         64.0,
         "yes",
         "no",
         2.0,
         3.0,
         "Sometimes",
         "no",
         2.0,
         "no",
         0.0,
         1.0,
         "no",
         "Public_Transportation",
         "Normal_Weight"
        ],
        [
         "Female",
         21.0,
         1.52,
         56.0,
         "yes",
         "no",
         3.0,
         3.0,
         "Sometimes",
         "yes",
         3.0,
         "yes",
         3.0,
         0.0,
         "Sometimes",
         "Public_Transportation",
         "Normal_Weight"
        ],
        [
         "Male",
         23.0,
         1.8,
         77.0,
         "yes",
         "no",
         2.0,
         3.0,
         "Sometimes",
         "no",
         2.0,
         "no",
         2.0,
         1.0,
         "Frequently",
         "Public_Transportation",
         "Normal_Weight"
        ],
        [
         "Male",
         27.0,
         1.8,
         87.0,
         "no",
         "no",
         3.0,
         3.0,
         "Sometimes",
         "no",
         2.0,
         "no",
         2.0,
         0.0,
         "Frequently",
         "Walking",
         "Overweight_Level_I"
        ],
        [
         "Male",
         22.0,
         1.78,
         89.8,
         "no",
         "no",
         2.0,
         1.0,
         "Sometimes",
         "no",
         2.0,
         "no",
         0.0,
         0.0,
         "Sometimes",
         "Public_Transportation",
         "Overweight_Level_II"
        ]
       ],
       "datasetInfos": [],
       "dbfsResultPath": null,
       "isJsonSchema": true,
       "metadata": {},
       "overflow": false,
       "plotOptions": {
        "customPlotOptions": {},
        "displayType": "table",
        "pivotAggregation": null,
        "pivotColumns": null,
        "xColumns": null,
        "yColumns": null
       },
       "removedWidgets": [],
       "schema": [
        {
         "metadata": "{}",
         "name": "Gender",
         "type": "\"string\""
        },
        {
         "metadata": "{}",
         "name": "Age",
         "type": "\"double\""
        },
        {
         "metadata": "{}",
         "name": "Height",
         "type": "\"double\""
        },
        {
         "metadata": "{}",
         "name": "Weight",
         "type": "\"double\""
        },
        {
         "metadata": "{}",
         "name": "family_history_with_overweight",
         "type": "\"string\""
        },
        {
         "metadata": "{}",
         "name": "FAVC",
         "type": "\"string\""
        },
        {
         "metadata": "{}",
         "name": "FCVC",
         "type": "\"double\""
        },
        {
         "metadata": "{}",
         "name": "NCP",
         "type": "\"double\""
        },
        {
         "metadata": "{}",
         "name": "CAEC",
         "type": "\"string\""
        },
        {
         "metadata": "{}",
         "name": "SMOKE",
         "type": "\"string\""
        },
        {
         "metadata": "{}",
         "name": "CH2O",
         "type": "\"double\""
        },
        {
         "metadata": "{}",
         "name": "SCC",
         "type": "\"string\""
        },
        {
         "metadata": "{}",
         "name": "FAF",
         "type": "\"double\""
        },
        {
         "metadata": "{}",
         "name": "TUE",
         "type": "\"double\""
        },
        {
         "metadata": "{}",
         "name": "CALC",
         "type": "\"string\""
        },
        {
         "metadata": "{}",
         "name": "MTRANS",
         "type": "\"string\""
        },
        {
         "metadata": "{}",
         "name": "NObeyesdad",
         "type": "\"string\""
        }
       ],
       "type": "table"
      }
     },
     "output_type": "display_data"
    }
   ],
   "source": [
    "%sql SELECT * FROM bronze.obesity_raw LIMIT 5;"
   ]
  },
  {
   "cell_type": "markdown",
   "metadata": {
    "application/vnd.databricks.v1+cell": {
     "cellMetadata": {
      "byteLimit": 2048000,
      "rowLimit": 10000
     },
     "inputWidgets": {},
     "nuid": "2961cf21-cef1-45f0-9852-fa9298c2f5a7",
     "showTitle": false,
     "tableResultSettingsMap": {},
     "title": ""
    }
   },
   "source": [
    "## 4. Análise - Verificação de Qualidade\n"
   ]
  },
  {
   "cell_type": "markdown",
   "metadata": {
    "application/vnd.databricks.v1+cell": {
     "cellMetadata": {},
     "inputWidgets": {},
     "nuid": "10454390-d1d8-43e7-a90f-2447ea23550b",
     "showTitle": false,
     "tableResultSettingsMap": {},
     "title": ""
    }
   },
   "source": [
    "Após o armazenamento na camada Bronze, os dados passaram por uma verificação de qualidade com foco em três pontos principais: **valores nulos**, **valores inválidos** e **registros duplicados**. A verificação foi feita com comandos SQL, onde cada coluna foi avaliada quanto à presença de valores nulos, diversidade de valores, percentual de dados válidos conforme regras definidas (por exemplo: faixas aceitáveis de idade, altura e peso; valores válidos para variáveis categóricas como gênero e hábitos). Não foram encontrados valores nulos ou inválidos.\n",
    "\n",
    "Em seguida, foi realizada uma verificação de duplicatas, agrupando todos os campos para identificar registros exatamente iguais. Foram identificadas 24 ocorrências duplicadas, que serão removidas na criação da tabela Silver, garantindo que cada registro represente um indivíduo único. Essa foi a única inconsistência encontrada nos dados da camada Bronze."
   ]
  },
  {
   "cell_type": "code",
   "execution_count": 0,
   "metadata": {
    "application/vnd.databricks.v1+cell": {
     "cellMetadata": {
      "byteLimit": 2048000,
      "implicitDf": true,
      "rowLimit": 10000
     },
     "inputWidgets": {},
     "nuid": "40e7081b-7f3f-45d1-b9f4-ec13448637f9",
     "showTitle": true,
     "tableResultSettingsMap": {},
     "title": "Query Completa para Análise de Qualidade de Todas as Colunas"
    }
   },
   "outputs": [
    {
     "output_type": "display_data",
     "data": {
      "text/html": [
       "<style scoped>\n",
       "  .table-result-container {\n",
       "    max-height: 300px;\n",
       "    overflow: auto;\n",
       "  }\n",
       "  table, th, td {\n",
       "    border: 1px solid black;\n",
       "    border-collapse: collapse;\n",
       "  }\n",
       "  th, td {\n",
       "    padding: 5px;\n",
       "  }\n",
       "  th {\n",
       "    text-align: left;\n",
       "  }\n",
       "</style><div class='table-result-container'><table class='table-result'><thead style='background-color: white'><tr><th>column_name</th><th>total_rows</th><th>null_count</th><th>null_percentage</th><th>distinct_values</th><th>validity_percentage</th><th>status</th><th>validation_rule</th><th>sample_values</th></tr></thead><tbody><tr><td>Age</td><td>2111</td><td>0</td><td>0.00</td><td>1402</td><td>100.0</td><td>✅ OK</td><td>Intervalo válido: 14-100 anos</td><td>List(14.0, 61.0)</td></tr><tr><td>CAEC</td><td>2111</td><td>0</td><td>0.00</td><td>4</td><td>100.0</td><td>✅ OK</td><td>Valores válidos: no, Sometimes, Frequently, Always</td><td>List(no, Always, Sometimes, Frequently)</td></tr><tr><td>CALC</td><td>2111</td><td>0</td><td>0.00</td><td>4</td><td>100.0</td><td>✅ OK</td><td>Valores válidos: no, Sometimes, Frequently, Always</td><td>List(no, Always, Sometimes, Frequently)</td></tr><tr><td>CH2O</td><td>2111</td><td>0</td><td>0.00</td><td>1268</td><td>100.0</td><td>✅ OK</td><td>Intervalo válido: 1-3 (escala Likert)</td><td>List(1.0, 3.0)</td></tr><tr><td>FAF</td><td>2111</td><td>0</td><td>0.00</td><td>1190</td><td>100.0</td><td>✅ OK</td><td>Intervalo válido: 0-3 (escala Likert)</td><td>List(0.0, 3.0)</td></tr><tr><td>FAVC</td><td>2111</td><td>0</td><td>0.00</td><td>2</td><td>100.0</td><td>✅ OK</td><td>Valores válidos: yes, no</td><td>List(no, yes)</td></tr><tr><td>FCVC</td><td>2111</td><td>0</td><td>0.00</td><td>810</td><td>100.0</td><td>✅ OK</td><td>Intervalo válido: 1-3 (escala Likert)</td><td>List(1.0, 3.0)</td></tr><tr><td>Gender</td><td>2111</td><td>0</td><td>0.00</td><td>2</td><td>100.0</td><td>✅ OK</td><td>Valores válidos: Male, Female</td><td>List(Female, Male)</td></tr><tr><td>Height</td><td>2111</td><td>0</td><td>0.00</td><td>1574</td><td>100.0</td><td>✅ OK</td><td>Intervalo válido: 1.2m - 2.5m</td><td>List(1.45, 1.98)</td></tr><tr><td>MTRANS</td><td>2111</td><td>0</td><td>0.00</td><td>5</td><td>100.0</td><td>✅ OK</td><td>Valores válidos: Public_Transportation, Walking, Automobile, Motorbike, Bike</td><td>List(Bike, Walking, Public_Transportation, Motorbike, Automobile)</td></tr><tr><td>NCP</td><td>2111</td><td>0</td><td>0.00</td><td>635</td><td>100.0</td><td>✅ OK</td><td>Intervalo válido: 1-4 refeições diárias</td><td>List(1.0, 4.0)</td></tr><tr><td>NObeyesdad</td><td>2111</td><td>0</td><td>0.00</td><td>7</td><td>100.0</td><td>✅ OK</td><td>Valores válidos: Insufficient_Weight, Normal_Weight, Overweight_Level_I, Overweight_Level_II, Obesity_Type_I, Obesity_Type_II, Obesity_Type_III</td><td>List(Insufficient_Weight, Obesity_Type_III, Normal_Weight, Obesity_Type_I, Overweight_Level_I, Overweight_Level_II, Obesity_Type_II)</td></tr><tr><td>SCC</td><td>2111</td><td>0</td><td>0.00</td><td>2</td><td>100.0</td><td>✅ OK</td><td>Valores válidos: yes, no</td><td>List(no, yes)</td></tr><tr><td>SMOKE</td><td>2111</td><td>0</td><td>0.00</td><td>2</td><td>100.0</td><td>✅ OK</td><td>Valores válidos: yes, no</td><td>List(no, yes)</td></tr><tr><td>TUE</td><td>2111</td><td>0</td><td>0.00</td><td>1129</td><td>100.0</td><td>✅ OK</td><td>Intervalo válido: 0-2 horas diárias</td><td>List(0.0, 2.0)</td></tr><tr><td>Weight</td><td>2111</td><td>0</td><td>0.00</td><td>1525</td><td>100.0</td><td>✅ OK</td><td>Intervalo válido: 30kg - 300kg</td><td>List(39.0, 173.0)</td></tr><tr><td>family_history_with_overweight</td><td>2111</td><td>0</td><td>0.00</td><td>2</td><td>100.0</td><td>✅ OK</td><td>Valores válidos: yes, no</td><td>List(no, yes)</td></tr></tbody></table></div>"
      ]
     },
     "metadata": {
      "application/vnd.databricks.v1+output": {
       "addedWidgets": {},
       "aggData": [],
       "aggError": "",
       "aggOverflow": false,
       "aggSchema": [],
       "aggSeriesLimitReached": false,
       "aggType": "",
       "arguments": {},
       "columnCustomDisplayInfos": {},
       "data": [
        [
         "Age",
         2111,
         0,
         "0.00",
         1402,
         100.0,
         "✅ OK",
         "Intervalo válido: 14-100 anos",
         [
          "14.0",
          "61.0"
         ]
        ],
        [
         "CAEC",
         2111,
         0,
         "0.00",
         4,
         100.0,
         "✅ OK",
         "Valores válidos: no, Sometimes, Frequently, Always",
         [
          "no",
          "Always",
          "Sometimes",
          "Frequently"
         ]
        ],
        [
         "CALC",
         2111,
         0,
         "0.00",
         4,
         100.0,
         "✅ OK",
         "Valores válidos: no, Sometimes, Frequently, Always",
         [
          "no",
          "Always",
          "Sometimes",
          "Frequently"
         ]
        ],
        [
         "CH2O",
         2111,
         0,
         "0.00",
         1268,
         100.0,
         "✅ OK",
         "Intervalo válido: 1-3 (escala Likert)",
         [
          "1.0",
          "3.0"
         ]
        ],
        [
         "FAF",
         2111,
         0,
         "0.00",
         1190,
         100.0,
         "✅ OK",
         "Intervalo válido: 0-3 (escala Likert)",
         [
          "0.0",
          "3.0"
         ]
        ],
        [
         "FAVC",
         2111,
         0,
         "0.00",
         2,
         100.0,
         "✅ OK",
         "Valores válidos: yes, no",
         [
          "no",
          "yes"
         ]
        ],
        [
         "FCVC",
         2111,
         0,
         "0.00",
         810,
         100.0,
         "✅ OK",
         "Intervalo válido: 1-3 (escala Likert)",
         [
          "1.0",
          "3.0"
         ]
        ],
        [
         "Gender",
         2111,
         0,
         "0.00",
         2,
         100.0,
         "✅ OK",
         "Valores válidos: Male, Female",
         [
          "Female",
          "Male"
         ]
        ],
        [
         "Height",
         2111,
         0,
         "0.00",
         1574,
         100.0,
         "✅ OK",
         "Intervalo válido: 1.2m - 2.5m",
         [
          "1.45",
          "1.98"
         ]
        ],
        [
         "MTRANS",
         2111,
         0,
         "0.00",
         5,
         100.0,
         "✅ OK",
         "Valores válidos: Public_Transportation, Walking, Automobile, Motorbike, Bike",
         [
          "Bike",
          "Walking",
          "Public_Transportation",
          "Motorbike",
          "Automobile"
         ]
        ],
        [
         "NCP",
         2111,
         0,
         "0.00",
         635,
         100.0,
         "✅ OK",
         "Intervalo válido: 1-4 refeições diárias",
         [
          "1.0",
          "4.0"
         ]
        ],
        [
         "NObeyesdad",
         2111,
         0,
         "0.00",
         7,
         100.0,
         "✅ OK",
         "Valores válidos: Insufficient_Weight, Normal_Weight, Overweight_Level_I, Overweight_Level_II, Obesity_Type_I, Obesity_Type_II, Obesity_Type_III",
         [
          "Insufficient_Weight",
          "Obesity_Type_III",
          "Normal_Weight",
          "Obesity_Type_I",
          "Overweight_Level_I",
          "Overweight_Level_II",
          "Obesity_Type_II"
         ]
        ],
        [
         "SCC",
         2111,
         0,
         "0.00",
         2,
         100.0,
         "✅ OK",
         "Valores válidos: yes, no",
         [
          "no",
          "yes"
         ]
        ],
        [
         "SMOKE",
         2111,
         0,
         "0.00",
         2,
         100.0,
         "✅ OK",
         "Valores válidos: yes, no",
         [
          "no",
          "yes"
         ]
        ],
        [
         "TUE",
         2111,
         0,
         "0.00",
         1129,
         100.0,
         "✅ OK",
         "Intervalo válido: 0-2 horas diárias",
         [
          "0.0",
          "2.0"
         ]
        ],
        [
         "Weight",
         2111,
         0,
         "0.00",
         1525,
         100.0,
         "✅ OK",
         "Intervalo válido: 30kg - 300kg",
         [
          "39.0",
          "173.0"
         ]
        ],
        [
         "family_history_with_overweight",
         2111,
         0,
         "0.00",
         2,
         100.0,
         "✅ OK",
         "Valores válidos: yes, no",
         [
          "no",
          "yes"
         ]
        ]
       ],
       "datasetInfos": [],
       "dbfsResultPath": null,
       "isJsonSchema": true,
       "metadata": {},
       "overflow": false,
       "plotOptions": {
        "customPlotOptions": {},
        "displayType": "table",
        "pivotAggregation": null,
        "pivotColumns": null,
        "xColumns": null,
        "yColumns": null
       },
       "removedWidgets": [],
       "schema": [
        {
         "metadata": "{}",
         "name": "column_name",
         "type": "\"string\""
        },
        {
         "metadata": "{}",
         "name": "total_rows",
         "type": "\"long\""
        },
        {
         "metadata": "{}",
         "name": "null_count",
         "type": "\"long\""
        },
        {
         "metadata": "{}",
         "name": "null_percentage",
         "type": "\"decimal(27,2)\""
        },
        {
         "metadata": "{}",
         "name": "distinct_values",
         "type": "\"long\""
        },
        {
         "metadata": "{}",
         "name": "validity_percentage",
         "type": "\"double\""
        },
        {
         "metadata": "{}",
         "name": "status",
         "type": "\"string\""
        },
        {
         "metadata": "{}",
         "name": "validation_rule",
         "type": "\"string\""
        },
        {
         "metadata": "{}",
         "name": "sample_values",
         "type": "{\"type\":\"array\",\"elementType\":\"string\",\"containsNull\":true}"
        }
       ],
       "type": "table"
      }
     },
     "output_type": "display_data"
    }
   ],
   "source": [
    "%sql\n",
    "WITH column_stats AS (\n",
    "  -- Gender\n",
    "  SELECT\n",
    "    'Gender' AS column_name,\n",
    "    COUNT(*) AS total_rows,\n",
    "    COUNT(DISTINCT Gender) AS distinct_values,\n",
    "    SUM(CASE WHEN Gender IS NULL THEN 1 ELSE 0 END) AS null_count,\n",
    "    ROUND(AVG(CASE WHEN Gender IN ('Male', 'Female') THEN 1 ELSE 0 END) * 100, 2) AS validity_percentage,\n",
    "    COLLECT_SET(Gender) AS sample_values,\n",
    "    'Valores válidos: Male, Female' AS validation_rule\n",
    "  FROM bronze.obesity_raw\n",
    "  \n",
    "  UNION ALL\n",
    "  \n",
    "  -- Age\n",
    "  SELECT\n",
    "    'Age' AS column_name,\n",
    "    COUNT(*) AS total_rows,\n",
    "    COUNT(DISTINCT Age) AS distinct_values,\n",
    "    SUM(CASE WHEN Age IS NULL THEN 1 ELSE 0 END) AS null_count,\n",
    "    ROUND(AVG(CASE WHEN Age BETWEEN 14 AND 100 THEN 1 ELSE 0 END) * 100, 2) AS validity_percentage,\n",
    "    ARRAY(MIN(Age), MAX(Age)) AS sample_values,\n",
    "    'Intervalo válido: 14-100 anos' AS validation_rule\n",
    "  FROM bronze.obesity_raw\n",
    "  \n",
    "  UNION ALL\n",
    "  \n",
    "  -- Height\n",
    "  SELECT\n",
    "    'Height' AS column_name,\n",
    "    COUNT(*) AS total_rows,\n",
    "    COUNT(DISTINCT Height) AS distinct_values,\n",
    "    SUM(CASE WHEN Height IS NULL THEN 1 ELSE 0 END) AS null_count,\n",
    "    ROUND(AVG(CASE WHEN Height BETWEEN 1.2 AND 2.5 THEN 1 ELSE 0 END) * 100, 2) AS validity_percentage,\n",
    "    ARRAY(MIN(Height), MAX(Height)) AS sample_values,\n",
    "    'Intervalo válido: 1.2m - 2.5m' AS validation_rule\n",
    "  FROM bronze.obesity_raw\n",
    "  \n",
    "  UNION ALL\n",
    "  \n",
    "  -- Weight\n",
    "  SELECT\n",
    "    'Weight' AS column_name,\n",
    "    COUNT(*) AS total_rows,\n",
    "    COUNT(DISTINCT Weight) AS distinct_values,\n",
    "    SUM(CASE WHEN Weight IS NULL THEN 1 ELSE 0 END) AS null_count,\n",
    "    ROUND(AVG(CASE WHEN Weight BETWEEN 30 AND 300 THEN 1 ELSE 0 END) * 100, 2) AS validity_percentage,\n",
    "    ARRAY(MIN(Weight), MAX(Weight)) AS sample_values,\n",
    "    'Intervalo válido: 30kg - 300kg' AS validation_rule\n",
    "  FROM bronze.obesity_raw\n",
    "  \n",
    "  UNION ALL\n",
    "  \n",
    "  -- family_history_with_overweight\n",
    "  SELECT\n",
    "    'family_history_with_overweight' AS column_name,\n",
    "    COUNT(*) AS total_rows,\n",
    "    COUNT(DISTINCT family_history_with_overweight) AS distinct_values,\n",
    "    SUM(CASE WHEN family_history_with_overweight IS NULL THEN 1 ELSE 0 END) AS null_count,\n",
    "    ROUND(AVG(CASE WHEN family_history_with_overweight IN ('yes', 'no') THEN 1 ELSE 0 END) * 100, 2) AS validity_percentage,\n",
    "    COLLECT_SET(family_history_with_overweight) AS sample_values,\n",
    "    'Valores válidos: yes, no' AS validation_rule\n",
    "  FROM bronze.obesity_raw\n",
    "  \n",
    "  UNION ALL\n",
    "  \n",
    "  -- FAVC\n",
    "  SELECT\n",
    "    'FAVC' AS column_name,\n",
    "    COUNT(*) AS total_rows,\n",
    "    COUNT(DISTINCT FAVC) AS distinct_values,\n",
    "    SUM(CASE WHEN FAVC IS NULL THEN 1 ELSE 0 END) AS null_count,\n",
    "    ROUND(AVG(CASE WHEN FAVC IN ('yes', 'no') THEN 1 ELSE 0 END) * 100, 2) AS validity_percentage,\n",
    "    COLLECT_SET(FAVC) AS sample_values,\n",
    "    'Valores válidos: yes, no' AS validation_rule\n",
    "  FROM bronze.obesity_raw\n",
    "  \n",
    "  UNION ALL\n",
    "  \n",
    "  -- FCVC\n",
    "  SELECT\n",
    "    'FCVC' AS column_name,\n",
    "    COUNT(*) AS total_rows,\n",
    "    COUNT(DISTINCT FCVC) AS distinct_values,\n",
    "    SUM(CASE WHEN FCVC IS NULL THEN 1 ELSE 0 END) AS null_count,\n",
    "    ROUND(AVG(CASE WHEN FCVC BETWEEN 1 AND 3 THEN 1 ELSE 0 END) * 100, 2) AS validity_percentage,\n",
    "    ARRAY(MIN(FCVC), MAX(FCVC)) AS sample_values,\n",
    "    'Intervalo válido: 1-3 (escala Likert)' AS validation_rule\n",
    "  FROM bronze.obesity_raw\n",
    "  \n",
    "  UNION ALL\n",
    "  \n",
    "  -- NCP\n",
    "  SELECT\n",
    "    'NCP' AS column_name,\n",
    "    COUNT(*) AS total_rows,\n",
    "    COUNT(DISTINCT NCP) AS distinct_values,\n",
    "    SUM(CASE WHEN NCP IS NULL THEN 1 ELSE 0 END) AS null_count,\n",
    "    ROUND(AVG(CASE WHEN NCP BETWEEN 1 AND 4 THEN 1 ELSE 0 END) * 100, 2) AS validity_percentage,\n",
    "    ARRAY(MIN(NCP), MAX(NCP)) AS sample_values,\n",
    "    'Intervalo válido: 1-4 refeições diárias' AS validation_rule\n",
    "  FROM bronze.obesity_raw\n",
    "  \n",
    "  UNION ALL\n",
    "  \n",
    "  -- CAEC\n",
    "  SELECT\n",
    "    'CAEC' AS column_name,\n",
    "    COUNT(*) AS total_rows,\n",
    "    COUNT(DISTINCT CAEC) AS distinct_values,\n",
    "    SUM(CASE WHEN CAEC IS NULL THEN 1 ELSE 0 END) AS null_count,\n",
    "    ROUND(AVG(CASE WHEN CAEC IN ('no', 'Sometimes', 'Frequently', 'Always') THEN 1 ELSE 0 END) * 100, 2) AS validity_percentage,\n",
    "    COLLECT_SET(CAEC) AS sample_values,\n",
    "    'Valores válidos: no, Sometimes, Frequently, Always' AS validation_rule\n",
    "  FROM bronze.obesity_raw\n",
    "  \n",
    "  UNION ALL\n",
    "  \n",
    "  -- SMOKE\n",
    "  SELECT\n",
    "    'SMOKE' AS column_name,\n",
    "    COUNT(*) AS total_rows,\n",
    "    COUNT(DISTINCT SMOKE) AS distinct_values,\n",
    "    SUM(CASE WHEN SMOKE IS NULL THEN 1 ELSE 0 END) AS null_count,\n",
    "    ROUND(AVG(CASE WHEN SMOKE IN ('yes', 'no') THEN 1 ELSE 0 END) * 100, 2) AS validity_percentage,\n",
    "    COLLECT_SET(SMOKE) AS sample_values,\n",
    "    'Valores válidos: yes, no' AS validation_rule\n",
    "  FROM bronze.obesity_raw\n",
    "  \n",
    "  UNION ALL\n",
    "  \n",
    "  -- CH2O\n",
    "  SELECT\n",
    "    'CH2O' AS column_name,\n",
    "    COUNT(*) AS total_rows,\n",
    "    COUNT(DISTINCT CH2O) AS distinct_values,\n",
    "    SUM(CASE WHEN CH2O IS NULL THEN 1 ELSE 0 END) AS null_count,\n",
    "    ROUND(AVG(CASE WHEN CH2O BETWEEN 1 AND 3 THEN 1 ELSE 0 END) * 100, 2) AS validity_percentage,\n",
    "    ARRAY(MIN(CH2O), MAX(CH2O)) AS sample_values,\n",
    "    'Intervalo válido: 1-3 (escala Likert)' AS validation_rule\n",
    "  FROM bronze.obesity_raw\n",
    "  \n",
    "  UNION ALL\n",
    "  \n",
    "  -- SCC\n",
    "  SELECT\n",
    "    'SCC' AS column_name,\n",
    "    COUNT(*) AS total_rows,\n",
    "    COUNT(DISTINCT SCC) AS distinct_values,\n",
    "    SUM(CASE WHEN SCC IS NULL THEN 1 ELSE 0 END) AS null_count,\n",
    "    ROUND(AVG(CASE WHEN SCC IN ('yes', 'no') THEN 1 ELSE 0 END) * 100, 2) AS validity_percentage,\n",
    "    COLLECT_SET(SCC) AS sample_values,\n",
    "    'Valores válidos: yes, no' AS validation_rule\n",
    "  FROM bronze.obesity_raw\n",
    "  \n",
    "  UNION ALL\n",
    "  \n",
    "  -- FAF\n",
    "  SELECT\n",
    "    'FAF' AS column_name,\n",
    "    COUNT(*) AS total_rows,\n",
    "    COUNT(DISTINCT FAF) AS distinct_values,\n",
    "    SUM(CASE WHEN FAF IS NULL THEN 1 ELSE 0 END) AS null_count,\n",
    "    ROUND(AVG(CASE WHEN FAF BETWEEN 0 AND 3 THEN 1 ELSE 0 END) * 100, 2) AS validity_percentage,\n",
    "    ARRAY(MIN(FAF), MAX(FAF)) AS sample_values,\n",
    "    'Intervalo válido: 0-3 (escala Likert)' AS validation_rule\n",
    "  FROM bronze.obesity_raw\n",
    "  \n",
    "  UNION ALL\n",
    "  \n",
    "  -- TUE\n",
    "  SELECT\n",
    "    'TUE' AS column_name,\n",
    "    COUNT(*) AS total_rows,\n",
    "    COUNT(DISTINCT TUE) AS distinct_values,\n",
    "    SUM(CASE WHEN TUE IS NULL THEN 1 ELSE 0 END) AS null_count,\n",
    "    ROUND(AVG(CASE WHEN TUE BETWEEN 0 AND 2 THEN 1 ELSE 0 END) * 100, 2) AS validity_percentage,\n",
    "    ARRAY(MIN(TUE), MAX(TUE)) AS sample_values,\n",
    "    'Intervalo válido: 0-2 horas diárias' AS validation_rule\n",
    "  FROM bronze.obesity_raw\n",
    "  \n",
    "  UNION ALL\n",
    "  \n",
    "  -- CALC\n",
    "  SELECT\n",
    "    'CALC' AS column_name,\n",
    "    COUNT(*) AS total_rows,\n",
    "    COUNT(DISTINCT CALC) AS distinct_values,\n",
    "    SUM(CASE WHEN CALC IS NULL THEN 1 ELSE 0 END) AS null_count,\n",
    "    ROUND(AVG(CASE WHEN CALC IN ('no', 'Sometimes', 'Frequently', 'Always') THEN 1 ELSE 0 END) * 100, 2) AS validity_percentage,\n",
    "    COLLECT_SET(CALC) AS sample_values,\n",
    "    'Valores válidos: no, Sometimes, Frequently, Always' AS validation_rule\n",
    "  FROM bronze.obesity_raw\n",
    "  \n",
    "  UNION ALL\n",
    "  \n",
    "  -- MTRANS\n",
    "  SELECT\n",
    "    'MTRANS' AS column_name,\n",
    "    COUNT(*) AS total_rows,\n",
    "    COUNT(DISTINCT MTRANS) AS distinct_values,\n",
    "    SUM(CASE WHEN MTRANS IS NULL THEN 1 ELSE 0 END) AS null_count,\n",
    "    ROUND(AVG(CASE WHEN MTRANS IN ('Public_Transportation', 'Walking', 'Automobile', 'Motorbike', 'Bike') THEN 1 ELSE 0 END) * 100, 2) AS validity_percentage,\n",
    "    COLLECT_SET(MTRANS) AS sample_values,\n",
    "    'Valores válidos: Public_Transportation, Walking, Automobile, Motorbike, Bike' AS validation_rule\n",
    "  FROM bronze.obesity_raw\n",
    "  \n",
    "  UNION ALL\n",
    "  \n",
    "  -- NObeyesdad\n",
    "  SELECT\n",
    "    'NObeyesdad' AS column_name,\n",
    "    COUNT(*) AS total_rows,\n",
    "    COUNT(DISTINCT NObeyesdad) AS distinct_values,\n",
    "    SUM(CASE WHEN NObeyesdad IS NULL THEN 1 ELSE 0 END) AS null_count,\n",
    "    100 AS validity_percentage, -- Assume-se que todos os valores são válidos\n",
    "    COLLECT_SET(NObeyesdad) AS sample_values,\n",
    "    'Valores válidos: Insufficient_Weight, Normal_Weight, Overweight_Level_I, Overweight_Level_II, Obesity_Type_I, Obesity_Type_II, Obesity_Type_III' AS validation_rule\n",
    "  FROM bronze.obesity_raw\n",
    ")\n",
    "\n",
    "SELECT\n",
    "  column_name,\n",
    "  total_rows,\n",
    "  null_count,\n",
    "  ROUND((null_count * 100.0 / total_rows), 2) AS null_percentage,\n",
    "  distinct_values,\n",
    "  validity_percentage,\n",
    "  CASE\n",
    "    WHEN null_percentage > 5 THEN '❌ Alta taxa de nulos'\n",
    "    WHEN validity_percentage < 100 THEN '⚠️ Valores inválidos'\n",
    "    ELSE '✅ OK'\n",
    "  END AS status,\n",
    "  validation_rule,\n",
    "  sample_values\n",
    "FROM column_stats\n",
    "ORDER BY \n",
    "  CASE \n",
    "    WHEN status LIKE '❌%' THEN 0\n",
    "    WHEN status LIKE '⚠️%' THEN 1\n",
    "    ELSE 2\n",
    "  END,\n",
    "  column_name;"
   ]
  },
  {
   "cell_type": "code",
   "execution_count": 0,
   "metadata": {
    "application/vnd.databricks.v1+cell": {
     "cellMetadata": {
      "byteLimit": 2048000,
      "implicitDf": true,
      "rowLimit": 10000
     },
     "inputWidgets": {},
     "nuid": "426f436f-de7c-466c-8bc8-e5aec872df8d",
     "showTitle": true,
     "tableResultSettingsMap": {},
     "title": "Identificando Linhas duplicadas na Tabela da Camada Bronze"
    }
   },
   "outputs": [
    {
     "output_type": "display_data",
     "data": {
      "text/html": [
       "<style scoped>\n",
       "  .table-result-container {\n",
       "    max-height: 300px;\n",
       "    overflow: auto;\n",
       "  }\n",
       "  table, th, td {\n",
       "    border: 1px solid black;\n",
       "    border-collapse: collapse;\n",
       "  }\n",
       "  th, td {\n",
       "    padding: 5px;\n",
       "  }\n",
       "  th {\n",
       "    text-align: left;\n",
       "  }\n",
       "</style><div class='table-result-container'><table class='table-result'><thead style='background-color: white'><tr><th>Gender</th><th>Age</th><th>Height</th><th>Weight</th><th>family_history_with_overweight</th><th>FAVC</th><th>FCVC</th><th>NCP</th><th>CAEC</th><th>SMOKE</th><th>CH2O</th><th>SCC</th><th>FAF</th><th>TUE</th><th>CALC</th><th>MTRANS</th><th>NObeyesdad</th><th>record_count</th></tr></thead><tbody><tr><td>Male</td><td>21.0</td><td>1.62</td><td>70.0</td><td>no</td><td>yes</td><td>2.0</td><td>1.0</td><td>no</td><td>no</td><td>3.0</td><td>no</td><td>1.0</td><td>0.0</td><td>Sometimes</td><td>Public_Transportation</td><td>Overweight_Level_I</td><td>15</td></tr><tr><td>Female</td><td>21.0</td><td>1.52</td><td>42.0</td><td>no</td><td>yes</td><td>3.0</td><td>1.0</td><td>Frequently</td><td>no</td><td>1.0</td><td>no</td><td>0.0</td><td>0.0</td><td>Sometimes</td><td>Public_Transportation</td><td>Insufficient_Weight</td><td>4</td></tr><tr><td>Male</td><td>18.0</td><td>1.72</td><td>53.0</td><td>yes</td><td>yes</td><td>2.0</td><td>3.0</td><td>Sometimes</td><td>no</td><td>2.0</td><td>no</td><td>0.0</td><td>2.0</td><td>Sometimes</td><td>Public_Transportation</td><td>Insufficient_Weight</td><td>2</td></tr><tr><td>Female</td><td>21.0</td><td>1.52</td><td>42.0</td><td>no</td><td>no</td><td>3.0</td><td>1.0</td><td>Frequently</td><td>no</td><td>1.0</td><td>no</td><td>0.0</td><td>0.0</td><td>Sometimes</td><td>Public_Transportation</td><td>Insufficient_Weight</td><td>2</td></tr><tr><td>Female</td><td>22.0</td><td>1.69</td><td>65.0</td><td>yes</td><td>yes</td><td>2.0</td><td>3.0</td><td>Sometimes</td><td>no</td><td>2.0</td><td>no</td><td>1.0</td><td>1.0</td><td>Sometimes</td><td>Public_Transportation</td><td>Normal_Weight</td><td>2</td></tr><tr><td>Female</td><td>25.0</td><td>1.57</td><td>55.0</td><td>no</td><td>yes</td><td>2.0</td><td>1.0</td><td>Sometimes</td><td>no</td><td>2.0</td><td>no</td><td>2.0</td><td>0.0</td><td>Sometimes</td><td>Public_Transportation</td><td>Normal_Weight</td><td>2</td></tr><tr><td>Female</td><td>16.0</td><td>1.66</td><td>58.0</td><td>no</td><td>no</td><td>2.0</td><td>1.0</td><td>Sometimes</td><td>no</td><td>1.0</td><td>no</td><td>0.0</td><td>1.0</td><td>no</td><td>Walking</td><td>Normal_Weight</td><td>2</td></tr><tr><td>Female</td><td>18.0</td><td>1.62</td><td>55.0</td><td>yes</td><td>yes</td><td>2.0</td><td>3.0</td><td>Frequently</td><td>no</td><td>1.0</td><td>no</td><td>1.0</td><td>1.0</td><td>no</td><td>Public_Transportation</td><td>Normal_Weight</td><td>2</td></tr><tr><td>Male</td><td>22.0</td><td>1.74</td><td>75.0</td><td>yes</td><td>yes</td><td>3.0</td><td>3.0</td><td>Frequently</td><td>no</td><td>1.0</td><td>no</td><td>1.0</td><td>0.0</td><td>no</td><td>Automobile</td><td>Normal_Weight</td><td>2</td></tr></tbody></table></div>"
      ]
     },
     "metadata": {
      "application/vnd.databricks.v1+output": {
       "addedWidgets": {},
       "aggData": [],
       "aggError": "",
       "aggOverflow": false,
       "aggSchema": [],
       "aggSeriesLimitReached": false,
       "aggType": "",
       "arguments": {},
       "columnCustomDisplayInfos": {},
       "data": [
        [
         "Male",
         21.0,
         1.62,
         70.0,
         "no",
         "yes",
         2.0,
         1.0,
         "no",
         "no",
         3.0,
         "no",
         1.0,
         0.0,
         "Sometimes",
         "Public_Transportation",
         "Overweight_Level_I",
         15
        ],
        [
         "Female",
         21.0,
         1.52,
         42.0,
         "no",
         "yes",
         3.0,
         1.0,
         "Frequently",
         "no",
         1.0,
         "no",
         0.0,
         0.0,
         "Sometimes",
         "Public_Transportation",
         "Insufficient_Weight",
         4
        ],
        [
         "Male",
         18.0,
         1.72,
         53.0,
         "yes",
         "yes",
         2.0,
         3.0,
         "Sometimes",
         "no",
         2.0,
         "no",
         0.0,
         2.0,
         "Sometimes",
         "Public_Transportation",
         "Insufficient_Weight",
         2
        ],
        [
         "Female",
         21.0,
         1.52,
         42.0,
         "no",
         "no",
         3.0,
         1.0,
         "Frequently",
         "no",
         1.0,
         "no",
         0.0,
         0.0,
         "Sometimes",
         "Public_Transportation",
         "Insufficient_Weight",
         2
        ],
        [
         "Female",
         22.0,
         1.69,
         65.0,
         "yes",
         "yes",
         2.0,
         3.0,
         "Sometimes",
         "no",
         2.0,
         "no",
         1.0,
         1.0,
         "Sometimes",
         "Public_Transportation",
         "Normal_Weight",
         2
        ],
        [
         "Female",
         25.0,
         1.57,
         55.0,
         "no",
         "yes",
         2.0,
         1.0,
         "Sometimes",
         "no",
         2.0,
         "no",
         2.0,
         0.0,
         "Sometimes",
         "Public_Transportation",
         "Normal_Weight",
         2
        ],
        [
         "Female",
         16.0,
         1.66,
         58.0,
         "no",
         "no",
         2.0,
         1.0,
         "Sometimes",
         "no",
         1.0,
         "no",
         0.0,
         1.0,
         "no",
         "Walking",
         "Normal_Weight",
         2
        ],
        [
         "Female",
         18.0,
         1.62,
         55.0,
         "yes",
         "yes",
         2.0,
         3.0,
         "Frequently",
         "no",
         1.0,
         "no",
         1.0,
         1.0,
         "no",
         "Public_Transportation",
         "Normal_Weight",
         2
        ],
        [
         "Male",
         22.0,
         1.74,
         75.0,
         "yes",
         "yes",
         3.0,
         3.0,
         "Frequently",
         "no",
         1.0,
         "no",
         1.0,
         0.0,
         "no",
         "Automobile",
         "Normal_Weight",
         2
        ]
       ],
       "datasetInfos": [],
       "dbfsResultPath": null,
       "isJsonSchema": true,
       "metadata": {},
       "overflow": false,
       "plotOptions": {
        "customPlotOptions": {},
        "displayType": "table",
        "pivotAggregation": null,
        "pivotColumns": null,
        "xColumns": null,
        "yColumns": null
       },
       "removedWidgets": [],
       "schema": [
        {
         "metadata": "{}",
         "name": "Gender",
         "type": "\"string\""
        },
        {
         "metadata": "{}",
         "name": "Age",
         "type": "\"double\""
        },
        {
         "metadata": "{}",
         "name": "Height",
         "type": "\"double\""
        },
        {
         "metadata": "{}",
         "name": "Weight",
         "type": "\"double\""
        },
        {
         "metadata": "{}",
         "name": "family_history_with_overweight",
         "type": "\"string\""
        },
        {
         "metadata": "{}",
         "name": "FAVC",
         "type": "\"string\""
        },
        {
         "metadata": "{}",
         "name": "FCVC",
         "type": "\"double\""
        },
        {
         "metadata": "{}",
         "name": "NCP",
         "type": "\"double\""
        },
        {
         "metadata": "{}",
         "name": "CAEC",
         "type": "\"string\""
        },
        {
         "metadata": "{}",
         "name": "SMOKE",
         "type": "\"string\""
        },
        {
         "metadata": "{}",
         "name": "CH2O",
         "type": "\"double\""
        },
        {
         "metadata": "{}",
         "name": "SCC",
         "type": "\"string\""
        },
        {
         "metadata": "{}",
         "name": "FAF",
         "type": "\"double\""
        },
        {
         "metadata": "{}",
         "name": "TUE",
         "type": "\"double\""
        },
        {
         "metadata": "{}",
         "name": "CALC",
         "type": "\"string\""
        },
        {
         "metadata": "{}",
         "name": "MTRANS",
         "type": "\"string\""
        },
        {
         "metadata": "{}",
         "name": "NObeyesdad",
         "type": "\"string\""
        },
        {
         "metadata": "{}",
         "name": "record_count",
         "type": "\"long\""
        }
       ],
       "type": "table"
      }
     },
     "output_type": "display_data"
    }
   ],
   "source": [
    "%sql\n",
    "SELECT \n",
    "  Gender,Age,Height,Weight,family_history_with_overweight,FAVC,FCVC,NCP,CAEC,SMOKE,CH2O,SCC,FAF,TUE,CALC,MTRANS,NObeyesdad, COUNT(*) as record_count\n",
    "FROM bronze.obesity_raw\n",
    "GROUP BY Gender,Age,Height,Weight,family_history_with_overweight,FAVC,FCVC,NCP,CAEC,SMOKE,CH2O,SCC,FAF,TUE,CALC,MTRANS,NObeyesdad\n",
    "HAVING COUNT(*) > 1\n",
    "ORDER BY record_count DESC;\n"
   ]
  },
  {
   "cell_type": "code",
   "execution_count": 0,
   "metadata": {
    "application/vnd.databricks.v1+cell": {
     "cellMetadata": {
      "byteLimit": 2048000,
      "implicitDf": true,
      "rowLimit": 10000
     },
     "inputWidgets": {},
     "nuid": "a28ae514-a78e-4e19-aabf-ca932720a1f6",
     "showTitle": true,
     "tableResultSettingsMap": {},
     "title": "Obtendo o total de linhas duplicadas"
    }
   },
   "outputs": [
    {
     "output_type": "display_data",
     "data": {
      "text/html": [
       "<style scoped>\n",
       "  .table-result-container {\n",
       "    max-height: 300px;\n",
       "    overflow: auto;\n",
       "  }\n",
       "  table, th, td {\n",
       "    border: 1px solid black;\n",
       "    border-collapse: collapse;\n",
       "  }\n",
       "  th, td {\n",
       "    padding: 5px;\n",
       "  }\n",
       "  th {\n",
       "    text-align: left;\n",
       "  }\n",
       "</style><div class='table-result-container'><table class='table-result'><thead style='background-color: white'><tr><th>total_duplicated_records</th></tr></thead><tbody><tr><td>24</td></tr></tbody></table></div>"
      ]
     },
     "metadata": {
      "application/vnd.databricks.v1+output": {
       "addedWidgets": {},
       "aggData": [],
       "aggError": "",
       "aggOverflow": false,
       "aggSchema": [],
       "aggSeriesLimitReached": false,
       "aggType": "",
       "arguments": {},
       "columnCustomDisplayInfos": {},
       "data": [
        [
         24
        ]
       ],
       "datasetInfos": [],
       "dbfsResultPath": null,
       "isJsonSchema": true,
       "metadata": {},
       "overflow": false,
       "plotOptions": {
        "customPlotOptions": {},
        "displayType": "table",
        "pivotAggregation": null,
        "pivotColumns": null,
        "xColumns": null,
        "yColumns": null
       },
       "removedWidgets": [],
       "schema": [
        {
         "metadata": "{}",
         "name": "total_duplicated_records",
         "type": "\"long\""
        }
       ],
       "type": "table"
      }
     },
     "output_type": "display_data"
    }
   ],
   "source": [
    "%sql\n",
    "WITH duplicated_rows AS (\n",
    "  SELECT \n",
    "    Gender, Age, Height, Weight, family_history_with_overweight, FAVC, FCVC, NCP, CAEC,\n",
    "    SMOKE, CH2O, SCC, FAF, TUE, CALC, MTRANS, NObeyesdad,\n",
    "    COUNT(*) AS record_count\n",
    "  FROM bronze.obesity_raw\n",
    "  GROUP BY Gender, Age, Height, Weight, family_history_with_overweight, FAVC, FCVC, NCP, CAEC,\n",
    "           SMOKE, CH2O, SCC, FAF, TUE, CALC, MTRANS, NObeyesdad\n",
    "  HAVING COUNT(*) > 1\n",
    ")\n",
    "SELECT \n",
    "  SUM(record_count - 1) AS total_duplicated_records\n",
    "FROM duplicated_rows;"
   ]
  },
  {
   "cell_type": "markdown",
   "metadata": {
    "application/vnd.databricks.v1+cell": {
     "cellMetadata": {
      "byteLimit": 2048000,
      "rowLimit": 10000
     },
     "inputWidgets": {},
     "nuid": "eea26626-96db-4d46-8d9e-8334eca3e74a",
     "showTitle": false,
     "tableResultSettingsMap": {},
     "title": ""
    }
   },
   "source": [
    "## 5. Carga e Modelagem (Modelo Estrela)"
   ]
  },
  {
   "cell_type": "markdown",
   "metadata": {
    "application/vnd.databricks.v1+cell": {
     "cellMetadata": {
      "byteLimit": 2048000,
      "rowLimit": 10000
     },
     "inputWidgets": {},
     "nuid": "90ee1363-5107-48c6-ac23-53821e75b379",
     "showTitle": false,
     "tableResultSettingsMap": {},
     "title": ""
    }
   },
   "source": [
    "### 5.1 Camada Silver (Clean)\n",
    "\n",
    "Inicialmente para criar a camada silver criamos o Database, e em seguida construimos a tabela silver.obesity_clean a partir da tabela bronze.obesity_raw, aplicando filtros, limpeza, padronização e transformações semânticas. O objetivo foi criar uma estrutura mais confiável e analiticamente útil.\n",
    "\n",
    "**Principais etapas realizadas:**  \n",
    "- Remoção de registros duplicados:\n",
    "  - Foi gerado o identificador **patient_key** por meio de uma função hash (MD5) aplicada à concatenação de todos os campos.\n",
    "  - Com o uso de **SELECT DISTINCT**, garantiu-se que cada registro fosse único, removendo os 9 registros duplicados identificados previamente.\n",
    "- Validação de Faixas Válidas:\n",
    "  - Aplicados filtros em **Age**, **Height** e **Weight** com base nos critérios definidos na verificação de qualidade.\n",
    "- Padronização de Dados:\n",
    "  - **Gender** foi convertido para letras maiúsculas e limpo.\n",
    "  - Campos categóricos como **family_history_with_overweight**, **FAVC**, **SMOKE**, **SCC**, etc., foram transformados em valores booleanos ou categorias normalizadas.\n",
    "  - Categorias como **CAEC**, **CALC**, e **MTRANS** foram reclassificadas em grupos mais analíticos (por exemplo, active, car, public_transport para o transporte).\n",
    "- Variáveis Derivadas:\n",
    "  - **age_group**: segmentação por faixa etária.\n",
    "  - **bmi**: cálculo do índice de massa corporal (IMC).\n",
    "  - **obesity_category**: classificação geral em underweight, normal, overweight, e obese, com base no campo NObeyesdad.\n",
    "- Adição de Metadados:\n",
    "  - A coluna **processed_at** registra o timestamp da transformação para fins de rastreabilidade.\n",
    "\n",
    "Ao fim da criação fizemos uma verificação de duplicatas na tabela criada, e não encontramos mais problemas.\n",
    "\n"
   ]
  },
  {
   "cell_type": "code",
   "execution_count": 0,
   "metadata": {
    "application/vnd.databricks.v1+cell": {
     "cellMetadata": {
      "byteLimit": 2048000,
      "implicitDf": true,
      "rowLimit": 10000
     },
     "inputWidgets": {},
     "nuid": "b5c779b3-2e09-4aa4-86a7-07572565c11b",
     "showTitle": true,
     "tableResultSettingsMap": {},
     "title": "Apagando o database \"silver\" para ser recriado"
    }
   },
   "outputs": [
    {
     "output_type": "display_data",
     "data": {
      "text/html": [
       "<style scoped>\n",
       "  .table-result-container {\n",
       "    max-height: 300px;\n",
       "    overflow: auto;\n",
       "  }\n",
       "  table, th, td {\n",
       "    border: 1px solid black;\n",
       "    border-collapse: collapse;\n",
       "  }\n",
       "  th, td {\n",
       "    padding: 5px;\n",
       "  }\n",
       "  th {\n",
       "    text-align: left;\n",
       "  }\n",
       "</style><div class='table-result-container'><table class='table-result'><thead style='background-color: white'><tr></tr></thead><tbody></tbody></table></div>"
      ]
     },
     "metadata": {
      "application/vnd.databricks.v1+output": {
       "addedWidgets": {},
       "aggData": [],
       "aggError": "",
       "aggOverflow": false,
       "aggSchema": [],
       "aggSeriesLimitReached": false,
       "aggType": "",
       "arguments": {},
       "columnCustomDisplayInfos": {},
       "data": [],
       "datasetInfos": [],
       "dbfsResultPath": null,
       "isJsonSchema": true,
       "metadata": {},
       "overflow": false,
       "plotOptions": {
        "customPlotOptions": {},
        "displayType": "table",
        "pivotAggregation": null,
        "pivotColumns": null,
        "xColumns": null,
        "yColumns": null
       },
       "removedWidgets": [],
       "schema": [],
       "type": "table"
      }
     },
     "output_type": "display_data"
    }
   ],
   "source": [
    "%sql DROP DATABASE IF EXISTS  silver CASCADE"
   ]
  },
  {
   "cell_type": "code",
   "execution_count": 0,
   "metadata": {
    "application/vnd.databricks.v1+cell": {
     "cellMetadata": {
      "byteLimit": 2048000,
      "implicitDf": true,
      "rowLimit": 10000
     },
     "inputWidgets": {},
     "nuid": "46001e4f-5d59-4561-bdcc-2ef9fd13c185",
     "showTitle": true,
     "tableResultSettingsMap": {},
     "title": "Recriando o database \"silver\""
    }
   },
   "outputs": [
    {
     "output_type": "display_data",
     "data": {
      "text/html": [
       "<style scoped>\n",
       "  .table-result-container {\n",
       "    max-height: 300px;\n",
       "    overflow: auto;\n",
       "  }\n",
       "  table, th, td {\n",
       "    border: 1px solid black;\n",
       "    border-collapse: collapse;\n",
       "  }\n",
       "  th, td {\n",
       "    padding: 5px;\n",
       "  }\n",
       "  th {\n",
       "    text-align: left;\n",
       "  }\n",
       "</style><div class='table-result-container'><table class='table-result'><thead style='background-color: white'><tr></tr></thead><tbody></tbody></table></div>"
      ]
     },
     "metadata": {
      "application/vnd.databricks.v1+output": {
       "addedWidgets": {},
       "aggData": [],
       "aggError": "",
       "aggOverflow": false,
       "aggSchema": [],
       "aggSeriesLimitReached": false,
       "aggType": "",
       "arguments": {},
       "columnCustomDisplayInfos": {},
       "data": [],
       "datasetInfos": [],
       "dbfsResultPath": null,
       "isJsonSchema": true,
       "metadata": {},
       "overflow": false,
       "plotOptions": {
        "customPlotOptions": {},
        "displayType": "table",
        "pivotAggregation": null,
        "pivotColumns": null,
        "xColumns": null,
        "yColumns": null
       },
       "removedWidgets": [],
       "schema": [],
       "type": "table"
      }
     },
     "output_type": "display_data"
    }
   ],
   "source": [
    "%sql\n",
    "CREATE DATABASE silver\n",
    "COMMENT \"Dados limpos e enriquecidos com regras de qualidade aplicadas\"\n",
    "LOCATION \"/mnt/silver\";"
   ]
  },
  {
   "cell_type": "code",
   "execution_count": 0,
   "metadata": {
    "application/vnd.databricks.v1+cell": {
     "cellMetadata": {
      "byteLimit": 2048000,
      "implicitDf": true,
      "rowLimit": 10000
     },
     "inputWidgets": {},
     "nuid": "91e17534-8cff-4c34-b242-45d55bfc4bb6",
     "showTitle": true,
     "tableResultSettingsMap": {},
     "title": "Criação da tabela silver com remoção de duplicatas exatas"
    }
   },
   "outputs": [
    {
     "output_type": "display_data",
     "data": {
      "text/html": [
       "<style scoped>\n",
       "  .table-result-container {\n",
       "    max-height: 300px;\n",
       "    overflow: auto;\n",
       "  }\n",
       "  table, th, td {\n",
       "    border: 1px solid black;\n",
       "    border-collapse: collapse;\n",
       "  }\n",
       "  th, td {\n",
       "    padding: 5px;\n",
       "  }\n",
       "  th {\n",
       "    text-align: left;\n",
       "  }\n",
       "</style><div class='table-result-container'><table class='table-result'><thead style='background-color: white'><tr><th>num_affected_rows</th><th>num_inserted_rows</th></tr></thead><tbody></tbody></table></div>"
      ]
     },
     "metadata": {
      "application/vnd.databricks.v1+output": {
       "addedWidgets": {},
       "aggData": [],
       "aggError": "",
       "aggOverflow": false,
       "aggSchema": [],
       "aggSeriesLimitReached": false,
       "aggType": "",
       "arguments": {},
       "columnCustomDisplayInfos": {},
       "data": [],
       "datasetInfos": [],
       "dbfsResultPath": null,
       "isJsonSchema": true,
       "metadata": {},
       "overflow": false,
       "plotOptions": {
        "customPlotOptions": {},
        "displayType": "table",
        "pivotAggregation": null,
        "pivotColumns": null,
        "xColumns": null,
        "yColumns": null
       },
       "removedWidgets": [],
       "schema": [
        {
         "metadata": "{}",
         "name": "num_affected_rows",
         "type": "\"long\""
        },
        {
         "metadata": "{}",
         "name": "num_inserted_rows",
         "type": "\"long\""
        }
       ],
       "type": "table"
      }
     },
     "output_type": "display_data"
    }
   ],
   "source": [
    "%sql\n",
    "-- Criação da tabela silver com remoção de duplicatas exatas\n",
    "CREATE TABLE IF NOT EXISTS silver.obesity_clean AS\n",
    "WITH base AS (\n",
    "  SELECT\n",
    "    MD5(CONCAT_WS('|', \n",
    "      TRIM(Gender), Age, Height, Weight, \n",
    "      family_history_with_overweight, FAVC, FCVC, NCP, CAEC, \n",
    "      SMOKE, CH2O, SCC, FAF, TUE, CALC, MTRANS, NObeyesdad\n",
    "    )) AS patient_key,\n",
    "    *\n",
    "    \n",
    "  FROM bronze.obesity_raw\n",
    "  WHERE \n",
    "    Age BETWEEN 14 AND 100 \n",
    "    AND Height BETWEEN 1.2 AND 2.5 \n",
    "    AND Weight BETWEEN 30 AND 300\n",
    ")\n",
    "SELECT DISTINCT -- Remove duplicatas automaticamente com base no patient_key\n",
    "  patient_key,\n",
    "  UPPER(TRIM(Gender)) AS gender,\n",
    "  CAST(Age AS INT) AS age,\n",
    "\n",
    "  -- Faixa Etária\n",
    "  CASE\n",
    "    WHEN age < 18 THEN 'adolescent'\n",
    "    WHEN age BETWEEN 18 AND 30 THEN 'young_adult'\n",
    "    WHEN age BETWEEN 31 AND 50 THEN 'adult'\n",
    "    ELSE 'senior'\n",
    "  END AS age_group,\n",
    "\n",
    "  -- Biometria\n",
    "  CAST(Height AS DECIMAL(10,4)) AS height_m,\n",
    "  CAST(Weight AS DECIMAL(10,4)) AS weight_kg,\n",
    "  ROUND(CAST(Weight AS DOUBLE) / POWER(CAST(Height AS DOUBLE), 2), 1) AS bmi,\n",
    "\n",
    "  -- Histórico familiar\n",
    "  CASE WHEN family_history_with_overweight = 'yes' THEN TRUE ELSE FALSE END AS has_family_history,\n",
    "\n",
    "  -- Hábitos alimentares\n",
    "  CASE WHEN FAVC = 'yes' THEN 'high_calorie' ELSE 'low_calorie' END AS calorie_intake_level,\n",
    "  CAST(FCVC AS DOUBLE) AS vegetable_intake_freq,\n",
    "  CAST(NCP AS INT) AS meals_per_day,\n",
    "  -- Campo CAEC (alimento entre refeições)\n",
    "  CASE\n",
    "    WHEN CAEC = 'no' THEN 'none'\n",
    "    WHEN CAEC = 'Sometimes' THEN 'sometimes'\n",
    "    WHEN CAEC = 'Frequently' THEN 'frequently'\n",
    "    WHEN CAEC = 'Always' THEN 'always'\n",
    "    ELSE 'unknown'\n",
    "  END AS eating_between_meals,\n",
    "\n",
    "  -- Campo CALC (Consumo de álcool)\n",
    "  CASE\n",
    "    WHEN CALC = 'no' THEN 'non_drinker'\n",
    "    WHEN CALC IN ('Sometimes', 'Frequently', 'Always') THEN LOWER(CALC)\n",
    "    ELSE 'unknown'\n",
    "  END AS alcohol_consumption,\n",
    "\n",
    "  -- Hábitos de saúde\n",
    "  CASE WHEN SMOKE = 'yes' THEN TRUE ELSE FALSE END AS is_smoker,\n",
    "  CAST(CH2O AS DOUBLE) AS water_intake,\n",
    "  CASE WHEN SCC = 'yes' THEN TRUE ELSE FALSE END AS monitors_calories,\n",
    "\n",
    "  -- Atividade física\n",
    "  CAST(FAF AS DOUBLE) AS physical_activity_freq,\n",
    "  CAST(TUE AS DOUBLE) AS screen_time_hours,\n",
    "\n",
    "  -- Transporte\n",
    "  CASE\n",
    "    WHEN MTRANS = 'Walking' THEN 'active'\n",
    "    WHEN MTRANS = 'Bike' THEN 'active'\n",
    "    WHEN MTRANS = 'Automobile' THEN 'car'\n",
    "    WHEN MTRANS = 'Public_Transportation' THEN 'public_transport'\n",
    "    ELSE 'other'\n",
    "  END AS transportation_type,\n",
    "\n",
    "  -- Níveis de obesidade\n",
    "  TRIM(NObeyesdad) AS obesity_level,\n",
    "  CASE\n",
    "    WHEN NObeyesdad = 'Normal_Weight' THEN 'normal'\n",
    "    WHEN NObeyesdad LIKE 'Overweight%' THEN 'overweight'\n",
    "    WHEN NObeyesdad LIKE 'Obesity%' THEN 'obese'\n",
    "    ELSE 'underweight'\n",
    "  END AS obesity_category,\n",
    "\n",
    "  -- Metadados\n",
    "  current_timestamp() AS processed_at\n",
    "FROM base;"
   ]
  },
  {
   "cell_type": "code",
   "execution_count": 0,
   "metadata": {
    "application/vnd.databricks.v1+cell": {
     "cellMetadata": {
      "byteLimit": 2048000,
      "implicitDf": true,
      "rowLimit": 10000
     },
     "inputWidgets": {},
     "nuid": "e26e3f44-3641-4aa4-93b9-752b0e25118f",
     "showTitle": true,
     "tableResultSettingsMap": {},
     "title": "Amostra dos dados da tabela silver criada"
    }
   },
   "outputs": [
    {
     "output_type": "display_data",
     "data": {
      "text/html": [
       "<style scoped>\n",
       "  .table-result-container {\n",
       "    max-height: 300px;\n",
       "    overflow: auto;\n",
       "  }\n",
       "  table, th, td {\n",
       "    border: 1px solid black;\n",
       "    border-collapse: collapse;\n",
       "  }\n",
       "  th, td {\n",
       "    padding: 5px;\n",
       "  }\n",
       "  th {\n",
       "    text-align: left;\n",
       "  }\n",
       "</style><div class='table-result-container'><table class='table-result'><thead style='background-color: white'><tr><th>patient_key</th><th>gender</th><th>age</th><th>age_group</th><th>height_m</th><th>weight_kg</th><th>bmi</th><th>has_family_history</th><th>calorie_intake_level</th><th>vegetable_intake_freq</th><th>meals_per_day</th><th>eating_between_meals</th><th>alcohol_consumption</th><th>is_smoker</th><th>water_intake</th><th>monitors_calories</th><th>physical_activity_freq</th><th>screen_time_hours</th><th>transportation_type</th><th>obesity_level</th><th>obesity_category</th><th>processed_at</th></tr></thead><tbody><tr><td>fd4d589c0c96dfd91baca2a2ac2d5001</td><td>MALE</td><td>18</td><td>young_adult</td><td>1.7081</td><td>51.3147</td><td>17.6</td><td>true</td><td>high_calorie</td><td>1.303878</td><td>3</td><td>sometimes</td><td>sometimes</td><td>false</td><td>1.755497</td><td>false</td><td>0.062932</td><td>1.672532</td><td>public_transport</td><td>Insufficient_Weight</td><td>underweight</td><td>2025-04-09T02:00:21.666+0000</td></tr><tr><td>41c5fd1e097f807578e8021fb1329abd</td><td>MALE</td><td>21</td><td>young_adult</td><td>1.7122</td><td>98.7000</td><td>33.7</td><td>true</td><td>high_calorie</td><td>2.0</td><td>2</td><td>sometimes</td><td>non_drinker</td><td>false</td><td>2.205977</td><td>false</td><td>2.698874</td><td>2.0</td><td>public_transport</td><td>Obesity_Type_I</td><td>obese</td><td>2025-04-09T02:00:21.666+0000</td></tr><tr><td>655411e1adb4032e225aa2195c766dd5</td><td>FEMALE</td><td>23</td><td>young_adult</td><td>1.6108</td><td>82.5330</td><td>31.8</td><td>true</td><td>high_calorie</td><td>2.09663</td><td>2</td><td>sometimes</td><td>non_drinker</td><td>false</td><td>2.432967</td><td>false</td><td>1.887012</td><td>0.0</td><td>public_transport</td><td>Obesity_Type_I</td><td>obese</td><td>2025-04-09T02:00:21.666+0000</td></tr><tr><td>74d0b8b0a2862482dd5f4a556a208611</td><td>MALE</td><td>18</td><td>young_adult</td><td>1.7387</td><td>50.2487</td><td>16.6</td><td>true</td><td>high_calorie</td><td>1.871213</td><td>3</td><td>sometimes</td><td>sometimes</td><td>false</td><td>1.283738</td><td>false</td><td>0.684879</td><td>1.487223</td><td>public_transport</td><td>Insufficient_Weight</td><td>underweight</td><td>2025-04-09T02:00:21.666+0000</td></tr><tr><td>66d6ff722631c2112289d5fc63aacd80</td><td>FEMALE</td><td>16</td><td>adolescent</td><td>1.6038</td><td>65.0000</td><td>25.3</td><td>true</td><td>high_calorie</td><td>2.543563</td><td>1</td><td>sometimes</td><td>sometimes</td><td>false</td><td>2.0</td><td>true</td><td>0.694281</td><td>1.056911</td><td>public_transport</td><td>Overweight_Level_I</td><td>overweight</td><td>2025-04-09T02:00:21.666+0000</td></tr></tbody></table></div>"
      ]
     },
     "metadata": {
      "application/vnd.databricks.v1+output": {
       "addedWidgets": {},
       "aggData": [],
       "aggError": "",
       "aggOverflow": false,
       "aggSchema": [],
       "aggSeriesLimitReached": false,
       "aggType": "",
       "arguments": {},
       "columnCustomDisplayInfos": {},
       "data": [
        [
         "fd4d589c0c96dfd91baca2a2ac2d5001",
         "MALE",
         18,
         "young_adult",
         "1.7081",
         "51.3147",
         17.6,
         true,
         "high_calorie",
         1.303878,
         3,
         "sometimes",
         "sometimes",
         false,
         1.755497,
         false,
         0.062932,
         1.672532,
         "public_transport",
         "Insufficient_Weight",
         "underweight",
         "2025-04-09T02:00:21.666+0000"
        ],
        [
         "41c5fd1e097f807578e8021fb1329abd",
         "MALE",
         21,
         "young_adult",
         "1.7122",
         "98.7000",
         33.7,
         true,
         "high_calorie",
         2.0,
         2,
         "sometimes",
         "non_drinker",
         false,
         2.205977,
         false,
         2.698874,
         2.0,
         "public_transport",
         "Obesity_Type_I",
         "obese",
         "2025-04-09T02:00:21.666+0000"
        ],
        [
         "655411e1adb4032e225aa2195c766dd5",
         "FEMALE",
         23,
         "young_adult",
         "1.6108",
         "82.5330",
         31.8,
         true,
         "high_calorie",
         2.09663,
         2,
         "sometimes",
         "non_drinker",
         false,
         2.432967,
         false,
         1.887012,
         0.0,
         "public_transport",
         "Obesity_Type_I",
         "obese",
         "2025-04-09T02:00:21.666+0000"
        ],
        [
         "74d0b8b0a2862482dd5f4a556a208611",
         "MALE",
         18,
         "young_adult",
         "1.7387",
         "50.2487",
         16.6,
         true,
         "high_calorie",
         1.871213,
         3,
         "sometimes",
         "sometimes",
         false,
         1.283738,
         false,
         0.684879,
         1.487223,
         "public_transport",
         "Insufficient_Weight",
         "underweight",
         "2025-04-09T02:00:21.666+0000"
        ],
        [
         "66d6ff722631c2112289d5fc63aacd80",
         "FEMALE",
         16,
         "adolescent",
         "1.6038",
         "65.0000",
         25.3,
         true,
         "high_calorie",
         2.543563,
         1,
         "sometimes",
         "sometimes",
         false,
         2.0,
         true,
         0.694281,
         1.056911,
         "public_transport",
         "Overweight_Level_I",
         "overweight",
         "2025-04-09T02:00:21.666+0000"
        ]
       ],
       "datasetInfos": [],
       "dbfsResultPath": null,
       "isJsonSchema": true,
       "metadata": {},
       "overflow": false,
       "plotOptions": {
        "customPlotOptions": {},
        "displayType": "table",
        "pivotAggregation": null,
        "pivotColumns": null,
        "xColumns": null,
        "yColumns": null
       },
       "removedWidgets": [],
       "schema": [
        {
         "metadata": "{}",
         "name": "patient_key",
         "type": "\"string\""
        },
        {
         "metadata": "{}",
         "name": "gender",
         "type": "\"string\""
        },
        {
         "metadata": "{}",
         "name": "age",
         "type": "\"integer\""
        },
        {
         "metadata": "{}",
         "name": "age_group",
         "type": "\"string\""
        },
        {
         "metadata": "{}",
         "name": "height_m",
         "type": "\"decimal(10,4)\""
        },
        {
         "metadata": "{}",
         "name": "weight_kg",
         "type": "\"decimal(10,4)\""
        },
        {
         "metadata": "{}",
         "name": "bmi",
         "type": "\"double\""
        },
        {
         "metadata": "{}",
         "name": "has_family_history",
         "type": "\"boolean\""
        },
        {
         "metadata": "{}",
         "name": "calorie_intake_level",
         "type": "\"string\""
        },
        {
         "metadata": "{}",
         "name": "vegetable_intake_freq",
         "type": "\"double\""
        },
        {
         "metadata": "{}",
         "name": "meals_per_day",
         "type": "\"integer\""
        },
        {
         "metadata": "{}",
         "name": "eating_between_meals",
         "type": "\"string\""
        },
        {
         "metadata": "{}",
         "name": "alcohol_consumption",
         "type": "\"string\""
        },
        {
         "metadata": "{}",
         "name": "is_smoker",
         "type": "\"boolean\""
        },
        {
         "metadata": "{}",
         "name": "water_intake",
         "type": "\"double\""
        },
        {
         "metadata": "{}",
         "name": "monitors_calories",
         "type": "\"boolean\""
        },
        {
         "metadata": "{}",
         "name": "physical_activity_freq",
         "type": "\"double\""
        },
        {
         "metadata": "{}",
         "name": "screen_time_hours",
         "type": "\"double\""
        },
        {
         "metadata": "{}",
         "name": "transportation_type",
         "type": "\"string\""
        },
        {
         "metadata": "{}",
         "name": "obesity_level",
         "type": "\"string\""
        },
        {
         "metadata": "{}",
         "name": "obesity_category",
         "type": "\"string\""
        },
        {
         "metadata": "{}",
         "name": "processed_at",
         "type": "\"timestamp\""
        }
       ],
       "type": "table"
      }
     },
     "output_type": "display_data"
    }
   ],
   "source": [
    "%sql SELECT * FROM silver.obesity_clean LIMIT 5;\n"
   ]
  },
  {
   "cell_type": "code",
   "execution_count": 0,
   "metadata": {
    "application/vnd.databricks.v1+cell": {
     "cellMetadata": {
      "byteLimit": 2048000,
      "implicitDf": true,
      "rowLimit": 10000
     },
     "inputWidgets": {},
     "nuid": "2f4aedd8-24d4-46ea-915a-3e0cd67fcb79",
     "showTitle": true,
     "tableResultSettingsMap": {},
     "title": "Verificando se ainda existem linhas duplicadas na Tabela da Camada Silver"
    }
   },
   "outputs": [
    {
     "output_type": "display_data",
     "data": {
      "text/html": [
       "<style scoped>\n",
       "  .table-result-container {\n",
       "    max-height: 300px;\n",
       "    overflow: auto;\n",
       "  }\n",
       "  table, th, td {\n",
       "    border: 1px solid black;\n",
       "    border-collapse: collapse;\n",
       "  }\n",
       "  th, td {\n",
       "    padding: 5px;\n",
       "  }\n",
       "  th {\n",
       "    text-align: left;\n",
       "  }\n",
       "</style><div class='table-result-container'><table class='table-result'><thead style='background-color: white'><tr><th>gender</th><th>age</th><th>height_m</th><th>weight_kg</th><th>has_family_history</th><th>calorie_intake_level</th><th>vegetable_intake_freq</th><th>meals_per_day</th><th>eating_between_meals</th><th>is_smoker</th><th>water_intake</th><th>monitors_calories</th><th>physical_activity_freq</th><th>screen_time_hours</th><th>alcohol_consumption</th><th>transportation_type</th><th>obesity_level</th><th>patient_key</th><th>count</th></tr></thead><tbody></tbody></table></div>"
      ]
     },
     "metadata": {
      "application/vnd.databricks.v1+output": {
       "addedWidgets": {},
       "aggData": [],
       "aggError": "",
       "aggOverflow": false,
       "aggSchema": [],
       "aggSeriesLimitReached": false,
       "aggType": "",
       "arguments": {},
       "columnCustomDisplayInfos": {},
       "data": [],
       "datasetInfos": [],
       "dbfsResultPath": null,
       "isJsonSchema": true,
       "metadata": {},
       "overflow": false,
       "plotOptions": {
        "customPlotOptions": {},
        "displayType": "table",
        "pivotAggregation": null,
        "pivotColumns": null,
        "xColumns": null,
        "yColumns": null
       },
       "removedWidgets": [],
       "schema": [
        {
         "metadata": "{}",
         "name": "gender",
         "type": "\"string\""
        },
        {
         "metadata": "{}",
         "name": "age",
         "type": "\"integer\""
        },
        {
         "metadata": "{}",
         "name": "height_m",
         "type": "\"decimal(10,4)\""
        },
        {
         "metadata": "{}",
         "name": "weight_kg",
         "type": "\"decimal(10,4)\""
        },
        {
         "metadata": "{}",
         "name": "has_family_history",
         "type": "\"boolean\""
        },
        {
         "metadata": "{}",
         "name": "calorie_intake_level",
         "type": "\"string\""
        },
        {
         "metadata": "{}",
         "name": "vegetable_intake_freq",
         "type": "\"double\""
        },
        {
         "metadata": "{}",
         "name": "meals_per_day",
         "type": "\"integer\""
        },
        {
         "metadata": "{}",
         "name": "eating_between_meals",
         "type": "\"string\""
        },
        {
         "metadata": "{}",
         "name": "is_smoker",
         "type": "\"boolean\""
        },
        {
         "metadata": "{}",
         "name": "water_intake",
         "type": "\"double\""
        },
        {
         "metadata": "{}",
         "name": "monitors_calories",
         "type": "\"boolean\""
        },
        {
         "metadata": "{}",
         "name": "physical_activity_freq",
         "type": "\"double\""
        },
        {
         "metadata": "{}",
         "name": "screen_time_hours",
         "type": "\"double\""
        },
        {
         "metadata": "{}",
         "name": "alcohol_consumption",
         "type": "\"string\""
        },
        {
         "metadata": "{}",
         "name": "transportation_type",
         "type": "\"string\""
        },
        {
         "metadata": "{}",
         "name": "obesity_level",
         "type": "\"string\""
        },
        {
         "metadata": "{}",
         "name": "patient_key",
         "type": "\"string\""
        },
        {
         "metadata": "{}",
         "name": "count",
         "type": "\"long\""
        }
       ],
       "type": "table"
      }
     },
     "output_type": "display_data"
    }
   ],
   "source": [
    "%sql\n",
    "SELECT \n",
    "  gender, age, height_m, weight_kg, \n",
    "  has_family_history, calorie_intake_level, vegetable_intake_freq,\n",
    "  meals_per_day, eating_between_meals, is_smoker, water_intake,\n",
    "  monitors_calories, physical_activity_freq, screen_time_hours,\n",
    "  alcohol_consumption, transportation_type, obesity_level, patient_key,\n",
    "  COUNT(*) as count\n",
    "FROM silver.obesity_clean\n",
    "GROUP BY \n",
    "  gender, age, height_m, weight_kg, \n",
    "  has_family_history, calorie_intake_level, vegetable_intake_freq,\n",
    "  meals_per_day, eating_between_meals, is_smoker, water_intake,\n",
    "  monitors_calories, physical_activity_freq, screen_time_hours,\n",
    "  alcohol_consumption, transportation_type, obesity_level,patient_key\n",
    "HAVING COUNT(*) > 1;"
   ]
  },
  {
   "cell_type": "markdown",
   "metadata": {
    "application/vnd.databricks.v1+cell": {
     "cellMetadata": {
      "byteLimit": 2048000,
      "rowLimit": 10000
     },
     "inputWidgets": {},
     "nuid": "862e96e7-21c1-4259-8103-f9643961ffa1",
     "showTitle": false,
     "tableResultSettingsMap": {},
     "title": ""
    }
   },
   "source": [
    "### 5.2 Camada Gold (Modelo Estrela)\n",
    "\n",
    "Neste projeto escolhemos o modelo estrela (star schema) por sua simplicidade, eficiência e clareza na organização dos dados, especialmente voltado para análise e consumo em um ambiente de Data Warehouse. Ele permite uma separação lógica entre:\n",
    "- Fatos (dados quantitativos e de interesse de análise, como o nível de obesidade);\n",
    "- Dimensões (dados descritivos que fornecem contexto, como hábitos, atividade física e características dos pacientes).\n",
    "\n",
    "Além disso esse modelo oferece uma estrutura simples e intuitiva, facilitando a interpretação por analistas e usuários finais. Sua arquitetura com junções por chaves simples proporciona alta performance em consultas analíticas, além de permitir modularidade na manutenção e expansão das dimensões ou inclusão de novas métricas. Essa abordagem também está alinhada às boas práticas de modelagem dimensional propostas por Ralph Kimball, amplamente reconhecidas em ambientes de Data Warehousing.\n",
    "\n",
    "Inicialmente, criamos o database **gold** para ser utilizado como camada final do pipeline. Em seguida, foram criadas as seguintes tabelas dimensão:\n",
    "\n",
    "**DIM_PACIENTE**: Dados Demográficos e Biométricos\n",
    "\n",
    "**DIM_HABITOS**: Hábitos Alimentares e de Consumo\n",
    "\n",
    "**DIM_ATIVIDADE**: Comportamento Físico, Transporte e Uso de Tecnologia\n",
    "\n",
    "E a tabela fato:\n",
    "\n",
    "**FACT_OBESIDADE**: Métricas de obesidade com as referências às dimensões\n",
    "\n",
    "Posteriormente, realizamos a inserção dos dados transformados da tabela silver.obesity_clean para compor a camada gold. Por fim, foi executada uma verificação final de integridade entre as tabelas.\n",
    "\n",
    "⚠️ _**Vale ressaltar que, como utilizamos a versão Community do Databricks, o uso de constraints (chaves primárias e estrangeiras) não foi permitido. Por isso, a verificação de integridade foi essencial e as relações entre tabelas serão explicitamente descritas no Catálogo de Dados.**_\n",
    "\n"
   ]
  },
  {
   "cell_type": "code",
   "execution_count": 0,
   "metadata": {
    "application/vnd.databricks.v1+cell": {
     "cellMetadata": {
      "byteLimit": 2048000,
      "implicitDf": true,
      "rowLimit": 10000
     },
     "inputWidgets": {},
     "nuid": "8ffb1286-11b4-42fc-8ec1-8a60e9b3c566",
     "showTitle": true,
     "tableResultSettingsMap": {},
     "title": "Apagando o database \"gold\" para ser recriado"
    }
   },
   "outputs": [
    {
     "output_type": "display_data",
     "data": {
      "text/html": [
       "<style scoped>\n",
       "  .table-result-container {\n",
       "    max-height: 300px;\n",
       "    overflow: auto;\n",
       "  }\n",
       "  table, th, td {\n",
       "    border: 1px solid black;\n",
       "    border-collapse: collapse;\n",
       "  }\n",
       "  th, td {\n",
       "    padding: 5px;\n",
       "  }\n",
       "  th {\n",
       "    text-align: left;\n",
       "  }\n",
       "</style><div class='table-result-container'><table class='table-result'><thead style='background-color: white'><tr></tr></thead><tbody></tbody></table></div>"
      ]
     },
     "metadata": {
      "application/vnd.databricks.v1+output": {
       "addedWidgets": {},
       "aggData": [],
       "aggError": "",
       "aggOverflow": false,
       "aggSchema": [],
       "aggSeriesLimitReached": false,
       "aggType": "",
       "arguments": {},
       "columnCustomDisplayInfos": {},
       "data": [],
       "datasetInfos": [],
       "dbfsResultPath": null,
       "isJsonSchema": true,
       "metadata": {},
       "overflow": false,
       "plotOptions": {
        "customPlotOptions": {},
        "displayType": "table",
        "pivotAggregation": null,
        "pivotColumns": null,
        "xColumns": null,
        "yColumns": null
       },
       "removedWidgets": [],
       "schema": [],
       "type": "table"
      }
     },
     "output_type": "display_data"
    }
   ],
   "source": [
    "%sql DROP DATABASE IF EXISTS gold CASCADE"
   ]
  },
  {
   "cell_type": "code",
   "execution_count": 0,
   "metadata": {
    "application/vnd.databricks.v1+cell": {
     "cellMetadata": {
      "byteLimit": 2048000,
      "implicitDf": true,
      "rowLimit": 10000
     },
     "inputWidgets": {},
     "nuid": "56f8b047-c197-42e0-a216-d23abad1e708",
     "showTitle": true,
     "tableResultSettingsMap": {},
     "title": "Recriando o database \"gold\""
    }
   },
   "outputs": [
    {
     "output_type": "display_data",
     "data": {
      "text/html": [
       "<style scoped>\n",
       "  .table-result-container {\n",
       "    max-height: 300px;\n",
       "    overflow: auto;\n",
       "  }\n",
       "  table, th, td {\n",
       "    border: 1px solid black;\n",
       "    border-collapse: collapse;\n",
       "  }\n",
       "  th, td {\n",
       "    padding: 5px;\n",
       "  }\n",
       "  th {\n",
       "    text-align: left;\n",
       "  }\n",
       "</style><div class='table-result-container'><table class='table-result'><thead style='background-color: white'><tr></tr></thead><tbody></tbody></table></div>"
      ]
     },
     "metadata": {
      "application/vnd.databricks.v1+output": {
       "addedWidgets": {},
       "aggData": [],
       "aggError": "",
       "aggOverflow": false,
       "aggSchema": [],
       "aggSeriesLimitReached": false,
       "aggType": "",
       "arguments": {},
       "columnCustomDisplayInfos": {},
       "data": [],
       "datasetInfos": [],
       "dbfsResultPath": null,
       "isJsonSchema": true,
       "metadata": {},
       "overflow": false,
       "plotOptions": {
        "customPlotOptions": {},
        "displayType": "table",
        "pivotAggregation": null,
        "pivotColumns": null,
        "xColumns": null,
        "yColumns": null
       },
       "removedWidgets": [],
       "schema": [],
       "type": "table"
      }
     },
     "output_type": "display_data"
    }
   ],
   "source": [
    "%sql\n",
    "CREATE DATABASE gold\n",
    "COMMENT \"Dados para o Modelo Estrela\"\n",
    "LOCATION \"/mnt/gold\";"
   ]
  },
  {
   "cell_type": "code",
   "execution_count": 0,
   "metadata": {
    "application/vnd.databricks.v1+cell": {
     "cellMetadata": {
      "byteLimit": 2048000,
      "implicitDf": true,
      "rowLimit": 10000
     },
     "inputWidgets": {},
     "nuid": "559a604c-5814-4258-bb0f-46cddddfa131",
     "showTitle": true,
     "tableResultSettingsMap": {},
     "title": "Criando a DIM_PACIENTE (Dados Demográficos)"
    }
   },
   "outputs": [
    {
     "output_type": "display_data",
     "data": {
      "text/html": [
       "<style scoped>\n",
       "  .table-result-container {\n",
       "    max-height: 300px;\n",
       "    overflow: auto;\n",
       "  }\n",
       "  table, th, td {\n",
       "    border: 1px solid black;\n",
       "    border-collapse: collapse;\n",
       "  }\n",
       "  th, td {\n",
       "    padding: 5px;\n",
       "  }\n",
       "  th {\n",
       "    text-align: left;\n",
       "  }\n",
       "</style><div class='table-result-container'><table class='table-result'><thead style='background-color: white'><tr></tr></thead><tbody></tbody></table></div>"
      ]
     },
     "metadata": {
      "application/vnd.databricks.v1+output": {
       "addedWidgets": {},
       "aggData": [],
       "aggError": "",
       "aggOverflow": false,
       "aggSchema": [],
       "aggSeriesLimitReached": false,
       "aggType": "",
       "arguments": {},
       "columnCustomDisplayInfos": {},
       "data": [],
       "datasetInfos": [],
       "dbfsResultPath": null,
       "isJsonSchema": true,
       "metadata": {},
       "overflow": false,
       "plotOptions": {
        "customPlotOptions": {},
        "displayType": "table",
        "pivotAggregation": null,
        "pivotColumns": null,
        "xColumns": null,
        "yColumns": null
       },
       "removedWidgets": [],
       "schema": [],
       "type": "table"
      }
     },
     "output_type": "display_data"
    }
   ],
   "source": [
    "%sql\n",
    "CREATE TABLE IF NOT EXISTS gold.dim_paciente (\n",
    "  id_paciente STRING NOT NULL COMMENT 'Hash MD5 dos campos naturais',\n",
    "  gender STRING NOT NULL COMMENT 'Gênero (M/F)',\n",
    "  age INT NOT NULL COMMENT 'Idade em anos',\n",
    "  age_group STRING NOT NULL COMMENT 'Faixa etária: adolescent/young_adult/adult/senior',\n",
    "  height_m DECIMAL(10,4) NOT NULL COMMENT 'Altura em metros',\n",
    "  weight_kg DECIMAL(10,4) NOT NULL COMMENT 'Peso em kg',\n",
    "  bmi DECIMAL(4,1) NOT NULL COMMENT 'Índice de Massa Corporal',\n",
    "  has_family_history BOOLEAN NOT NULL COMMENT 'Informa se algum membro da família do paciente já sofreu ou sofre de sobrepeso'\n",
    ")\n",
    "USING DELTA\n",
    "LOCATION '/mnt/gold/dim_paciente'\n",
    "COMMENT 'Dimensão com informações demográficas e biométricas dos pacientes';"
   ]
  },
  {
   "cell_type": "code",
   "execution_count": 0,
   "metadata": {
    "application/vnd.databricks.v1+cell": {
     "cellMetadata": {
      "byteLimit": 2048000,
      "implicitDf": true,
      "rowLimit": 10000
     },
     "inputWidgets": {},
     "nuid": "cc5f5f9b-7243-4efa-9a62-4f94adef2d55",
     "showTitle": true,
     "tableResultSettingsMap": {},
     "title": "Criando a DIM_HABITOS (Hábitos Alimentares)"
    }
   },
   "outputs": [
    {
     "output_type": "display_data",
     "data": {
      "text/html": [
       "<style scoped>\n",
       "  .table-result-container {\n",
       "    max-height: 300px;\n",
       "    overflow: auto;\n",
       "  }\n",
       "  table, th, td {\n",
       "    border: 1px solid black;\n",
       "    border-collapse: collapse;\n",
       "  }\n",
       "  th, td {\n",
       "    padding: 5px;\n",
       "  }\n",
       "  th {\n",
       "    text-align: left;\n",
       "  }\n",
       "</style><div class='table-result-container'><table class='table-result'><thead style='background-color: white'><tr></tr></thead><tbody></tbody></table></div>"
      ]
     },
     "metadata": {
      "application/vnd.databricks.v1+output": {
       "addedWidgets": {},
       "aggData": [],
       "aggError": "",
       "aggOverflow": false,
       "aggSchema": [],
       "aggSeriesLimitReached": false,
       "aggType": "",
       "arguments": {},
       "columnCustomDisplayInfos": {},
       "data": [],
       "datasetInfos": [],
       "dbfsResultPath": null,
       "isJsonSchema": true,
       "metadata": {},
       "overflow": false,
       "plotOptions": {
        "customPlotOptions": {},
        "displayType": "table",
        "pivotAggregation": null,
        "pivotColumns": null,
        "xColumns": null,
        "yColumns": null
       },
       "removedWidgets": [],
       "schema": [],
       "type": "table"
      }
     },
     "output_type": "display_data"
    }
   ],
   "source": [
    "%sql\n",
    "CREATE TABLE IF NOT EXISTS gold.dim_habitos (\n",
    "  id_habitos STRING NOT NULL COMMENT 'Hash MD5 dos hábitos alimentares',\n",
    "  calorie_intake_level STRING NOT NULL COMMENT 'low_calorie/high_calorie',\n",
    "  vegetable_intake_freq DOUBLE NOT NULL COMMENT 'Frequência de consumo de vegetais (1-3)',\n",
    "  meals_per_day INT NOT NULL COMMENT 'Número de refeições principais diárias',\n",
    "  eating_between_meals STRING NOT NULL COMMENT 'none/sometimes/frequently/always',\n",
    "  alcohol_consumption STRING NOT NULL COMMENT 'non_drinker/sometimes/frequently/always',\n",
    "  is_smoker BOOLEAN NOT NULL COMMENT 'Indica se o paciente é fumante',\n",
    "  water_intake DOUBLE NOT NULL COMMENT 'Frequência de consumo de água (1-3)',\n",
    "  monitors_calories BOOLEAN NOT NULL COMMENT 'Monitora ingestão calórica'\n",
    ")\n",
    "USING DELTA\n",
    "LOCATION '/mnt/gold/dim_habitos'\n",
    "COMMENT 'Dimensão com hábitos alimentares e de consumo';"
   ]
  },
  {
   "cell_type": "code",
   "execution_count": 0,
   "metadata": {
    "application/vnd.databricks.v1+cell": {
     "cellMetadata": {
      "byteLimit": 2048000,
      "implicitDf": true,
      "rowLimit": 10000
     },
     "inputWidgets": {},
     "nuid": "6c7d0845-51d0-4ec7-b3e6-ad62dd509343",
     "showTitle": true,
     "tableResultSettingsMap": {},
     "title": "Criando a DIM_ATIVIDADE (Comportamento Físico)"
    }
   },
   "outputs": [
    {
     "output_type": "display_data",
     "data": {
      "text/html": [
       "<style scoped>\n",
       "  .table-result-container {\n",
       "    max-height: 300px;\n",
       "    overflow: auto;\n",
       "  }\n",
       "  table, th, td {\n",
       "    border: 1px solid black;\n",
       "    border-collapse: collapse;\n",
       "  }\n",
       "  th, td {\n",
       "    padding: 5px;\n",
       "  }\n",
       "  th {\n",
       "    text-align: left;\n",
       "  }\n",
       "</style><div class='table-result-container'><table class='table-result'><thead style='background-color: white'><tr></tr></thead><tbody></tbody></table></div>"
      ]
     },
     "metadata": {
      "application/vnd.databricks.v1+output": {
       "addedWidgets": {},
       "aggData": [],
       "aggError": "",
       "aggOverflow": false,
       "aggSchema": [],
       "aggSeriesLimitReached": false,
       "aggType": "",
       "arguments": {},
       "columnCustomDisplayInfos": {},
       "data": [],
       "datasetInfos": [],
       "dbfsResultPath": null,
       "isJsonSchema": true,
       "metadata": {},
       "overflow": false,
       "plotOptions": {
        "customPlotOptions": {},
        "displayType": "table",
        "pivotAggregation": null,
        "pivotColumns": null,
        "xColumns": null,
        "yColumns": null
       },
       "removedWidgets": [],
       "schema": [],
       "type": "table"
      }
     },
     "output_type": "display_data"
    }
   ],
   "source": [
    "%sql\n",
    "CREATE TABLE IF NOT EXISTS gold.dim_atividade (\n",
    "  id_atividade STRING NOT NULL COMMENT 'Hash MD5 das atividades físicas',\n",
    "  physical_activity_freq DOUBLE NOT NULL COMMENT 'Frequência de atividade física (0-3)',\n",
    "  transportation_type STRING NOT NULL COMMENT 'active/car/public_transport/other',\n",
    "  screen_time_hours DOUBLE NOT NULL COMMENT 'Horas diárias de tela'  \n",
    ")\n",
    "USING DELTA\n",
    "LOCATION '/mnt/gold/dim_atividade'\n",
    "COMMENT 'Dimensão com informações sobre atividade física e transporte';"
   ]
  },
  {
   "cell_type": "code",
   "execution_count": 0,
   "metadata": {
    "application/vnd.databricks.v1+cell": {
     "cellMetadata": {
      "byteLimit": 2048000,
      "implicitDf": true,
      "rowLimit": 10000
     },
     "inputWidgets": {},
     "nuid": "677ffbab-8cf8-4866-8b50-a8562731ca74",
     "showTitle": true,
     "tableResultSettingsMap": {},
     "title": "Criando a FACT_OBESIDADE"
    }
   },
   "outputs": [
    {
     "output_type": "display_data",
     "data": {
      "text/html": [
       "<style scoped>\n",
       "  .table-result-container {\n",
       "    max-height: 300px;\n",
       "    overflow: auto;\n",
       "  }\n",
       "  table, th, td {\n",
       "    border: 1px solid black;\n",
       "    border-collapse: collapse;\n",
       "  }\n",
       "  th, td {\n",
       "    padding: 5px;\n",
       "  }\n",
       "  th {\n",
       "    text-align: left;\n",
       "  }\n",
       "</style><div class='table-result-container'><table class='table-result'><thead style='background-color: white'><tr></tr></thead><tbody></tbody></table></div>"
      ]
     },
     "metadata": {
      "application/vnd.databricks.v1+output": {
       "addedWidgets": {},
       "aggData": [],
       "aggError": "",
       "aggOverflow": false,
       "aggSchema": [],
       "aggSeriesLimitReached": false,
       "aggType": "",
       "arguments": {},
       "columnCustomDisplayInfos": {},
       "data": [],
       "datasetInfos": [],
       "dbfsResultPath": null,
       "isJsonSchema": true,
       "metadata": {},
       "overflow": false,
       "plotOptions": {
        "customPlotOptions": {},
        "displayType": "table",
        "pivotAggregation": null,
        "pivotColumns": null,
        "xColumns": null,
        "yColumns": null
       },
       "removedWidgets": [],
       "schema": [],
       "type": "table"
      }
     },
     "output_type": "display_data"
    }
   ],
   "source": [
    "%sql\n",
    "CREATE TABLE IF NOT EXISTS gold.fact_obesidade (\n",
    "  id_fato BIGINT GENERATED ALWAYS AS IDENTITY COMMENT 'ID sequencial artificial',\n",
    "  id_paciente STRING NOT NULL COMMENT 'Referência a dim_paciente',\n",
    "  id_habitos STRING NOT NULL COMMENT 'Referência a dim_habitos',\n",
    "  id_atividade STRING NOT NULL COMMENT 'Referência a dim_atividade',\n",
    "  obesity_level STRING NOT NULL COMMENT 'Nível detalhado de obesidade',\n",
    "  obesity_category STRING COMMENT 'Classificação simplificada',\n",
    "  processed_date DATE NOT NULL COMMENT 'Data de processamento'\n",
    ")\n",
    "USING DELTA\n",
    "LOCATION '/mnt/gold/fact_obesidade'\n",
    "COMMENT 'Tabela fato com métricas de obesidade e chaves para dimensões';"
   ]
  },
  {
   "cell_type": "code",
   "execution_count": 0,
   "metadata": {
    "application/vnd.databricks.v1+cell": {
     "cellMetadata": {
      "byteLimit": 2048000,
      "implicitDf": true,
      "rowLimit": 10000
     },
     "inputWidgets": {},
     "nuid": "97b63cdc-ac35-4008-b4d6-9e2c285a85cb",
     "showTitle": true,
     "tableResultSettingsMap": {},
     "title": "Inserção na dim_paciente"
    }
   },
   "outputs": [
    {
     "output_type": "display_data",
     "data": {
      "text/html": [
       "<style scoped>\n",
       "  .table-result-container {\n",
       "    max-height: 300px;\n",
       "    overflow: auto;\n",
       "  }\n",
       "  table, th, td {\n",
       "    border: 1px solid black;\n",
       "    border-collapse: collapse;\n",
       "  }\n",
       "  th, td {\n",
       "    padding: 5px;\n",
       "  }\n",
       "  th {\n",
       "    text-align: left;\n",
       "  }\n",
       "</style><div class='table-result-container'><table class='table-result'><thead style='background-color: white'><tr><th>num_affected_rows</th><th>num_inserted_rows</th></tr></thead><tbody><tr><td>2087</td><td>2087</td></tr></tbody></table></div>"
      ]
     },
     "metadata": {
      "application/vnd.databricks.v1+output": {
       "addedWidgets": {},
       "aggData": [],
       "aggError": "",
       "aggOverflow": false,
       "aggSchema": [],
       "aggSeriesLimitReached": false,
       "aggType": "",
       "arguments": {},
       "columnCustomDisplayInfos": {},
       "data": [
        [
         2087,
         2087
        ]
       ],
       "datasetInfos": [],
       "dbfsResultPath": null,
       "isJsonSchema": true,
       "metadata": {},
       "overflow": false,
       "plotOptions": {
        "customPlotOptions": {},
        "displayType": "table",
        "pivotAggregation": null,
        "pivotColumns": null,
        "xColumns": null,
        "yColumns": null
       },
       "removedWidgets": [],
       "schema": [
        {
         "metadata": "{}",
         "name": "num_affected_rows",
         "type": "\"long\""
        },
        {
         "metadata": "{}",
         "name": "num_inserted_rows",
         "type": "\"long\""
        }
       ],
       "type": "table"
      }
     },
     "output_type": "display_data"
    }
   ],
   "source": [
    "%sql\n",
    "INSERT INTO gold.dim_paciente (\n",
    "  id_paciente, gender, age, age_group, height_m, weight_kg, bmi, has_family_history\n",
    ")\n",
    "SELECT\n",
    "  patient_key, \n",
    "  gender,\n",
    "  age,\n",
    "  age_group,\n",
    "  height_m,\n",
    "  weight_kg,\n",
    "  bmi,\n",
    "  has_family_history\n",
    "FROM silver.obesity_clean;"
   ]
  },
  {
   "cell_type": "code",
   "execution_count": 0,
   "metadata": {
    "application/vnd.databricks.v1+cell": {
     "cellMetadata": {
      "byteLimit": 2048000,
      "implicitDf": true,
      "rowLimit": 10000
     },
     "inputWidgets": {},
     "nuid": "e4a7c340-ca2d-4389-b982-269c8b6e1c34",
     "showTitle": true,
     "tableResultSettingsMap": {},
     "title": "Amostra dos dados da tabela dim_paciente"
    }
   },
   "outputs": [
    {
     "output_type": "display_data",
     "data": {
      "text/html": [
       "<style scoped>\n",
       "  .table-result-container {\n",
       "    max-height: 300px;\n",
       "    overflow: auto;\n",
       "  }\n",
       "  table, th, td {\n",
       "    border: 1px solid black;\n",
       "    border-collapse: collapse;\n",
       "  }\n",
       "  th, td {\n",
       "    padding: 5px;\n",
       "  }\n",
       "  th {\n",
       "    text-align: left;\n",
       "  }\n",
       "</style><div class='table-result-container'><table class='table-result'><thead style='background-color: white'><tr><th>id_paciente</th><th>gender</th><th>age</th><th>age_group</th><th>height_m</th><th>weight_kg</th><th>bmi</th><th>has_family_history</th></tr></thead><tbody><tr><td>fd4d589c0c96dfd91baca2a2ac2d5001</td><td>MALE</td><td>18</td><td>young_adult</td><td>1.7081</td><td>51.3147</td><td>17.6</td><td>true</td></tr><tr><td>41c5fd1e097f807578e8021fb1329abd</td><td>MALE</td><td>21</td><td>young_adult</td><td>1.7122</td><td>98.7000</td><td>33.7</td><td>true</td></tr><tr><td>655411e1adb4032e225aa2195c766dd5</td><td>FEMALE</td><td>23</td><td>young_adult</td><td>1.6108</td><td>82.5330</td><td>31.8</td><td>true</td></tr><tr><td>74d0b8b0a2862482dd5f4a556a208611</td><td>MALE</td><td>18</td><td>young_adult</td><td>1.7387</td><td>50.2487</td><td>16.6</td><td>true</td></tr><tr><td>66d6ff722631c2112289d5fc63aacd80</td><td>FEMALE</td><td>16</td><td>adolescent</td><td>1.6038</td><td>65.0000</td><td>25.3</td><td>true</td></tr></tbody></table></div>"
      ]
     },
     "metadata": {
      "application/vnd.databricks.v1+output": {
       "addedWidgets": {},
       "aggData": [],
       "aggError": "",
       "aggOverflow": false,
       "aggSchema": [],
       "aggSeriesLimitReached": false,
       "aggType": "",
       "arguments": {},
       "columnCustomDisplayInfos": {},
       "data": [
        [
         "fd4d589c0c96dfd91baca2a2ac2d5001",
         "MALE",
         18,
         "young_adult",
         "1.7081",
         "51.3147",
         "17.6",
         true
        ],
        [
         "41c5fd1e097f807578e8021fb1329abd",
         "MALE",
         21,
         "young_adult",
         "1.7122",
         "98.7000",
         "33.7",
         true
        ],
        [
         "655411e1adb4032e225aa2195c766dd5",
         "FEMALE",
         23,
         "young_adult",
         "1.6108",
         "82.5330",
         "31.8",
         true
        ],
        [
         "74d0b8b0a2862482dd5f4a556a208611",
         "MALE",
         18,
         "young_adult",
         "1.7387",
         "50.2487",
         "16.6",
         true
        ],
        [
         "66d6ff722631c2112289d5fc63aacd80",
         "FEMALE",
         16,
         "adolescent",
         "1.6038",
         "65.0000",
         "25.3",
         true
        ]
       ],
       "datasetInfos": [],
       "dbfsResultPath": null,
       "isJsonSchema": true,
       "metadata": {},
       "overflow": false,
       "plotOptions": {
        "customPlotOptions": {},
        "displayType": "table",
        "pivotAggregation": null,
        "pivotColumns": null,
        "xColumns": null,
        "yColumns": null
       },
       "removedWidgets": [],
       "schema": [
        {
         "metadata": "{\"comment\":\"Hash MD5 dos campos naturais\"}",
         "name": "id_paciente",
         "type": "\"string\""
        },
        {
         "metadata": "{\"comment\":\"Gênero (M/F)\"}",
         "name": "gender",
         "type": "\"string\""
        },
        {
         "metadata": "{\"comment\":\"Idade em anos\"}",
         "name": "age",
         "type": "\"integer\""
        },
        {
         "metadata": "{\"comment\":\"Faixa etária: adolescent/young_adult/adult/senior\"}",
         "name": "age_group",
         "type": "\"string\""
        },
        {
         "metadata": "{\"comment\":\"Altura em metros\"}",
         "name": "height_m",
         "type": "\"decimal(10,4)\""
        },
        {
         "metadata": "{\"comment\":\"Peso em kg\"}",
         "name": "weight_kg",
         "type": "\"decimal(10,4)\""
        },
        {
         "metadata": "{\"comment\":\"Índice de Massa Corporal\"}",
         "name": "bmi",
         "type": "\"decimal(4,1)\""
        },
        {
         "metadata": "{\"comment\":\"Informa se algum membro da família do paciente já sofreu ou sofre de sobrepeso\"}",
         "name": "has_family_history",
         "type": "\"boolean\""
        }
       ],
       "type": "table"
      }
     },
     "output_type": "display_data"
    }
   ],
   "source": [
    "%sql SELECT * FROM gold.dim_paciente LIMIT 5;  "
   ]
  },
  {
   "cell_type": "code",
   "execution_count": 0,
   "metadata": {
    "application/vnd.databricks.v1+cell": {
     "cellMetadata": {
      "byteLimit": 2048000,
      "implicitDf": true,
      "rowLimit": 10000
     },
     "inputWidgets": {},
     "nuid": "45855163-5322-4ccb-b1bc-7d05abf66dd4",
     "showTitle": true,
     "tableResultSettingsMap": {},
     "title": "Inserção na dim_habitos"
    }
   },
   "outputs": [
    {
     "output_type": "display_data",
     "data": {
      "text/html": [
       "<style scoped>\n",
       "  .table-result-container {\n",
       "    max-height: 300px;\n",
       "    overflow: auto;\n",
       "  }\n",
       "  table, th, td {\n",
       "    border: 1px solid black;\n",
       "    border-collapse: collapse;\n",
       "  }\n",
       "  th, td {\n",
       "    padding: 5px;\n",
       "  }\n",
       "  th {\n",
       "    text-align: left;\n",
       "  }\n",
       "</style><div class='table-result-container'><table class='table-result'><thead style='background-color: white'><tr><th>num_affected_rows</th><th>num_inserted_rows</th></tr></thead><tbody><tr><td>1689</td><td>1689</td></tr></tbody></table></div>"
      ]
     },
     "metadata": {
      "application/vnd.databricks.v1+output": {
       "addedWidgets": {},
       "aggData": [],
       "aggError": "",
       "aggOverflow": false,
       "aggSchema": [],
       "aggSeriesLimitReached": false,
       "aggType": "",
       "arguments": {},
       "columnCustomDisplayInfos": {},
       "data": [
        [
         1689,
         1689
        ]
       ],
       "datasetInfos": [],
       "dbfsResultPath": null,
       "isJsonSchema": true,
       "metadata": {},
       "overflow": false,
       "plotOptions": {
        "customPlotOptions": {},
        "displayType": "table",
        "pivotAggregation": null,
        "pivotColumns": null,
        "xColumns": null,
        "yColumns": null
       },
       "removedWidgets": [],
       "schema": [
        {
         "metadata": "{}",
         "name": "num_affected_rows",
         "type": "\"long\""
        },
        {
         "metadata": "{}",
         "name": "num_inserted_rows",
         "type": "\"long\""
        }
       ],
       "type": "table"
      }
     },
     "output_type": "display_data"
    }
   ],
   "source": [
    "%sql\n",
    "INSERT INTO gold.dim_habitos\n",
    "SELECT DISTINCT\n",
    "  md5(concat_ws('|', \n",
    "    silver.obesity_clean.calorie_intake_level,\n",
    "    cast(silver.obesity_clean.vegetable_intake_freq as string),\n",
    "    cast(silver.obesity_clean.meals_per_day as string),\n",
    "    silver.obesity_clean.eating_between_meals,\n",
    "    silver.obesity_clean.alcohol_consumption,\n",
    "    cast(silver.obesity_clean.is_smoker as string),\n",
    "    cast(silver.obesity_clean.water_intake as string),\n",
    "    cast(silver.obesity_clean.monitors_calories as string)\n",
    "  )) AS id_habitos,\n",
    "  calorie_intake_level,\n",
    "  vegetable_intake_freq,\n",
    "  meals_per_day,\n",
    "  eating_between_meals,\n",
    "  alcohol_consumption,\n",
    "  is_smoker,\n",
    "  water_intake,\n",
    "  monitors_calories\n",
    "FROM silver.obesity_clean\n",
    "WHERE md5(concat_ws('|', \n",
    "    silver.obesity_clean.calorie_intake_level,\n",
    "    cast(silver.obesity_clean.vegetable_intake_freq as string),\n",
    "    cast(silver.obesity_clean.meals_per_day as string),\n",
    "    silver.obesity_clean.eating_between_meals,\n",
    "    silver.obesity_clean.alcohol_consumption,\n",
    "    cast(silver.obesity_clean.is_smoker as string),\n",
    "    cast(silver.obesity_clean.water_intake as string),\n",
    "    cast(silver.obesity_clean.monitors_calories as string)\n",
    "  )) \n",
    "  NOT IN (SELECT id_habitos FROM gold.dim_habitos);"
   ]
  },
  {
   "cell_type": "code",
   "execution_count": 0,
   "metadata": {
    "application/vnd.databricks.v1+cell": {
     "cellMetadata": {
      "byteLimit": 2048000,
      "implicitDf": true,
      "rowLimit": 10000
     },
     "inputWidgets": {},
     "nuid": "a9fa9b9e-e5e7-4bc0-8c4d-6e71a73b9a2e",
     "showTitle": true,
     "tableResultSettingsMap": {},
     "title": "Amostra dos dados da tabela dim_habitos"
    }
   },
   "outputs": [
    {
     "output_type": "display_data",
     "data": {
      "text/html": [
       "<style scoped>\n",
       "  .table-result-container {\n",
       "    max-height: 300px;\n",
       "    overflow: auto;\n",
       "  }\n",
       "  table, th, td {\n",
       "    border: 1px solid black;\n",
       "    border-collapse: collapse;\n",
       "  }\n",
       "  th, td {\n",
       "    padding: 5px;\n",
       "  }\n",
       "  th {\n",
       "    text-align: left;\n",
       "  }\n",
       "</style><div class='table-result-container'><table class='table-result'><thead style='background-color: white'><tr><th>id_habitos</th><th>calorie_intake_level</th><th>vegetable_intake_freq</th><th>meals_per_day</th><th>eating_between_meals</th><th>alcohol_consumption</th><th>is_smoker</th><th>water_intake</th><th>monitors_calories</th></tr></thead><tbody><tr><td>6b8824707a724736acf2ed568aa1eda5</td><td>high_calorie</td><td>2.103335</td><td>2</td><td>sometimes</td><td>non_drinker</td><td>false</td><td>3.0</td><td>false</td></tr><tr><td>3c43d92cc2c03b84f0f04210b238fc15</td><td>high_calorie</td><td>2.694281</td><td>3</td><td>sometimes</td><td>non_drinker</td><td>false</td><td>2.653831</td><td>false</td></tr><tr><td>192f247fe6ab23393ae7ac10f578a78c</td><td>high_calorie</td><td>3.0</td><td>3</td><td>sometimes</td><td>sometimes</td><td>false</td><td>2.480277</td><td>false</td></tr><tr><td>2c495699fd0baf3ef03ae4ed583feee1</td><td>high_calorie</td><td>2.334474</td><td>1</td><td>sometimes</td><td>non_drinker</td><td>false</td><td>2.776724</td><td>false</td></tr><tr><td>351cd4181447e2580064367737776079</td><td>high_calorie</td><td>3.0</td><td>3</td><td>sometimes</td><td>non_drinker</td><td>false</td><td>2.0</td><td>false</td></tr></tbody></table></div>"
      ]
     },
     "metadata": {
      "application/vnd.databricks.v1+output": {
       "addedWidgets": {},
       "aggData": [],
       "aggError": "",
       "aggOverflow": false,
       "aggSchema": [],
       "aggSeriesLimitReached": false,
       "aggType": "",
       "arguments": {},
       "columnCustomDisplayInfos": {},
       "data": [
        [
         "6b8824707a724736acf2ed568aa1eda5",
         "high_calorie",
         2.103335,
         2,
         "sometimes",
         "non_drinker",
         false,
         3.0,
         false
        ],
        [
         "3c43d92cc2c03b84f0f04210b238fc15",
         "high_calorie",
         2.694281,
         3,
         "sometimes",
         "non_drinker",
         false,
         2.653831,
         false
        ],
        [
         "192f247fe6ab23393ae7ac10f578a78c",
         "high_calorie",
         3.0,
         3,
         "sometimes",
         "sometimes",
         false,
         2.480277,
         false
        ],
        [
         "2c495699fd0baf3ef03ae4ed583feee1",
         "high_calorie",
         2.334474,
         1,
         "sometimes",
         "non_drinker",
         false,
         2.776724,
         false
        ],
        [
         "351cd4181447e2580064367737776079",
         "high_calorie",
         3.0,
         3,
         "sometimes",
         "non_drinker",
         false,
         2.0,
         false
        ]
       ],
       "datasetInfos": [],
       "dbfsResultPath": null,
       "isJsonSchema": true,
       "metadata": {},
       "overflow": false,
       "plotOptions": {
        "customPlotOptions": {},
        "displayType": "table",
        "pivotAggregation": null,
        "pivotColumns": null,
        "xColumns": null,
        "yColumns": null
       },
       "removedWidgets": [],
       "schema": [
        {
         "metadata": "{\"comment\":\"Hash MD5 dos hábitos alimentares\"}",
         "name": "id_habitos",
         "type": "\"string\""
        },
        {
         "metadata": "{\"comment\":\"low_calorie/high_calorie\"}",
         "name": "calorie_intake_level",
         "type": "\"string\""
        },
        {
         "metadata": "{\"comment\":\"Frequência de consumo de vegetais (1-3)\"}",
         "name": "vegetable_intake_freq",
         "type": "\"double\""
        },
        {
         "metadata": "{\"comment\":\"Número de refeições principais diárias\"}",
         "name": "meals_per_day",
         "type": "\"integer\""
        },
        {
         "metadata": "{\"comment\":\"none/sometimes/frequently/always\"}",
         "name": "eating_between_meals",
         "type": "\"string\""
        },
        {
         "metadata": "{\"comment\":\"non_drinker/sometimes/frequently/always\"}",
         "name": "alcohol_consumption",
         "type": "\"string\""
        },
        {
         "metadata": "{\"comment\":\"Indica se o paciente é fumante\"}",
         "name": "is_smoker",
         "type": "\"boolean\""
        },
        {
         "metadata": "{\"comment\":\"Frequência de consumo de água (1-3)\"}",
         "name": "water_intake",
         "type": "\"double\""
        },
        {
         "metadata": "{\"comment\":\"Monitora ingestão calórica\"}",
         "name": "monitors_calories",
         "type": "\"boolean\""
        }
       ],
       "type": "table"
      }
     },
     "output_type": "display_data"
    }
   ],
   "source": [
    "%sql SELECT * FROM gold.dim_habitos LIMIT 5;  "
   ]
  },
  {
   "cell_type": "code",
   "execution_count": 0,
   "metadata": {
    "application/vnd.databricks.v1+cell": {
     "cellMetadata": {
      "byteLimit": 2048000,
      "implicitDf": true,
      "rowLimit": 10000
     },
     "inputWidgets": {},
     "nuid": "055c0cdc-1e7d-48aa-ba8b-7f2064f090db",
     "showTitle": true,
     "tableResultSettingsMap": {},
     "title": "Inserção na dim_atividade"
    }
   },
   "outputs": [
    {
     "output_type": "display_data",
     "data": {
      "text/html": [
       "<style scoped>\n",
       "  .table-result-container {\n",
       "    max-height: 300px;\n",
       "    overflow: auto;\n",
       "  }\n",
       "  table, th, td {\n",
       "    border: 1px solid black;\n",
       "    border-collapse: collapse;\n",
       "  }\n",
       "  th, td {\n",
       "    padding: 5px;\n",
       "  }\n",
       "  th {\n",
       "    text-align: left;\n",
       "  }\n",
       "</style><div class='table-result-container'><table class='table-result'><thead style='background-color: white'><tr><th>num_affected_rows</th><th>num_inserted_rows</th></tr></thead><tbody><tr><td>1532</td><td>1532</td></tr></tbody></table></div>"
      ]
     },
     "metadata": {
      "application/vnd.databricks.v1+output": {
       "addedWidgets": {},
       "aggData": [],
       "aggError": "",
       "aggOverflow": false,
       "aggSchema": [],
       "aggSeriesLimitReached": false,
       "aggType": "",
       "arguments": {},
       "columnCustomDisplayInfos": {},
       "data": [
        [
         1532,
         1532
        ]
       ],
       "datasetInfos": [],
       "dbfsResultPath": null,
       "isJsonSchema": true,
       "metadata": {},
       "overflow": false,
       "plotOptions": {
        "customPlotOptions": {},
        "displayType": "table",
        "pivotAggregation": null,
        "pivotColumns": null,
        "xColumns": null,
        "yColumns": null
       },
       "removedWidgets": [],
       "schema": [
        {
         "metadata": "{}",
         "name": "num_affected_rows",
         "type": "\"long\""
        },
        {
         "metadata": "{}",
         "name": "num_inserted_rows",
         "type": "\"long\""
        }
       ],
       "type": "table"
      }
     },
     "output_type": "display_data"
    }
   ],
   "source": [
    "%sql\n",
    "INSERT INTO gold.dim_atividade\n",
    "SELECT DISTINCT\n",
    "  md5(concat_ws('|',\n",
    "    cast(silver.obesity_clean.physical_activity_freq as string),\n",
    "    silver.obesity_clean.transportation_type,\n",
    "    cast(silver.obesity_clean.screen_time_hours as string)\n",
    "  )) AS id_atividade,\n",
    "  physical_activity_freq,\n",
    "  transportation_type,\n",
    "  screen_time_hours\n",
    "FROM silver.obesity_clean\n",
    "WHERE md5(concat_ws('|',\n",
    "    cast(silver.obesity_clean.physical_activity_freq as string),\n",
    "    silver.obesity_clean.transportation_type,\n",
    "    cast(silver.obesity_clean.screen_time_hours as string)\n",
    "  ))\n",
    "NOT IN (SELECT id_atividade FROM gold.dim_atividade);"
   ]
  },
  {
   "cell_type": "code",
   "execution_count": 0,
   "metadata": {
    "application/vnd.databricks.v1+cell": {
     "cellMetadata": {
      "byteLimit": 2048000,
      "implicitDf": true,
      "rowLimit": 10000
     },
     "inputWidgets": {},
     "nuid": "7ef8d7cf-d060-423d-8327-b401bbec9b9b",
     "showTitle": true,
     "tableResultSettingsMap": {},
     "title": "Amostra dos dados da tabela dim_atividade"
    }
   },
   "outputs": [
    {
     "output_type": "display_data",
     "data": {
      "text/html": [
       "<style scoped>\n",
       "  .table-result-container {\n",
       "    max-height: 300px;\n",
       "    overflow: auto;\n",
       "  }\n",
       "  table, th, td {\n",
       "    border: 1px solid black;\n",
       "    border-collapse: collapse;\n",
       "  }\n",
       "  th, td {\n",
       "    padding: 5px;\n",
       "  }\n",
       "  th {\n",
       "    text-align: left;\n",
       "  }\n",
       "</style><div class='table-result-container'><table class='table-result'><thead style='background-color: white'><tr><th>id_atividade</th><th>physical_activity_freq</th><th>transportation_type</th><th>screen_time_hours</th></tr></thead><tbody><tr><td>1cda122f8c265f912b4161317186b7ec</td><td>0.0</td><td>car</td><td>0.388271</td></tr><tr><td>ccbcf6e15831e77c983ab3829a8bcb4d</td><td>0.261274</td><td>car</td><td>0.0</td></tr><tr><td>04b8ffd8640620c2c3c3eb842e9f1930</td><td>0.003938</td><td>public_transport</td><td>0.526999</td></tr><tr><td>ef404db962ade14030e5b5626ed3a916</td><td>1.876051</td><td>public_transport</td><td>0.938791</td></tr><tr><td>dea4c0115dc5250157a7be58bea14a43</td><td>1.629432</td><td>car</td><td>0.0</td></tr></tbody></table></div>"
      ]
     },
     "metadata": {
      "application/vnd.databricks.v1+output": {
       "addedWidgets": {},
       "aggData": [],
       "aggError": "",
       "aggOverflow": false,
       "aggSchema": [],
       "aggSeriesLimitReached": false,
       "aggType": "",
       "arguments": {},
       "columnCustomDisplayInfos": {},
       "data": [
        [
         "1cda122f8c265f912b4161317186b7ec",
         0.0,
         "car",
         0.388271
        ],
        [
         "ccbcf6e15831e77c983ab3829a8bcb4d",
         0.261274,
         "car",
         0.0
        ],
        [
         "04b8ffd8640620c2c3c3eb842e9f1930",
         0.003938,
         "public_transport",
         0.526999
        ],
        [
         "ef404db962ade14030e5b5626ed3a916",
         1.876051,
         "public_transport",
         0.938791
        ],
        [
         "dea4c0115dc5250157a7be58bea14a43",
         1.629432,
         "car",
         0.0
        ]
       ],
       "datasetInfos": [],
       "dbfsResultPath": null,
       "isJsonSchema": true,
       "metadata": {},
       "overflow": false,
       "plotOptions": {
        "customPlotOptions": {},
        "displayType": "table",
        "pivotAggregation": null,
        "pivotColumns": null,
        "xColumns": null,
        "yColumns": null
       },
       "removedWidgets": [],
       "schema": [
        {
         "metadata": "{\"comment\":\"Hash MD5 das atividades físicas\"}",
         "name": "id_atividade",
         "type": "\"string\""
        },
        {
         "metadata": "{\"comment\":\"Frequência de atividade física (0-3)\"}",
         "name": "physical_activity_freq",
         "type": "\"double\""
        },
        {
         "metadata": "{\"comment\":\"active/car/public_transport/other\"}",
         "name": "transportation_type",
         "type": "\"string\""
        },
        {
         "metadata": "{\"comment\":\"Horas diárias de tela\"}",
         "name": "screen_time_hours",
         "type": "\"double\""
        }
       ],
       "type": "table"
      }
     },
     "output_type": "display_data"
    }
   ],
   "source": [
    "%sql SELECT * FROM gold.dim_atividade LIMIT 5;  "
   ]
  },
  {
   "cell_type": "code",
   "execution_count": 0,
   "metadata": {
    "application/vnd.databricks.v1+cell": {
     "cellMetadata": {
      "byteLimit": 2048000,
      "implicitDf": true,
      "rowLimit": 10000
     },
     "inputWidgets": {},
     "nuid": "d470c040-b3ac-4ce2-bb6f-b1ddf821f03a",
     "showTitle": true,
     "tableResultSettingsMap": {},
     "title": "Inserção na fact_obesidade"
    }
   },
   "outputs": [
    {
     "output_type": "display_data",
     "data": {
      "text/html": [
       "<style scoped>\n",
       "  .table-result-container {\n",
       "    max-height: 300px;\n",
       "    overflow: auto;\n",
       "  }\n",
       "  table, th, td {\n",
       "    border: 1px solid black;\n",
       "    border-collapse: collapse;\n",
       "  }\n",
       "  th, td {\n",
       "    padding: 5px;\n",
       "  }\n",
       "  th {\n",
       "    text-align: left;\n",
       "  }\n",
       "</style><div class='table-result-container'><table class='table-result'><thead style='background-color: white'><tr><th>num_affected_rows</th><th>num_inserted_rows</th></tr></thead><tbody><tr><td>2087</td><td>2087</td></tr></tbody></table></div>"
      ]
     },
     "metadata": {
      "application/vnd.databricks.v1+output": {
       "addedWidgets": {},
       "aggData": [],
       "aggError": "",
       "aggOverflow": false,
       "aggSchema": [],
       "aggSeriesLimitReached": false,
       "aggType": "",
       "arguments": {},
       "columnCustomDisplayInfos": {},
       "data": [
        [
         2087,
         2087
        ]
       ],
       "datasetInfos": [],
       "dbfsResultPath": null,
       "isJsonSchema": true,
       "metadata": {},
       "overflow": false,
       "plotOptions": {
        "customPlotOptions": {},
        "displayType": "table",
        "pivotAggregation": null,
        "pivotColumns": null,
        "xColumns": null,
        "yColumns": null
       },
       "removedWidgets": [],
       "schema": [
        {
         "metadata": "{}",
         "name": "num_affected_rows",
         "type": "\"long\""
        },
        {
         "metadata": "{}",
         "name": "num_inserted_rows",
         "type": "\"long\""
        }
       ],
       "type": "table"
      }
     },
     "output_type": "display_data"
    }
   ],
   "source": [
    "%sql\n",
    "INSERT INTO gold.fact_obesidade (\n",
    "  id_paciente, \n",
    "  id_habitos, \n",
    "  id_atividade, \n",
    "  obesity_level,\n",
    "  obesity_category,\n",
    "  processed_date\n",
    ")\n",
    "SELECT \n",
    "  p.id_paciente,\n",
    "  h.id_habitos,\n",
    "  a.id_atividade,\n",
    "  s.obesity_level AS obesity_level,\n",
    "  s.obesity_category AS obesity_category,\n",
    "  DATE(s.processed_at) AS processed_date\n",
    "FROM silver.obesity_clean s\n",
    "JOIN gold.dim_paciente p ON \n",
    "  p.id_paciente = s.patient_key\n",
    "JOIN gold.dim_habitos h ON h.id_habitos = md5(concat_ws('|', \n",
    "    s.calorie_intake_level,\n",
    "    cast(s.vegetable_intake_freq as string),\n",
    "    cast(s.meals_per_day as string),\n",
    "    s.eating_between_meals,\n",
    "    s.alcohol_consumption,\n",
    "    cast(s.is_smoker as string),\n",
    "    cast(s.water_intake as string),\n",
    "    cast(s.monitors_calories as string)\n",
    "  ))\n",
    "JOIN gold.dim_atividade a ON a.id_atividade = md5(concat_ws('|', \n",
    "    cast(s.physical_activity_freq as string),\n",
    "    s.transportation_type,\n",
    "    cast(s.screen_time_hours as string)\n",
    "  ));"
   ]
  },
  {
   "cell_type": "code",
   "execution_count": 0,
   "metadata": {
    "application/vnd.databricks.v1+cell": {
     "cellMetadata": {
      "byteLimit": 2048000,
      "implicitDf": true,
      "rowLimit": 10000
     },
     "inputWidgets": {},
     "nuid": "c2fbdc6a-b28a-4bcf-b9a5-d3cb4c4b0c2a",
     "showTitle": true,
     "tableResultSettingsMap": {},
     "title": "Verificação inicial de integridade"
    }
   },
   "outputs": [
    {
     "output_type": "display_data",
     "data": {
      "text/html": [
       "<style scoped>\n",
       "  .table-result-container {\n",
       "    max-height: 300px;\n",
       "    overflow: auto;\n",
       "  }\n",
       "  table, th, td {\n",
       "    border: 1px solid black;\n",
       "    border-collapse: collapse;\n",
       "  }\n",
       "  th, td {\n",
       "    padding: 5px;\n",
       "  }\n",
       "  th {\n",
       "    text-align: left;\n",
       "  }\n",
       "</style><div class='table-result-container'><table class='table-result'><thead style='background-color: white'><tr><th>bronze_count</th><th>silver_count</th><th>unique_patients</th><th>unique_habitos</th><th>unique_atividades</th><th>dim_paciente_count</th><th>dim_habitos_count</th><th>dim_atividade_count</th><th>fact_count</th></tr></thead><tbody><tr><td>2111</td><td>2087</td><td>2087</td><td>1689</td><td>1532</td><td>2087</td><td>1689</td><td>1532</td><td>2087</td></tr></tbody></table></div>"
      ]
     },
     "metadata": {
      "application/vnd.databricks.v1+output": {
       "addedWidgets": {},
       "aggData": [],
       "aggError": "",
       "aggOverflow": false,
       "aggSchema": [],
       "aggSeriesLimitReached": false,
       "aggType": "",
       "arguments": {},
       "columnCustomDisplayInfos": {},
       "data": [
        [
         2111,
         2087,
         2087,
         1689,
         1532,
         2087,
         1689,
         1532,
         2087
        ]
       ],
       "datasetInfos": [],
       "dbfsResultPath": null,
       "isJsonSchema": true,
       "metadata": {},
       "overflow": false,
       "plotOptions": {
        "customPlotOptions": {},
        "displayType": "table",
        "pivotAggregation": null,
        "pivotColumns": null,
        "xColumns": null,
        "yColumns": null
       },
       "removedWidgets": [],
       "schema": [
        {
         "metadata": "{}",
         "name": "bronze_count",
         "type": "\"long\""
        },
        {
         "metadata": "{}",
         "name": "silver_count",
         "type": "\"long\""
        },
        {
         "metadata": "{}",
         "name": "unique_patients",
         "type": "\"long\""
        },
        {
         "metadata": "{}",
         "name": "unique_habitos",
         "type": "\"long\""
        },
        {
         "metadata": "{}",
         "name": "unique_atividades",
         "type": "\"long\""
        },
        {
         "metadata": "{}",
         "name": "dim_paciente_count",
         "type": "\"long\""
        },
        {
         "metadata": "{}",
         "name": "dim_habitos_count",
         "type": "\"long\""
        },
        {
         "metadata": "{}",
         "name": "dim_atividade_count",
         "type": "\"long\""
        },
        {
         "metadata": "{}",
         "name": "fact_count",
         "type": "\"long\""
        }
       ],
       "type": "table"
      }
     },
     "output_type": "display_data"
    }
   ],
   "source": [
    "%sql\n",
    "SELECT \n",
    "  (SELECT COUNT(*) FROM bronze.obesity_raw) AS bronze_count,\n",
    "  (SELECT COUNT(*) FROM silver.obesity_clean) AS silver_count,\n",
    "  (SELECT COUNT(DISTINCT patient_key) FROM silver.obesity_clean) AS unique_patients,\n",
    "  (SELECT COUNT(DISTINCT md5(concat(calorie_intake_level, cast(vegetable_intake_freq as string), cast(meals_per_day as string), eating_between_meals, alcohol_consumption, cast(is_smoker as string), cast(water_intake as string), cast(monitors_calories as string)))) FROM silver.obesity_clean) AS unique_habitos,\n",
    "  (SELECT COUNT(DISTINCT md5(concat(cast(physical_activity_freq as string), transportation_type, cast(screen_time_hours as string)))) FROM silver.obesity_clean) AS unique_atividades,\n",
    "  (SELECT COUNT(*) FROM gold.dim_paciente) AS dim_paciente_count,\n",
    "  (SELECT COUNT(*) FROM gold.dim_habitos) AS dim_habitos_count,\n",
    "  (SELECT COUNT(*) FROM gold.dim_atividade) AS dim_atividade_count,\n",
    "  (SELECT COUNT(*) FROM gold.fact_obesidade) AS fact_count;\n"
   ]
  },
  {
   "cell_type": "code",
   "execution_count": 0,
   "metadata": {
    "application/vnd.databricks.v1+cell": {
     "cellMetadata": {
      "byteLimit": 2048000,
      "implicitDf": true,
      "rowLimit": 10000
     },
     "inputWidgets": {},
     "nuid": "a4cd4e2a-1428-4ccf-86c0-d2454fc974e2",
     "showTitle": true,
     "tableResultSettingsMap": {},
     "title": "Verificação final de integridade"
    }
   },
   "outputs": [
    {
     "output_type": "display_data",
     "data": {
      "text/html": [
       "<style scoped>\n",
       "  .table-result-container {\n",
       "    max-height: 300px;\n",
       "    overflow: auto;\n",
       "  }\n",
       "  table, th, td {\n",
       "    border: 1px solid black;\n",
       "    border-collapse: collapse;\n",
       "  }\n",
       "  th, td {\n",
       "    padding: 5px;\n",
       "  }\n",
       "  th {\n",
       "    text-align: left;\n",
       "  }\n",
       "</style><div class='table-result-container'><table class='table-result'><thead style='background-color: white'><tr><th>metric</th><th>value</th></tr></thead><tbody><tr><td>Registros sem correspondência em dim_paciente</td><td>0</td></tr><tr><td>Registros sem correspondência em dim_habitos</td><td>0</td></tr><tr><td>Registros sem correspondência em dim_habitos</td><td>0</td></tr><tr><td>Registros na fato</td><td>2087</td></tr></tbody></table></div>"
      ]
     },
     "metadata": {
      "application/vnd.databricks.v1+output": {
       "addedWidgets": {},
       "aggData": [],
       "aggError": "",
       "aggOverflow": false,
       "aggSchema": [],
       "aggSeriesLimitReached": false,
       "aggType": "",
       "arguments": {},
       "columnCustomDisplayInfos": {},
       "data": [
        [
         "Registros sem correspondência em dim_paciente",
         0
        ],
        [
         "Registros sem correspondência em dim_habitos",
         0
        ],
        [
         "Registros sem correspondência em dim_habitos",
         0
        ],
        [
         "Registros na fato",
         2087
        ]
       ],
       "datasetInfos": [],
       "dbfsResultPath": null,
       "isJsonSchema": true,
       "metadata": {},
       "overflow": false,
       "plotOptions": {
        "customPlotOptions": {},
        "displayType": "table",
        "pivotAggregation": null,
        "pivotColumns": null,
        "xColumns": null,
        "yColumns": null
       },
       "removedWidgets": [],
       "schema": [
        {
         "metadata": "{}",
         "name": "metric",
         "type": "\"string\""
        },
        {
         "metadata": "{}",
         "name": "value",
         "type": "\"long\""
        }
       ],
       "type": "table"
      }
     },
     "output_type": "display_data"
    }
   ],
   "source": [
    "%sql\n",
    "SELECT \n",
    "  'Registros na fato' AS metric,\n",
    "  COUNT(*) AS value\n",
    "FROM gold.fact_obesidade\n",
    "\n",
    "UNION ALL\n",
    "\n",
    "SELECT \n",
    "  'Registros sem correspondência em dim_paciente',\n",
    "  COUNT(*)\n",
    "FROM gold.fact_obesidade f\n",
    "LEFT JOIN gold.dim_paciente p ON f.id_paciente = p.id_paciente\n",
    "WHERE p.id_paciente IS NULL\n",
    "\n",
    "UNION ALL\n",
    "\n",
    "SELECT \n",
    "  'Registros sem correspondência em dim_habitos',\n",
    "  COUNT(*)\n",
    "FROM gold.fact_obesidade f\n",
    "LEFT JOIN gold.dim_habitos h ON f.id_habitos = h.id_habitos\n",
    "WHERE h.id_habitos IS NULL\n",
    "\n",
    "UNION ALL\n",
    "\n",
    "SELECT \n",
    "  'Registros sem correspondência em dim_habitos',\n",
    "  COUNT(*)\n",
    "FROM gold.fact_obesidade f\n",
    "LEFT JOIN gold.dim_atividade a ON f.id_atividade = a.id_atividade\n",
    "WHERE a.id_atividade IS NULL;\n",
    "\n"
   ]
  },
  {
   "cell_type": "markdown",
   "metadata": {
    "application/vnd.databricks.v1+cell": {
     "cellMetadata": {
      "byteLimit": 2048000,
      "rowLimit": 10000
     },
     "inputWidgets": {},
     "nuid": "741b9cdb-e777-4f25-90fb-7f72bd33078c",
     "showTitle": false,
     "tableResultSettingsMap": {},
     "title": ""
    }
   },
   "source": [
    "\n",
    "### 5.3 Linhagem dos Dados\n",
    "\n",
    "- **Fonte**: Dataset \"Obesity Levels based on Eating Habits and Physical Condition\" – [UCI Machine Learning Repository](https://archive.ics.uci.edu/dataset/544/estimation+of+obesity+levels+based+on+eating+habits+and+physical+condition).\n",
    "- **Formato Original**: CSV\n",
    "- **Camada Bronze**: `bronze.obesity_raw`\n",
    "- **Transformações Aplicadas**:\n",
    "  - Remoção de valores inconsistentes e duplicados.\n",
    "  - Conversão de tipos e categorização de variáveis.\n",
    "  - Cálculo de campos derivados como `BMI`, `faixa etária`.\n",
    "  - Geração de IDs hash (chaves técnicas).\n",
    "- **Ferramentas**: SQL no Databricks, com suporte ao Delta Lake para armazenamento transacional e versionamento dos dados.\n",
    "\n",
    "---\n",
    "### 5.4 Catálogo de Dados\n",
    "#### 📌 Tabela Fato: `gold.fact_obesidade`\n",
    "\n",
    "| Campo              | Tipo     | Descrição                                                                 |\n",
    "|-------------------|----------|---------------------------------------------------------------------------|\n",
    "| `id_fato`          | BIGINT   | Identificador único da linha (auto incrementado)                         |\n",
    "| `id_paciente`      | STRING   | Chave estrangeira para `dim_paciente`                                    |\n",
    "| `id_habitos`       | STRING   | Chave estrangeira para `dim_habitos`                                     |\n",
    "| `id_atividade`     | STRING   | Chave estrangeira para `dim_atividade`                                   |\n",
    "| `obesity_level`    | STRING   | Categoria detalhada (ex: Obesity_Type_I, Normal_Weight)                  |\n",
    "| `obesity_category` | STRING   | Categoria simplificada: underweight, normal, overweight, obese           |\n",
    "| `processed_date`   | DATE     | Data de processamento da linha                                           |\n",
    "\n",
    "---\n",
    "\n",
    "#### 👤 Dimensão: `gold.dim_paciente`\n",
    "\n",
    "| Campo               | Tipo         | Descrição                                                                    | Domínio                          |\n",
    "|--------------------|--------------|------------------------------------------------------------------------------|----------------------------------|\n",
    "| `id_paciente`       | STRING       | Hash MD5 dos dados pessoais (chave única)                                   | —                                |\n",
    "| `gender`            | STRING       | Gênero biológico                                                             | 'MALE', 'FEMALE'                 |\n",
    "| `age`               | INT          | Idade em anos                                                                | 14 a 100                         |\n",
    "| `age_group`         | STRING       | Faixa etária                                                                 | adolescent, young_adult, adult, senior |\n",
    "| `height_m`          | DECIMAL(10,4)| Altura em metros                                                             | 1.20 a 2.50                      |\n",
    "| `weight_kg`         | DECIMAL(10,4)| Peso em quilogramas                                                          | 30 a 300                         |\n",
    "| `bmi`               | DECIMAL(4,1) | Índice de Massa Corporal (peso / altura²)                                   | ~10 a ~60                        |\n",
    "| `has_family_history`| BOOLEAN      | Possui histórico familiar de sobrepeso                                      | TRUE / FALSE                     |\n",
    "\n",
    "---\n",
    "\n",
    "#### 🍽️ Dimensão: `gold.dim_habitos`\n",
    "\n",
    "| Campo                    | Tipo     | Descrição                                                             | Domínio                                    |\n",
    "|-------------------------|----------|----------------------------------------------------------------------|--------------------------------------------|\n",
    "| `id_habitos`             | STRING   | Hash MD5 dos hábitos                                                 | —                                          |\n",
    "| `calorie_intake_level`  | STRING   | Consumo calórico                                                     | low_calorie, high_calorie                  |\n",
    "| `vegetable_intake_freq` | DOUBLE   | Frequência de consumo de vegetais                                    | 1.0 a 3.0                                  |\n",
    "| `meals_per_day`         | INT      | Número de refeições principais diárias                               | 1 a 4                                      |\n",
    "| `eating_between_meals`  | STRING   | Frequência de alimentação entre refeições                            | none, sometimes, frequently, always        |\n",
    "| `alcohol_consumption`   | STRING   | Frequência de consumo de álcool                                      | non_drinker, sometimes, frequently, always |\n",
    "| `is_smoker`             | BOOLEAN  | Indica se é fumante                                                  | TRUE / FALSE                               |\n",
    "| `water_intake`          | DOUBLE   | Consumo diário de água (litros ou frequência)                        | 1.0 a 3.0                                  |\n",
    "| `monitors_calories`     | BOOLEAN  | Se monitora a ingestão calórica                                      | TRUE / FALSE                               |\n",
    "\n",
    "---\n",
    "\n",
    "#### 🏃‍♂️ Dimensão: `gold.dim_atividade`\n",
    "\n",
    "| Campo                   | Tipo     | Descrição                                              | Domínio                            |\n",
    "|------------------------|----------|--------------------------------------------------------|------------------------------------|\n",
    "| `id_atividade`          | STRING   | Hash MD5 dos hábitos de atividade física               | —                                  |\n",
    "| `physical_activity_freq`| DOUBLE   | Frequência semanal de atividade física                 | 0.0 a 3.0                          |\n",
    "| `transportation_type`   | STRING   | Tipo principal de transporte utilizado                 | active, car, public_transport, other |\n",
    "| `screen_time_hours`     | DOUBLE   | Tempo médio diário em frente a telas (em horas)        | 0.0 a 2.0                         |\n",
    "\n",
    "---\n",
    "\n",
    "### 📎 Observações Finais\n",
    "\n",
    "- Todos os identificadores foram gerados com hash `MD5` dos campos naturais para evitar duplicidade e facilitar junções.\n",
    "- As tabelas foram particionadas e salvas em formato Delta para permitir otimizações de leitura e versionamento.\n",
    "\n"
   ]
  },
  {
   "cell_type": "markdown",
   "metadata": {
    "application/vnd.databricks.v1+cell": {
     "cellMetadata": {
      "byteLimit": 2048000,
      "rowLimit": 10000
     },
     "inputWidgets": {},
     "nuid": "e2930f14-61a5-4499-8ecb-cdaa9531d3a2",
     "showTitle": false,
     "tableResultSettingsMap": {},
     "title": ""
    }
   },
   "source": [
    "## 6. Análise Exploratória - Respostas às Perguntas"
   ]
  },
  {
   "cell_type": "markdown",
   "metadata": {
    "application/vnd.databricks.v1+cell": {
     "cellMetadata": {
      "byteLimit": 2048000,
      "rowLimit": 10000
     },
     "inputWidgets": {},
     "nuid": "28cf14a1-b47b-45d9-a3d8-437aef99ad62",
     "showTitle": false,
     "tableResultSettingsMap": {},
     "title": ""
    }
   },
   "source": [
    "### 6.1 **Pergunta 1 (Água vs Obesidade): Pessoas que consomem mais água tendem a ter menor nível de obesidade?**"
   ]
  },
  {
   "cell_type": "code",
   "execution_count": 0,
   "metadata": {
    "application/vnd.databricks.v1+cell": {
     "cellMetadata": {
      "byteLimit": 2048000,
      "implicitDf": true,
      "rowLimit": 10000
     },
     "inputWidgets": {},
     "nuid": "1df09cc5-3042-45d0-9345-962ce731dbc1",
     "showTitle": true,
     "tableResultSettingsMap": {},
     "title": "Água vs Obesidade"
    }
   },
   "outputs": [
    {
     "output_type": "display_data",
     "data": {
      "text/html": [
       "<style scoped>\n",
       "  .table-result-container {\n",
       "    max-height: 300px;\n",
       "    overflow: auto;\n",
       "  }\n",
       "  table, th, td {\n",
       "    border: 1px solid black;\n",
       "    border-collapse: collapse;\n",
       "  }\n",
       "  th, td {\n",
       "    padding: 5px;\n",
       "  }\n",
       "  th {\n",
       "    text-align: left;\n",
       "  }\n",
       "</style><div class='table-result-container'><table class='table-result'><thead style='background-color: white'><tr><th>obesity_level</th><th>avg_water_intake</th><th>total_pacientes</th></tr></thead><tbody><tr><td>Obesity_Type_III</td><td>2.21</td><td>324</td></tr><tr><td>Obesity_Type_I</td><td>2.11</td><td>351</td></tr><tr><td>Overweight_Level_II</td><td>2.03</td><td>290</td></tr><tr><td>Overweight_Level_I</td><td>2.01</td><td>276</td></tr><tr><td>Obesity_Type_II</td><td>1.88</td><td>297</td></tr><tr><td>Insufficient_Weight</td><td>1.88</td><td>267</td></tr><tr><td>Normal_Weight</td><td>1.86</td><td>282</td></tr></tbody></table></div>"
      ]
     },
     "metadata": {
      "application/vnd.databricks.v1+output": {
       "addedWidgets": {},
       "aggData": [],
       "aggError": "",
       "aggOverflow": false,
       "aggSchema": [],
       "aggSeriesLimitReached": false,
       "aggType": "",
       "arguments": {},
       "columnCustomDisplayInfos": {},
       "data": [
        [
         "Obesity_Type_III",
         2.21,
         324
        ],
        [
         "Obesity_Type_I",
         2.11,
         351
        ],
        [
         "Overweight_Level_II",
         2.03,
         290
        ],
        [
         "Overweight_Level_I",
         2.01,
         276
        ],
        [
         "Obesity_Type_II",
         1.88,
         297
        ],
        [
         "Insufficient_Weight",
         1.88,
         267
        ],
        [
         "Normal_Weight",
         1.86,
         282
        ]
       ],
       "datasetInfos": [],
       "dbfsResultPath": null,
       "isJsonSchema": true,
       "metadata": {},
       "overflow": false,
       "plotOptions": {
        "customPlotOptions": {},
        "displayType": "table",
        "pivotAggregation": null,
        "pivotColumns": null,
        "xColumns": null,
        "yColumns": null
       },
       "removedWidgets": [],
       "schema": [
        {
         "metadata": "{\"comment\":\"Nível detalhado de obesidade\"}",
         "name": "obesity_level",
         "type": "\"string\""
        },
        {
         "metadata": "{}",
         "name": "avg_water_intake",
         "type": "\"double\""
        },
        {
         "metadata": "{}",
         "name": "total_pacientes",
         "type": "\"long\""
        }
       ],
       "type": "table"
      }
     },
     "output_type": "display_data"
    }
   ],
   "source": [
    "%sql\n",
    "SELECT \n",
    "    f.obesity_level,\n",
    "    ROUND(AVG(h.water_intake), 2) AS avg_water_intake,\n",
    "    COUNT(*) AS total_pacientes\n",
    "FROM gold.fact_obesidade f\n",
    "JOIN gold.dim_habitos h ON f.id_habitos = h.id_habitos\n",
    "GROUP BY f.obesity_level\n",
    "ORDER BY avg_water_intake DESC;"
   ]
  },
  {
   "cell_type": "markdown",
   "metadata": {
    "application/vnd.databricks.v1+cell": {
     "cellMetadata": {},
     "inputWidgets": {},
     "nuid": "9524aa35-4d68-45bf-8ce0-1b86c3c283e9",
     "showTitle": false,
     "tableResultSettingsMap": {},
     "title": ""
    }
   },
   "source": [
    "Ao observar os dados, percebemos que pacientes que consomem mais água não apresentam menor nível de obesidade — pelo contrário, há uma tendência inversa: indivíduos com níveis mais altos de obesidade relatam, em média, maior consumo de água. Por exemplo:\n",
    "- Pacientes com **Obesity_Type_III** apresentam o maior consumo médio de água (2.21).\n",
    "- Pacientes com **Normal_Weight** e **Insufficient_Weight** estão entre os que têm menor média (1.86 e 1.88, respectivamente).\n",
    "\n",
    "Portanto, à primeira vista, observa-se que o consumo médio de água tende a ser maior entre indivíduos com níveis mais elevados de obesidade, o que pode parecer contraintuitivo. No entanto, essa tendência pode indicar que pessoas obesas estejam em processo de reeducação alimentar ou sob orientação médica, adotando hábitos mais saudáveis — como o aumento da ingestão de água. Por outro lado, indivíduos com peso normal ou insuficiente talvez não percebam a mesma necessidade de alterar esse comportamento.  \n",
    "\n",
    "Além disso, nota-se um agrupamento intermediário em torno dos casos de sobrepeso e obesidade tipo I, com médias variando entre 2.01 e 2.11, o que reforça a hipótese de uma curva crescente no consumo de água conforme aumenta o nível de obesidade."
   ]
  },
  {
   "cell_type": "markdown",
   "metadata": {
    "application/vnd.databricks.v1+cell": {
     "cellMetadata": {},
     "inputWidgets": {},
     "nuid": "88d99041-8904-427f-a8e2-568c3176b9ff",
     "showTitle": false,
     "tableResultSettingsMap": {},
     "title": ""
    }
   },
   "source": [
    "### 6.2 **Pergunta 2. (Distribuição de Obesidade por Gênero e Faixa Etária): Qual a distribuição de obesidade por gênero e faixa etária?**"
   ]
  },
  {
   "cell_type": "code",
   "execution_count": 0,
   "metadata": {
    "application/vnd.databricks.v1+cell": {
     "cellMetadata": {
      "byteLimit": 2048000,
      "implicitDf": true,
      "rowLimit": 10000
     },
     "inputWidgets": {},
     "nuid": "414ae57b-737c-4a7a-b014-82d3f406116b",
     "showTitle": false,
     "tableResultSettingsMap": {},
     "title": ""
    }
   },
   "outputs": [
    {
     "output_type": "display_data",
     "data": {
      "text/html": [
       "<style scoped>\n",
       "  .table-result-container {\n",
       "    max-height: 300px;\n",
       "    overflow: auto;\n",
       "  }\n",
       "  table, th, td {\n",
       "    border: 1px solid black;\n",
       "    border-collapse: collapse;\n",
       "  }\n",
       "  th, td {\n",
       "    padding: 5px;\n",
       "  }\n",
       "  th {\n",
       "    text-align: left;\n",
       "  }\n",
       "</style><div class='table-result-container'><table class='table-result'><thead style='background-color: white'><tr><th>gender</th><th>age_group</th><th>obesity_category</th><th>total_pacientes</th></tr></thead><tbody><tr><td>FEMALE</td><td>adolescent</td><td>overweight</td><td>20</td></tr><tr><td>FEMALE</td><td>adolescent</td><td>underweight</td><td>14</td></tr><tr><td>FEMALE</td><td>adolescent</td><td>normal</td><td>13</td></tr><tr><td>FEMALE</td><td>adolescent</td><td>obese</td><td>3</td></tr><tr><td>FEMALE</td><td>adult</td><td>overweight</td><td>69</td></tr><tr><td>FEMALE</td><td>adult</td><td>obese</td><td>55</td></tr><tr><td>FEMALE</td><td>adult</td><td>normal</td><td>10</td></tr><tr><td>FEMALE</td><td>adult</td><td>underweight</td><td>3</td></tr><tr><td>FEMALE</td><td>senior</td><td>overweight</td><td>4</td></tr><tr><td>FEMALE</td><td>senior</td><td>obese</td><td>2</td></tr><tr><td>FEMALE</td><td>senior</td><td>normal</td><td>2</td></tr><tr><td>FEMALE</td><td>young_adult</td><td>obese</td><td>421</td></tr><tr><td>FEMALE</td><td>young_adult</td><td>overweight</td><td>155</td></tr><tr><td>FEMALE</td><td>young_adult</td><td>underweight</td><td>152</td></tr><tr><td>FEMALE</td><td>young_adult</td><td>normal</td><td>112</td></tr><tr><td>MALE</td><td>adolescent</td><td>underweight</td><td>35</td></tr><tr><td>MALE</td><td>adolescent</td><td>overweight</td><td>11</td></tr><tr><td>MALE</td><td>adolescent</td><td>normal</td><td>11</td></tr><tr><td>MALE</td><td>adolescent</td><td>obese</td><td>5</td></tr><tr><td>MALE</td><td>adult</td><td>obese</td><td>91</td></tr><tr><td>MALE</td><td>adult</td><td>overweight</td><td>55</td></tr><tr><td>MALE</td><td>adult</td><td>normal</td><td>6</td></tr><tr><td>MALE</td><td>senior</td><td>obese</td><td>48</td></tr><tr><td>MALE</td><td>senior</td><td>overweight</td><td>11</td></tr><tr><td>MALE</td><td>young_adult</td><td>obese</td><td>347</td></tr><tr><td>MALE</td><td>young_adult</td><td>overweight</td><td>241</td></tr><tr><td>MALE</td><td>young_adult</td><td>normal</td><td>128</td></tr><tr><td>MALE</td><td>young_adult</td><td>underweight</td><td>63</td></tr></tbody></table></div>"
      ]
     },
     "metadata": {
      "application/vnd.databricks.v1+output": {
       "addedWidgets": {},
       "aggData": [],
       "aggError": "",
       "aggOverflow": false,
       "aggSchema": [],
       "aggSeriesLimitReached": false,
       "aggType": "",
       "arguments": {},
       "columnCustomDisplayInfos": {},
       "data": [
        [
         "FEMALE",
         "adolescent",
         "overweight",
         20
        ],
        [
         "FEMALE",
         "adolescent",
         "underweight",
         14
        ],
        [
         "FEMALE",
         "adolescent",
         "normal",
         13
        ],
        [
         "FEMALE",
         "adolescent",
         "obese",
         3
        ],
        [
         "FEMALE",
         "adult",
         "overweight",
         69
        ],
        [
         "FEMALE",
         "adult",
         "obese",
         55
        ],
        [
         "FEMALE",
         "adult",
         "normal",
         10
        ],
        [
         "FEMALE",
         "adult",
         "underweight",
         3
        ],
        [
         "FEMALE",
         "senior",
         "overweight",
         4
        ],
        [
         "FEMALE",
         "senior",
         "obese",
         2
        ],
        [
         "FEMALE",
         "senior",
         "normal",
         2
        ],
        [
         "FEMALE",
         "young_adult",
         "obese",
         421
        ],
        [
         "FEMALE",
         "young_adult",
         "overweight",
         155
        ],
        [
         "FEMALE",
         "young_adult",
         "underweight",
         152
        ],
        [
         "FEMALE",
         "young_adult",
         "normal",
         112
        ],
        [
         "MALE",
         "adolescent",
         "underweight",
         35
        ],
        [
         "MALE",
         "adolescent",
         "overweight",
         11
        ],
        [
         "MALE",
         "adolescent",
         "normal",
         11
        ],
        [
         "MALE",
         "adolescent",
         "obese",
         5
        ],
        [
         "MALE",
         "adult",
         "obese",
         91
        ],
        [
         "MALE",
         "adult",
         "overweight",
         55
        ],
        [
         "MALE",
         "adult",
         "normal",
         6
        ],
        [
         "MALE",
         "senior",
         "obese",
         48
        ],
        [
         "MALE",
         "senior",
         "overweight",
         11
        ],
        [
         "MALE",
         "young_adult",
         "obese",
         347
        ],
        [
         "MALE",
         "young_adult",
         "overweight",
         241
        ],
        [
         "MALE",
         "young_adult",
         "normal",
         128
        ],
        [
         "MALE",
         "young_adult",
         "underweight",
         63
        ]
       ],
       "datasetInfos": [],
       "dbfsResultPath": null,
       "isJsonSchema": true,
       "metadata": {},
       "overflow": false,
       "plotOptions": {
        "customPlotOptions": {},
        "displayType": "table",
        "pivotAggregation": null,
        "pivotColumns": null,
        "xColumns": null,
        "yColumns": null
       },
       "removedWidgets": [],
       "schema": [
        {
         "metadata": "{\"comment\":\"Gênero (M/F)\"}",
         "name": "gender",
         "type": "\"string\""
        },
        {
         "metadata": "{\"comment\":\"Faixa etária: adolescent/young_adult/adult/senior\"}",
         "name": "age_group",
         "type": "\"string\""
        },
        {
         "metadata": "{\"comment\":\"Classificação simplificada\"}",
         "name": "obesity_category",
         "type": "\"string\""
        },
        {
         "metadata": "{}",
         "name": "total_pacientes",
         "type": "\"long\""
        }
       ],
       "type": "table"
      }
     },
     "output_type": "display_data"
    }
   ],
   "source": [
    "%sql\n",
    "SELECT \n",
    "    p.gender,\n",
    "    p.age_group,\n",
    "    f.obesity_category,\n",
    "    COUNT(*) AS total_pacientes\n",
    "FROM gold.fact_obesidade f\n",
    "JOIN gold.dim_paciente p ON f.id_paciente = p.id_paciente\n",
    "GROUP BY p.gender, p.age_group, f.obesity_category\n",
    "ORDER BY p.gender, p.age_group, total_pacientes DESC;"
   ]
  },
  {
   "cell_type": "markdown",
   "metadata": {
    "application/vnd.databricks.v1+cell": {
     "cellMetadata": {
      "byteLimit": 2048000,
      "rowLimit": 10000
     },
     "inputWidgets": {},
     "nuid": "0c31f10f-79f9-4e72-902a-fea65b7cfbf5",
     "showTitle": false,
     "tableResultSettingsMap": {},
     "title": ""
    }
   },
   "source": [
    "A análise da distribuição dos níveis de obesidade por gênero e faixa etária revela padrões importantes sobre os grupos mais afetados:\n",
    "\n",
    "- A faixa **young_adult (18 a 30 anos)** concentra a maior quantidade de pacientes, tanto do sexo feminino quanto masculino, com nível de obesidade:\n",
    "  - Mulheres **young_adults** obesas: 421 casos\n",
    "  - Homens **young_adults** obesos: 347 casos\n",
    "  - Essa faixa também apresenta números expressivos de sobrepeso, indicando uma fase crítica para intervenções de saúde.\n",
    "- Entre os adolescentes:\n",
    "  - Meninos apresentam mais casos de baixo peso (underweight, 35 casos), enquanto meninas têm maior incidência de sobrepeso (20 casos).\n",
    "  - Isso pode indicar diferenças comportamentais ou fisiológicas no desenvolvimento corporal entre os gêneros.\n",
    "- Nos adultos (31 a 50 anos):\n",
    "  - Ambos os sexos mantêm altos números de obesidade e sobrepeso, com destaque para os homens adultos obesos (91 casos).\n",
    "  - Já nas mulheres adultas, o sobrepeso também predomina (69 casos), mas com uma proporção relevante de obesidade (55 casos).\n",
    "- Em idosos (senior), há menor volume de dados, mas ainda se observa presença significativa de obesidade, especialmente entre homens (48 casos).\n",
    "\n",
    "Com esses resultados temos que o sexo masculino tende a ter maior incidência de obesidade em faixas etárias mais altas, enquanto o sexo feminino apresenta maior concentração em jovens adultos. Os dados também reforçam a importância de ações de prevenção e conscientização precoce, especialmente entre jovens adultos, que lideram em número absoluto de casos obesos."
   ]
  },
  {
   "cell_type": "markdown",
   "metadata": {
    "application/vnd.databricks.v1+cell": {
     "cellMetadata": {},
     "inputWidgets": {},
     "nuid": "e962bc4d-1b3f-4329-91e9-e9451b9acbe0",
     "showTitle": false,
     "tableResultSettingsMap": {},
     "title": ""
    }
   },
   "source": [
    "### 6.3 **Pergunta 3. (Correlação entre Altura, Peso e Obesidade): Existe uma correlação entre altura, peso e nível de obesidade?**"
   ]
  },
  {
   "cell_type": "code",
   "execution_count": 0,
   "metadata": {
    "application/vnd.databricks.v1+cell": {
     "cellMetadata": {
      "byteLimit": 2048000,
      "implicitDf": true,
      "rowLimit": 10000
     },
     "inputWidgets": {},
     "nuid": "3fadbc31-fb0b-494f-8e43-e1a5c0205992",
     "showTitle": false,
     "tableResultSettingsMap": {},
     "title": ""
    }
   },
   "outputs": [
    {
     "output_type": "display_data",
     "data": {
      "text/html": [
       "<style scoped>\n",
       "  .table-result-container {\n",
       "    max-height: 300px;\n",
       "    overflow: auto;\n",
       "  }\n",
       "  table, th, td {\n",
       "    border: 1px solid black;\n",
       "    border-collapse: collapse;\n",
       "  }\n",
       "  th, td {\n",
       "    padding: 5px;\n",
       "  }\n",
       "  th {\n",
       "    text-align: left;\n",
       "  }\n",
       "</style><div class='table-result-container'><table class='table-result'><thead style='background-color: white'><tr><th>obesity_category</th><th>avg_height</th><th>avg_weight</th><th>avg_bmi</th><th>count</th></tr></thead><tbody><tr><td>obese</td><td>1.72</td><td>109.08</td><td>37.0</td><td>972</td></tr><tr><td>overweight</td><td>1.70</td><td>78.38</td><td>27.1</td><td>566</td></tr><tr><td>normal</td><td>1.68</td><td>62.16</td><td>22.0</td><td>282</td></tr><tr><td>underweight</td><td>1.69</td><td>50.01</td><td>17.4</td><td>267</td></tr></tbody></table></div>"
      ]
     },
     "metadata": {
      "application/vnd.databricks.v1+output": {
       "addedWidgets": {},
       "aggData": [],
       "aggError": "",
       "aggOverflow": false,
       "aggSchema": [],
       "aggSeriesLimitReached": false,
       "aggType": "",
       "arguments": {},
       "columnCustomDisplayInfos": {},
       "data": [
        [
         "obese",
         "1.72",
         "109.08",
         "37.0",
         972
        ],
        [
         "overweight",
         "1.70",
         "78.38",
         "27.1",
         566
        ],
        [
         "normal",
         "1.68",
         "62.16",
         "22.0",
         282
        ],
        [
         "underweight",
         "1.69",
         "50.01",
         "17.4",
         267
        ]
       ],
       "datasetInfos": [],
       "dbfsResultPath": null,
       "isJsonSchema": true,
       "metadata": {},
       "overflow": false,
       "plotOptions": {
        "customPlotOptions": {},
        "displayType": "table",
        "pivotAggregation": null,
        "pivotColumns": null,
        "xColumns": null,
        "yColumns": null
       },
       "removedWidgets": [],
       "schema": [
        {
         "metadata": "{\"comment\":\"Classificação simplificada\"}",
         "name": "obesity_category",
         "type": "\"string\""
        },
        {
         "metadata": "{}",
         "name": "avg_height",
         "type": "\"decimal(9,2)\""
        },
        {
         "metadata": "{}",
         "name": "avg_weight",
         "type": "\"decimal(9,2)\""
        },
        {
         "metadata": "{}",
         "name": "avg_bmi",
         "type": "\"decimal(5,1)\""
        },
        {
         "metadata": "{}",
         "name": "count",
         "type": "\"long\""
        }
       ],
       "type": "table"
      }
     },
     "output_type": "display_data"
    }
   ],
   "source": [
    "%sql\n",
    "SELECT \n",
    "  f.obesity_category,\n",
    "  ROUND(AVG(p.height_m), 2) AS avg_height,\n",
    "  ROUND(AVG(p.weight_kg), 2) AS avg_weight,\n",
    "  ROUND(AVG(p.bmi), 1) AS avg_bmi,\n",
    "  COUNT(*) AS count\n",
    "FROM gold.fact_obesidade f\n",
    "JOIN gold.dim_paciente p ON f.id_paciente = p.id_paciente\n",
    "GROUP BY f.obesity_category\n",
    "ORDER BY avg_bmi DESC;"
   ]
  },
  {
   "cell_type": "markdown",
   "metadata": {
    "application/vnd.databricks.v1+cell": {
     "cellMetadata": {},
     "inputWidgets": {},
     "nuid": "e3bbbcd4-3b14-447b-a414-8308d9c7fc4a",
     "showTitle": false,
     "tableResultSettingsMap": {},
     "title": ""
    }
   },
   "source": [
    "Ao analisar os resultados temos os seguintes pontos:\n",
    "- Quanto maior o peso médio, maior o IMC médio e maior o nível de obesidade — uma correlação direta e esperada.\n",
    "- Altura média varia muito pouco entre os grupos (de 1.68m a 1.72m), o que mostra que não há uma correlação clara entre altura e obesidade.\n",
    "- No entanto, pessoas mais altas podem suportar um peso maior sem atingir altos IMCs, o que pode explicar por que a altura média de pacientes obesos ainda é levemente maior que a dos demais grupos.\n",
    "\n",
    "Portanto, a correlação existente é claramente com o peso. A altura exerce uma influência menor e indireta, mas pode afetar o IMC ao permitir maior peso sem ultrapassar os limiares de obesidade."
   ]
  },
  {
   "cell_type": "markdown",
   "metadata": {
    "application/vnd.databricks.v1+cell": {
     "cellMetadata": {},
     "inputWidgets": {},
     "nuid": "0ca7223d-66e6-40d1-b7b1-d5d7cc7fd9e1",
     "showTitle": false,
     "tableResultSettingsMap": {},
     "title": ""
    }
   },
   "source": [
    "### 6.4 **Pergunta 4. (Idade vs Obesidade): Qual a média de idade das pessoas em cada nível de obesidade?**"
   ]
  },
  {
   "cell_type": "code",
   "execution_count": 0,
   "metadata": {
    "application/vnd.databricks.v1+cell": {
     "cellMetadata": {
      "byteLimit": 2048000,
      "implicitDf": true,
      "rowLimit": 10000
     },
     "inputWidgets": {},
     "nuid": "272f213b-0d78-4eb1-8184-a76870d3ac24",
     "showTitle": false,
     "tableResultSettingsMap": {},
     "title": ""
    }
   },
   "outputs": [
    {
     "output_type": "display_data",
     "data": {
      "text/html": [
       "<style scoped>\n",
       "  .table-result-container {\n",
       "    max-height: 300px;\n",
       "    overflow: auto;\n",
       "  }\n",
       "  table, th, td {\n",
       "    border: 1px solid black;\n",
       "    border-collapse: collapse;\n",
       "  }\n",
       "  th, td {\n",
       "    padding: 5px;\n",
       "  }\n",
       "  th {\n",
       "    text-align: left;\n",
       "  }\n",
       "</style><div class='table-result-container'><table class='table-result'><thead style='background-color: white'><tr><th>obesity_category</th><th>avg_age</th><th>count</th></tr></thead><tbody><tr><td>obese</td><td>25.4</td><td>972</td></tr><tr><td>overweight</td><td>25.0</td><td>566</td></tr><tr><td>normal</td><td>21.8</td><td>282</td></tr><tr><td>underweight</td><td>19.4</td><td>267</td></tr></tbody></table></div>"
      ]
     },
     "metadata": {
      "application/vnd.databricks.v1+output": {
       "addedWidgets": {},
       "aggData": [],
       "aggError": "",
       "aggOverflow": false,
       "aggSchema": [],
       "aggSeriesLimitReached": false,
       "aggType": "",
       "arguments": {},
       "columnCustomDisplayInfos": {},
       "data": [
        [
         "obese",
         25.4,
         972
        ],
        [
         "overweight",
         25.0,
         566
        ],
        [
         "normal",
         21.8,
         282
        ],
        [
         "underweight",
         19.4,
         267
        ]
       ],
       "datasetInfos": [],
       "dbfsResultPath": null,
       "isJsonSchema": true,
       "metadata": {},
       "overflow": false,
       "plotOptions": {
        "customPlotOptions": {},
        "displayType": "table",
        "pivotAggregation": null,
        "pivotColumns": null,
        "xColumns": null,
        "yColumns": null
       },
       "removedWidgets": [],
       "schema": [
        {
         "metadata": "{\"comment\":\"Classificação simplificada\"}",
         "name": "obesity_category",
         "type": "\"string\""
        },
        {
         "metadata": "{}",
         "name": "avg_age",
         "type": "\"double\""
        },
        {
         "metadata": "{}",
         "name": "count",
         "type": "\"long\""
        }
       ],
       "type": "table"
      }
     },
     "output_type": "display_data"
    }
   ],
   "source": [
    "%sql\n",
    "SELECT \n",
    "  f.obesity_category,\n",
    "  ROUND(AVG(p.age), 1) AS avg_age,\n",
    "  COUNT(*) AS count\n",
    "FROM gold.fact_obesidade f\n",
    "JOIN gold.dim_paciente p ON f.id_paciente = p.id_paciente\n",
    "GROUP BY f.obesity_category\n",
    "ORDER BY avg_age DESC;\n"
   ]
  },
  {
   "cell_type": "markdown",
   "metadata": {
    "application/vnd.databricks.v1+cell": {
     "cellMetadata": {},
     "inputWidgets": {},
     "nuid": "5e5c3aa7-d855-4d29-9665-41df7965c69b",
     "showTitle": false,
     "tableResultSettingsMap": {},
     "title": ""
    }
   },
   "source": [
    "Segundo os resultados analisados:\n",
    "- Pessoas mais jovens tendem a estar na categoria **\"Underweight\"**  \n",
    "A idade média dos pacientes com baixo peso é de 19.4 anos, a menor entre todas as categorias. Isso sugere que pacientes em transição entre e fase da adolescenscia para jovens adultos, ainda em fase de crescimento e com metabolismo mais acelerado, estão mais frequentemente nesta categoria.\n",
    "\n",
    "- A obesidade tende a aumentar com a idade  \n",
    "A categoria **obese** possui a maior idade média (25.4 anos), indicando que, com o tempo, mudanças no estilo de vida, como piora nos hábitos alimentares ou redução de atividade física, podem contribuir para o ganho de peso.\n",
    "\n",
    "- Transição gradual do normal para sobrepeso e obesidade  \n",
    "Pacientes com peso **normal** têm idade média de 21.8 anos, enquanto os **overweight** já atingem 25 anos. Isso mostra uma tendência de ganho gradual de peso a partir da faixa dos 20 anos.\n",
    "\n",
    "Há uma correlação positiva entre idade e obesidade: quanto maior a idade, maior a tendência de o indivíduo estar nas categorias overweight ou obese. Isso reforça a importância da prevenção e da adoção de hábitos saudáveis desde cedo, especialmente durante a juventude."
   ]
  },
  {
   "cell_type": "markdown",
   "metadata": {
    "application/vnd.databricks.v1+cell": {
     "cellMetadata": {},
     "inputWidgets": {},
     "nuid": "222a5308-213a-44b6-bedf-4075998fa5c4",
     "showTitle": false,
     "tableResultSettingsMap": {},
     "title": ""
    }
   },
   "source": [
    "### 6.5 **Pergunta 5. (Consumo de Vegetais vs Obesidade): Quem come mais vegetais tem menor índice de obesidade?**"
   ]
  },
  {
   "cell_type": "code",
   "execution_count": 0,
   "metadata": {
    "application/vnd.databricks.v1+cell": {
     "cellMetadata": {
      "byteLimit": 2048000,
      "implicitDf": true,
      "rowLimit": 10000
     },
     "inputWidgets": {},
     "nuid": "69dca38d-00e9-4893-83c5-5663c4eb7a47",
     "showTitle": false,
     "tableResultSettingsMap": {},
     "title": ""
    }
   },
   "outputs": [
    {
     "output_type": "display_data",
     "data": {
      "text/html": [
       "<style scoped>\n",
       "  .table-result-container {\n",
       "    max-height: 300px;\n",
       "    overflow: auto;\n",
       "  }\n",
       "  table, th, td {\n",
       "    border: 1px solid black;\n",
       "    border-collapse: collapse;\n",
       "  }\n",
       "  th, td {\n",
       "    padding: 5px;\n",
       "  }\n",
       "  th {\n",
       "    text-align: left;\n",
       "  }\n",
       "</style><div class='table-result-container'><table class='table-result'><thead style='background-color: white'><tr><th>obesity_category</th><th>avg_vegetable_intake</th><th>count</th></tr></thead><tbody><tr><td>obese</td><td>2.52</td><td>972</td></tr><tr><td>underweight</td><td>2.47</td><td>267</td></tr><tr><td>normal</td><td>2.34</td><td>282</td></tr><tr><td>overweight</td><td>2.27</td><td>566</td></tr></tbody></table></div>"
      ]
     },
     "metadata": {
      "application/vnd.databricks.v1+output": {
       "addedWidgets": {},
       "aggData": [],
       "aggError": "",
       "aggOverflow": false,
       "aggSchema": [],
       "aggSeriesLimitReached": false,
       "aggType": "",
       "arguments": {},
       "columnCustomDisplayInfos": {},
       "data": [
        [
         "obese",
         2.52,
         972
        ],
        [
         "underweight",
         2.47,
         267
        ],
        [
         "normal",
         2.34,
         282
        ],
        [
         "overweight",
         2.27,
         566
        ]
       ],
       "datasetInfos": [],
       "dbfsResultPath": null,
       "isJsonSchema": true,
       "metadata": {},
       "overflow": false,
       "plotOptions": {
        "customPlotOptions": {},
        "displayType": "table",
        "pivotAggregation": null,
        "pivotColumns": null,
        "xColumns": null,
        "yColumns": null
       },
       "removedWidgets": [],
       "schema": [
        {
         "metadata": "{\"comment\":\"Classificação simplificada\"}",
         "name": "obesity_category",
         "type": "\"string\""
        },
        {
         "metadata": "{}",
         "name": "avg_vegetable_intake",
         "type": "\"double\""
        },
        {
         "metadata": "{}",
         "name": "count",
         "type": "\"long\""
        }
       ],
       "type": "table"
      }
     },
     "output_type": "display_data"
    }
   ],
   "source": [
    "%sql\n",
    "SELECT \n",
    "  f.obesity_category,\n",
    "  ROUND(AVG(h.vegetable_intake_freq), 2) AS avg_vegetable_intake,\n",
    "  COUNT(*) AS count\n",
    "FROM gold.fact_obesidade f\n",
    "JOIN gold.dim_paciente p ON f.id_paciente = p.id_paciente\n",
    "JOIN gold.dim_habitos h ON f.id_habitos = h.id_habitos\n",
    "GROUP BY f.obesity_category\n",
    "ORDER BY avg_vegetable_intake DESC;"
   ]
  },
  {
   "cell_type": "markdown",
   "metadata": {
    "application/vnd.databricks.v1+cell": {
     "cellMetadata": {},
     "inputWidgets": {},
     "nuid": "ab39a1e0-14c3-4b82-b527-5be7fab02ff8",
     "showTitle": false,
     "tableResultSettingsMap": {},
     "title": ""
    }
   },
   "source": [
    "O consumo de vegetais não parece estar diretamente ligado à redução da obesidade. Os dados mostram que:\n",
    "- Pessoas obesas (média de 2.52) e underweight (2.47) consomem mais vegetais, em média, do que pessoas com peso normal (2.34) ou sobrepeso (2.27).\n",
    "- Isso contraria a hipótese de que maior consumo de vegetais estaria relacionado a menores índices de obesidade.\n",
    "\n",
    "Apesar da tendência estranha dos resultados, temos algumas possíveis explicações para eles: \n",
    "- Reeducação alimentar - Pessoas obesas podem estar tentando melhorar sua alimentação, aumentando a ingestão de vegetais.\n",
    "- Consumo calórico total - Comer vegetais não significa, necessariamente, que a dieta é saudável — outros alimentos calóricos ainda podem estar presentes em excesso.\n",
    "- Fatores adicionais - Tamanho das porções, sedentarismo, metabolismo e consumo de alimentos industrializados podem impactar mais do que a frequência de vegetais.\n",
    "\n",
    "Portando, comer mais vegetais isoladamente não garante menor obesidade. Mais à frente, vamos aprofundar essa análise cruzando com o consumo de alimentos calóricos e o nível de atividade física."
   ]
  },
  {
   "cell_type": "markdown",
   "metadata": {
    "application/vnd.databricks.v1+cell": {
     "cellMetadata": {},
     "inputWidgets": {},
     "nuid": "389d000a-6dbf-450f-b5a6-0aad83251a7e",
     "showTitle": false,
     "tableResultSettingsMap": {},
     "title": ""
    }
   },
   "source": [
    "### 6.6 **Pergunta 6. (Alimentos Calóricos vs Obesidade): Qual o impacto do consumo frequente de alimentos calóricos na obesidade?**"
   ]
  },
  {
   "cell_type": "code",
   "execution_count": 0,
   "metadata": {
    "application/vnd.databricks.v1+cell": {
     "cellMetadata": {
      "byteLimit": 2048000,
      "implicitDf": true,
      "rowLimit": 10000
     },
     "inputWidgets": {},
     "nuid": "4cbbc200-3a2a-4a76-ba5e-ed654799149f",
     "showTitle": false,
     "tableResultSettingsMap": {},
     "title": ""
    }
   },
   "outputs": [
    {
     "output_type": "display_data",
     "data": {
      "text/html": [
       "<style scoped>\n",
       "  .table-result-container {\n",
       "    max-height: 300px;\n",
       "    overflow: auto;\n",
       "  }\n",
       "  table, th, td {\n",
       "    border: 1px solid black;\n",
       "    border-collapse: collapse;\n",
       "  }\n",
       "  th, td {\n",
       "    padding: 5px;\n",
       "  }\n",
       "  th {\n",
       "    text-align: left;\n",
       "  }\n",
       "</style><div class='table-result-container'><table class='table-result'><thead style='background-color: white'><tr><th>obesity_category</th><th>calorie_intake_level</th><th>count</th></tr></thead><tbody><tr><td>normal</td><td>high_calorie</td><td>204</td></tr><tr><td>normal</td><td>low_calorie</td><td>78</td></tr><tr><td>obese</td><td>high_calorie</td><td>953</td></tr><tr><td>obese</td><td>low_calorie</td><td>19</td></tr><tr><td>overweight</td><td>high_calorie</td><td>470</td></tr><tr><td>overweight</td><td>low_calorie</td><td>96</td></tr><tr><td>underweight</td><td>high_calorie</td><td>217</td></tr><tr><td>underweight</td><td>low_calorie</td><td>50</td></tr></tbody></table></div>"
      ]
     },
     "metadata": {
      "application/vnd.databricks.v1+output": {
       "addedWidgets": {},
       "aggData": [],
       "aggError": "",
       "aggOverflow": false,
       "aggSchema": [],
       "aggSeriesLimitReached": false,
       "aggType": "",
       "arguments": {},
       "columnCustomDisplayInfos": {},
       "data": [
        [
         "normal",
         "high_calorie",
         204
        ],
        [
         "normal",
         "low_calorie",
         78
        ],
        [
         "obese",
         "high_calorie",
         953
        ],
        [
         "obese",
         "low_calorie",
         19
        ],
        [
         "overweight",
         "high_calorie",
         470
        ],
        [
         "overweight",
         "low_calorie",
         96
        ],
        [
         "underweight",
         "high_calorie",
         217
        ],
        [
         "underweight",
         "low_calorie",
         50
        ]
       ],
       "datasetInfos": [],
       "dbfsResultPath": null,
       "isJsonSchema": true,
       "metadata": {},
       "overflow": false,
       "plotOptions": {
        "customPlotOptions": {},
        "displayType": "table",
        "pivotAggregation": null,
        "pivotColumns": null,
        "xColumns": null,
        "yColumns": null
       },
       "removedWidgets": [],
       "schema": [
        {
         "metadata": "{\"comment\":\"Classificação simplificada\"}",
         "name": "obesity_category",
         "type": "\"string\""
        },
        {
         "metadata": "{\"comment\":\"low_calorie/high_calorie\"}",
         "name": "calorie_intake_level",
         "type": "\"string\""
        },
        {
         "metadata": "{}",
         "name": "count",
         "type": "\"long\""
        }
       ],
       "type": "table"
      }
     },
     "output_type": "display_data"
    }
   ],
   "source": [
    "%sql\n",
    "SELECT \n",
    "  f.obesity_category,\n",
    "  h.calorie_intake_level,\n",
    "  COUNT(*) AS count\n",
    "FROM gold.fact_obesidade f\n",
    "JOIN gold.dim_paciente p ON f.id_paciente = p.id_paciente\n",
    "JOIN gold.dim_habitos h ON f.id_habitos = h.id_habitos\n",
    "GROUP BY f.obesity_category, h.calorie_intake_level\n",
    "ORDER BY f.obesity_category, count DESC;"
   ]
  },
  {
   "cell_type": "markdown",
   "metadata": {
    "application/vnd.databricks.v1+cell": {
     "cellMetadata": {},
     "inputWidgets": {},
     "nuid": "2f03f859-0071-4da8-bc12-085c9297d939",
     "showTitle": false,
     "tableResultSettingsMap": {},
     "title": ""
    }
   },
   "source": [
    "De acordo com os resultados:\n",
    "- **A maioria dos obesos consome alimentos calóricos frequentemente**  \n",
    "Os dados revelam que 98% das pessoas obesas relatam consumo frequente de alimentos calóricos. Apenas 2% seguem uma alimentação de baixa caloria, indicando uma forte associação entre alta ingestão calórica e níveis elevados de obesidade.\n",
    "- **Tendência clara: quanto maior o nível de obesidade, maior o consumo calórico**  \n",
    "Existe um padrão crescente no percentual de pessoas com dieta rica em calorias conforme aumenta a obesidade:\n",
    "  - Underweight: 81% com alta ingestão calórica\n",
    "  - Normal: 72% com alta ingestão calórica\n",
    "  - Overweight: 83%\n",
    "  - Obese: 98%\n",
    "\n",
    "- **Pessoas com peso normal ou baixo também consomem alimentos calóricos**  \n",
    "Apesar da correlação, 204 pessoas com peso normal e 217 com peso abaixo do ideal ainda apresentam consumo elevado de alimentos calóricos. Isso sugere que outros fatores como atividade física, metabolismo e idade também impactam o peso corporal e a obesidade — e o consumo calórico, isoladamente, não explica todos os casos."
   ]
  },
  {
   "cell_type": "markdown",
   "metadata": {
    "application/vnd.databricks.v1+cell": {
     "cellMetadata": {},
     "inputWidgets": {},
     "nuid": "450415ec-a6ec-4318-a951-3cfa6c1d1455",
     "showTitle": false,
     "tableResultSettingsMap": {},
     "title": ""
    }
   },
   "source": [
    "### 6.7 **Pergunta 7. (Atividade Física vs Obesidade): Pessoas que fazem mais atividades físicas têm menor nível de obesidade?**"
   ]
  },
  {
   "cell_type": "code",
   "execution_count": 0,
   "metadata": {
    "application/vnd.databricks.v1+cell": {
     "cellMetadata": {
      "byteLimit": 2048000,
      "implicitDf": true,
      "rowLimit": 10000
     },
     "inputWidgets": {},
     "nuid": "117ce6d0-31e1-4a57-b81d-52c298938e8d",
     "showTitle": false,
     "tableResultSettingsMap": {},
     "title": ""
    }
   },
   "outputs": [
    {
     "output_type": "display_data",
     "data": {
      "text/html": [
       "<style scoped>\n",
       "  .table-result-container {\n",
       "    max-height: 300px;\n",
       "    overflow: auto;\n",
       "  }\n",
       "  table, th, td {\n",
       "    border: 1px solid black;\n",
       "    border-collapse: collapse;\n",
       "  }\n",
       "  th, td {\n",
       "    padding: 5px;\n",
       "  }\n",
       "  th {\n",
       "    text-align: left;\n",
       "  }\n",
       "</style><div class='table-result-container'><table class='table-result'><thead style='background-color: white'><tr><th>obesity_category</th><th>avg_activity_freq</th><th>count</th></tr></thead><tbody><tr><td>underweight</td><td>1.27</td><td>267</td></tr><tr><td>normal</td><td>1.25</td><td>282</td></tr><tr><td>overweight</td><td>1.01</td><td>566</td></tr><tr><td>obese</td><td>0.87</td><td>972</td></tr></tbody></table></div>"
      ]
     },
     "metadata": {
      "application/vnd.databricks.v1+output": {
       "addedWidgets": {},
       "aggData": [],
       "aggError": "",
       "aggOverflow": false,
       "aggSchema": [],
       "aggSeriesLimitReached": false,
       "aggType": "",
       "arguments": {},
       "columnCustomDisplayInfos": {},
       "data": [
        [
         "underweight",
         1.27,
         267
        ],
        [
         "normal",
         1.25,
         282
        ],
        [
         "overweight",
         1.01,
         566
        ],
        [
         "obese",
         0.87,
         972
        ]
       ],
       "datasetInfos": [],
       "dbfsResultPath": null,
       "isJsonSchema": true,
       "metadata": {},
       "overflow": false,
       "plotOptions": {
        "customPlotOptions": {},
        "displayType": "table",
        "pivotAggregation": null,
        "pivotColumns": null,
        "xColumns": null,
        "yColumns": null
       },
       "removedWidgets": [],
       "schema": [
        {
         "metadata": "{\"comment\":\"Classificação simplificada\"}",
         "name": "obesity_category",
         "type": "\"string\""
        },
        {
         "metadata": "{}",
         "name": "avg_activity_freq",
         "type": "\"double\""
        },
        {
         "metadata": "{}",
         "name": "count",
         "type": "\"long\""
        }
       ],
       "type": "table"
      }
     },
     "output_type": "display_data"
    }
   ],
   "source": [
    "%sql\n",
    "SELECT \n",
    "  f.obesity_category,\n",
    "  ROUND(AVG(a.physical_activity_freq), 2) AS avg_activity_freq,\n",
    "  COUNT(*) AS count\n",
    "FROM gold.fact_obesidade f\n",
    "JOIN gold.dim_paciente p ON f.id_paciente = p.id_paciente\n",
    "JOIN gold.dim_atividade a ON f.id_atividade = a.id_atividade\n",
    "GROUP BY f.obesity_category\n",
    "ORDER BY avg_activity_freq DESC;"
   ]
  },
  {
   "cell_type": "markdown",
   "metadata": {
    "application/vnd.databricks.v1+cell": {
     "cellMetadata": {},
     "inputWidgets": {},
     "nuid": "dcf577bd-cb62-44b9-a2a1-2fdff70c037b",
     "showTitle": false,
     "tableResultSettingsMap": {},
     "title": ""
    }
   },
   "source": [
    "Sim, os dados indicam que pessoas que praticam mais atividades físicas tendem a ter menor nível de obesidade.\n",
    "- Pessoas com menor índice de obesidade fazem mais atividades físicas. As categorias **Underweight** e **Normal** apresentam as maiores médias de prática de exercícios físicos, com 1.27 e 1.25 respectivamente.\n",
    "- Já indivíduos **Overweight** e **Obese** têm médias consideravelmente menores, com 1.01 e 0.87. Isso mostra uma relação inversa entre obesidade e atividade física: quanto menor o nível de obesidade, maior a frequência de exercícios.\n",
    "- A diferença entre **Underweight** e **Normal** é pequena, mas a queda é significativa ao comparar com o grupo **Obese**.\n",
    "\n",
    "Essa análise reforça que incentivar a prática de atividades físicas pode ser uma estratégia eficaz para reduzir ou evitar a obesidade."
   ]
  },
  {
   "cell_type": "markdown",
   "metadata": {
    "application/vnd.databricks.v1+cell": {
     "cellMetadata": {
      "byteLimit": 2048000,
      "rowLimit": 10000
     },
     "inputWidgets": {},
     "nuid": "92c7d558-fc9b-464f-9c2b-689bb0334cf8",
     "showTitle": false,
     "tableResultSettingsMap": {},
     "title": ""
    }
   },
   "source": [
    "### 6.8 **Pergunta 8. (Hábitos Saudáveis vs Obesidade): Existe uma relação entre hábitos saudáveis (maior consumo de vegetais, menor consumo de alimentos calóricos e maior atividade física) e os níveis de obesidade?**"
   ]
  },
  {
   "cell_type": "code",
   "execution_count": 0,
   "metadata": {
    "application/vnd.databricks.v1+cell": {
     "cellMetadata": {
      "byteLimit": 2048000,
      "implicitDf": true,
      "rowLimit": 10000
     },
     "inputWidgets": {},
     "nuid": "d62cce93-4270-4446-8a7f-5d2bbf28d24d",
     "showTitle": false,
     "tableResultSettingsMap": {},
     "title": ""
    }
   },
   "outputs": [
    {
     "output_type": "display_data",
     "data": {
      "text/html": [
       "<style scoped>\n",
       "  .table-result-container {\n",
       "    max-height: 300px;\n",
       "    overflow: auto;\n",
       "  }\n",
       "  table, th, td {\n",
       "    border: 1px solid black;\n",
       "    border-collapse: collapse;\n",
       "  }\n",
       "  th, td {\n",
       "    padding: 5px;\n",
       "  }\n",
       "  th {\n",
       "    text-align: left;\n",
       "  }\n",
       "</style><div class='table-result-container'><table class='table-result'><thead style='background-color: white'><tr><th>obesity_category</th><th>avg_vegetable_intake</th><th>avg_caloric_food</th><th>avg_physical_activity</th><th>total_pacientes</th></tr></thead><tbody><tr><td>normal</td><td>2.34</td><td>0.72</td><td>1.25</td><td>282</td></tr><tr><td>obese</td><td>2.52</td><td>0.98</td><td>0.87</td><td>972</td></tr><tr><td>overweight</td><td>2.27</td><td>0.83</td><td>1.01</td><td>566</td></tr><tr><td>underweight</td><td>2.47</td><td>0.81</td><td>1.27</td><td>267</td></tr></tbody></table></div>"
      ]
     },
     "metadata": {
      "application/vnd.databricks.v1+output": {
       "addedWidgets": {},
       "aggData": [],
       "aggError": "",
       "aggOverflow": false,
       "aggSchema": [],
       "aggSeriesLimitReached": false,
       "aggType": "",
       "arguments": {},
       "columnCustomDisplayInfos": {},
       "data": [
        [
         "normal",
         2.34,
         0.72,
         1.25,
         282
        ],
        [
         "obese",
         2.52,
         0.98,
         0.87,
         972
        ],
        [
         "overweight",
         2.27,
         0.83,
         1.01,
         566
        ],
        [
         "underweight",
         2.47,
         0.81,
         1.27,
         267
        ]
       ],
       "datasetInfos": [],
       "dbfsResultPath": null,
       "isJsonSchema": true,
       "metadata": {},
       "overflow": false,
       "plotOptions": {
        "customPlotOptions": {},
        "displayType": "table",
        "pivotAggregation": null,
        "pivotColumns": null,
        "xColumns": null,
        "yColumns": null
       },
       "removedWidgets": [],
       "schema": [
        {
         "metadata": "{\"comment\":\"Classificação simplificada\"}",
         "name": "obesity_category",
         "type": "\"string\""
        },
        {
         "metadata": "{}",
         "name": "avg_vegetable_intake",
         "type": "\"double\""
        },
        {
         "metadata": "{}",
         "name": "avg_caloric_food",
         "type": "\"double\""
        },
        {
         "metadata": "{}",
         "name": "avg_physical_activity",
         "type": "\"double\""
        },
        {
         "metadata": "{}",
         "name": "total_pacientes",
         "type": "\"long\""
        }
       ],
       "type": "table"
      }
     },
     "output_type": "display_data"
    }
   ],
   "source": [
    "%sql\n",
    "SELECT \n",
    "  f.obesity_category,\n",
    "  ROUND(AVG(h.vegetable_intake_freq), 2) AS avg_vegetable_intake,\n",
    "  ROUND(AVG(\n",
    "    CASE \n",
    "      WHEN h.calorie_intake_level = 'low_calorie' THEN 0\n",
    "      WHEN h.calorie_intake_level = 'high_calorie' THEN 1\n",
    "    END\n",
    "  ), 2) AS avg_caloric_food,\n",
    "  ROUND(AVG(a.physical_activity_freq), 2) AS avg_physical_activity,\n",
    "  COUNT(*) AS total_pacientes\n",
    "FROM gold.fact_obesidade f\n",
    "JOIN gold.dim_habitos h ON f.id_habitos = h.id_habitos\n",
    "JOIN gold.dim_atividade a ON f.id_atividade = a.id_atividade\n",
    "GROUP BY f.obesity_category\n",
    "ORDER BY obesity_category;"
   ]
  },
  {
   "cell_type": "markdown",
   "metadata": {
    "application/vnd.databricks.v1+cell": {
     "cellMetadata": {},
     "inputWidgets": {},
     "nuid": "bc095a82-690a-474e-89b5-7ce2181c6b1b",
     "showTitle": false,
     "tableResultSettingsMap": {},
     "title": ""
    }
   },
   "source": [
    "Com base nesses resultados, podemos tirar algumas conclusões interessantes sobre a relação entre hábitos saudáveis e os níveis de obesidade:  \n",
    "**Pessoas com hábitos mais saudáveis tendem a ter menor obesidade**\n",
    "\n",
    "- **Consumo de vegetais:** embora pessoas obesas tenham o maior consumo médio (2.52), os indivíduos com peso normal e underweight também apresentam consumo elevado (2.34 e 2.47). Isso indica que só comer vegetais não é suficiente — outros fatores precisam ser considerados.\n",
    "- **Consumo de alimentos calóricos (avg_caloric_food):**\n",
    "  - Pessoas obesas: 0.98 → quase todos consomem alta caloria.\n",
    "  - Pessoas com peso normal: 0.72 → menor consumo calórico médio.\n",
    "  - Isso mostra uma clara relação entre alta ingestão calórica e obesidade.\n",
    "- **Atividade física:**\n",
    "  - Underweight (1.27) e normal (1.25) têm os maiores níveis de atividade.  \n",
    "  - Obesos (0.87) têm a menor média.\n",
    "  - Isso confirma que atividade física tem forte influência no controle de peso.\n",
    "\n"
   ]
  },
  {
   "cell_type": "markdown",
   "metadata": {
    "application/vnd.databricks.v1+cell": {
     "cellMetadata": {},
     "inputWidgets": {},
     "nuid": "8dd6ab3e-e303-4e1a-b485-813cbbc2470b",
     "showTitle": false,
     "tableResultSettingsMap": {},
     "title": ""
    }
   },
   "source": [
    "### 6.9 **Pergunta 9. (Refeições Diárias vs Obesidade): Pessoas que comem mais refeições por dia têm menor tendência à obesidade?**"
   ]
  },
  {
   "cell_type": "code",
   "execution_count": 0,
   "metadata": {
    "application/vnd.databricks.v1+cell": {
     "cellMetadata": {
      "byteLimit": 2048000,
      "implicitDf": true,
      "rowLimit": 10000
     },
     "inputWidgets": {},
     "nuid": "2e15dd69-629a-4464-93ed-30ca79025a03",
     "showTitle": false,
     "tableResultSettingsMap": {},
     "title": ""
    }
   },
   "outputs": [
    {
     "output_type": "display_data",
     "data": {
      "text/html": [
       "<style scoped>\n",
       "  .table-result-container {\n",
       "    max-height: 300px;\n",
       "    overflow: auto;\n",
       "  }\n",
       "  table, th, td {\n",
       "    border: 1px solid black;\n",
       "    border-collapse: collapse;\n",
       "  }\n",
       "  th, td {\n",
       "    padding: 5px;\n",
       "  }\n",
       "  th {\n",
       "    text-align: left;\n",
       "  }\n",
       "</style><div class='table-result-container'><table class='table-result'><thead style='background-color: white'><tr><th>obesity_category</th><th>avg_meals_per_day</th><th>count</th></tr></thead><tbody><tr><td>normal</td><td>2.75</td><td>282</td></tr><tr><td>underweight</td><td>2.7</td><td>267</td></tr><tr><td>obese</td><td>2.57</td><td>972</td></tr><tr><td>overweight</td><td>2.29</td><td>566</td></tr></tbody></table></div>"
      ]
     },
     "metadata": {
      "application/vnd.databricks.v1+output": {
       "addedWidgets": {},
       "aggData": [],
       "aggError": "",
       "aggOverflow": false,
       "aggSchema": [],
       "aggSeriesLimitReached": false,
       "aggType": "",
       "arguments": {},
       "columnCustomDisplayInfos": {},
       "data": [
        [
         "normal",
         2.75,
         282
        ],
        [
         "underweight",
         2.7,
         267
        ],
        [
         "obese",
         2.57,
         972
        ],
        [
         "overweight",
         2.29,
         566
        ]
       ],
       "datasetInfos": [],
       "dbfsResultPath": null,
       "isJsonSchema": true,
       "metadata": {},
       "overflow": false,
       "plotOptions": {
        "customPlotOptions": {},
        "displayType": "table",
        "pivotAggregation": null,
        "pivotColumns": null,
        "xColumns": null,
        "yColumns": null
       },
       "removedWidgets": [],
       "schema": [
        {
         "metadata": "{\"comment\":\"Classificação simplificada\"}",
         "name": "obesity_category",
         "type": "\"string\""
        },
        {
         "metadata": "{}",
         "name": "avg_meals_per_day",
         "type": "\"double\""
        },
        {
         "metadata": "{}",
         "name": "count",
         "type": "\"long\""
        }
       ],
       "type": "table"
      }
     },
     "output_type": "display_data"
    }
   ],
   "source": [
    "%sql\n",
    "SELECT \n",
    "  f.obesity_category,\n",
    "  ROUND(AVG(h.meals_per_day), 2) AS avg_meals_per_day,\n",
    "  COUNT(*) AS count\n",
    "FROM gold.fact_obesidade f\n",
    "JOIN gold.dim_paciente p ON f.id_paciente = p.id_paciente\n",
    "JOIN gold.dim_habitos h ON f.id_habitos = h.id_habitos\n",
    "GROUP BY f.obesity_category\n",
    "ORDER BY avg_meals_per_day DESC;"
   ]
  },
  {
   "cell_type": "markdown",
   "metadata": {
    "application/vnd.databricks.v1+cell": {
     "cellMetadata": {},
     "inputWidgets": {},
     "nuid": "d4066c3b-3da1-4e2b-9c4c-e140016042af",
     "showTitle": false,
     "tableResultSettingsMap": {},
     "title": ""
    }
   },
   "source": [
    "- Pessoas com peso normal ou abaixo do peso fazem mais refeições por dia\n",
    "  - Comem em média 2.75 refeições/dia, enquanto underweight comem 2.70 refeições/dia.\n",
    "- Pessoas obesas fazem menos refeições diárias\n",
    "  - A média de refeições diárias dos obesos é 2.57, menor que a dos normais e underweight.\n",
    "- Os overweight comem ainda menos, com 2.29 refeições/dia.\n",
    "\n",
    "Portanto, fracionar mais as refeições ao longo do dia pode estar relacionado a menores índices de obesidade, enquanto fazer menos refeições pode contribuir para o ganho de peso. Isso porque, ao comer menos vezes, as pessoas tendem a consumir mais calorias por refeição ou fazer escolhas alimentares menos saudáveis. Por outro lado, comer com mais frequência pode ajudar a controlar melhor a fome e evitar excessos, funcionando como uma estratégia auxiliar no controle de peso."
   ]
  },
  {
   "cell_type": "markdown",
   "metadata": {
    "application/vnd.databricks.v1+cell": {
     "cellMetadata": {},
     "inputWidgets": {},
     "nuid": "56b85182-357b-412c-b828-82d827d1344a",
     "showTitle": false,
     "tableResultSettingsMap": {},
     "title": ""
    }
   },
   "source": [
    "### 6.10 **Pergunta 10. (Consumo de Álcool vs Obesidade): Há uma relação entre o consumo de álcool e os níveis de obesidade?**"
   ]
  },
  {
   "cell_type": "code",
   "execution_count": 0,
   "metadata": {
    "application/vnd.databricks.v1+cell": {
     "cellMetadata": {
      "byteLimit": 2048000,
      "implicitDf": true,
      "rowLimit": 10000
     },
     "inputWidgets": {},
     "nuid": "c293b643-7c23-436d-a380-b1ea8cc05a30",
     "showTitle": false,
     "tableResultSettingsMap": {},
     "title": ""
    }
   },
   "outputs": [
    {
     "output_type": "display_data",
     "data": {
      "text/html": [
       "<style scoped>\n",
       "  .table-result-container {\n",
       "    max-height: 300px;\n",
       "    overflow: auto;\n",
       "  }\n",
       "  table, th, td {\n",
       "    border: 1px solid black;\n",
       "    border-collapse: collapse;\n",
       "  }\n",
       "  th, td {\n",
       "    padding: 5px;\n",
       "  }\n",
       "  th {\n",
       "    text-align: left;\n",
       "  }\n",
       "</style><div class='table-result-container'><table class='table-result'><thead style='background-color: white'><tr><th>obesity_category</th><th>alcohol_consumption</th><th>count</th></tr></thead><tbody><tr><td>normal</td><td>sometimes</td><td>159</td></tr><tr><td>normal</td><td>non_drinker</td><td>104</td></tr><tr><td>normal</td><td>frequently</td><td>18</td></tr><tr><td>normal</td><td>always</td><td>1</td></tr><tr><td>obese</td><td>sometimes</td><td>719</td></tr><tr><td>obese</td><td>non_drinker</td><td>237</td></tr><tr><td>obese</td><td>frequently</td><td>16</td></tr><tr><td>overweight</td><td>sometimes</td><td>353</td></tr><tr><td>overweight</td><td>non_drinker</td><td>178</td></tr><tr><td>overweight</td><td>frequently</td><td>35</td></tr><tr><td>underweight</td><td>sometimes</td><td>149</td></tr><tr><td>underweight</td><td>non_drinker</td><td>117</td></tr><tr><td>underweight</td><td>frequently</td><td>1</td></tr></tbody></table></div>"
      ]
     },
     "metadata": {
      "application/vnd.databricks.v1+output": {
       "addedWidgets": {},
       "aggData": [],
       "aggError": "",
       "aggOverflow": false,
       "aggSchema": [],
       "aggSeriesLimitReached": false,
       "aggType": "",
       "arguments": {},
       "columnCustomDisplayInfos": {},
       "data": [
        [
         "normal",
         "sometimes",
         159
        ],
        [
         "normal",
         "non_drinker",
         104
        ],
        [
         "normal",
         "frequently",
         18
        ],
        [
         "normal",
         "always",
         1
        ],
        [
         "obese",
         "sometimes",
         719
        ],
        [
         "obese",
         "non_drinker",
         237
        ],
        [
         "obese",
         "frequently",
         16
        ],
        [
         "overweight",
         "sometimes",
         353
        ],
        [
         "overweight",
         "non_drinker",
         178
        ],
        [
         "overweight",
         "frequently",
         35
        ],
        [
         "underweight",
         "sometimes",
         149
        ],
        [
         "underweight",
         "non_drinker",
         117
        ],
        [
         "underweight",
         "frequently",
         1
        ]
       ],
       "datasetInfos": [],
       "dbfsResultPath": null,
       "isJsonSchema": true,
       "metadata": {},
       "overflow": false,
       "plotOptions": {
        "customPlotOptions": {},
        "displayType": "table",
        "pivotAggregation": null,
        "pivotColumns": null,
        "xColumns": null,
        "yColumns": null
       },
       "removedWidgets": [],
       "schema": [
        {
         "metadata": "{\"comment\":\"Classificação simplificada\"}",
         "name": "obesity_category",
         "type": "\"string\""
        },
        {
         "metadata": "{\"comment\":\"non_drinker/sometimes/frequently/always\"}",
         "name": "alcohol_consumption",
         "type": "\"string\""
        },
        {
         "metadata": "{}",
         "name": "count",
         "type": "\"long\""
        }
       ],
       "type": "table"
      }
     },
     "output_type": "display_data"
    }
   ],
   "source": [
    "%sql\n",
    "SELECT \n",
    "  f.obesity_category,\n",
    "  h.alcohol_consumption,\n",
    "  COUNT(*) AS count\n",
    "FROM gold.fact_obesidade f\n",
    "JOIN gold.dim_paciente p ON f.id_paciente = p.id_paciente\n",
    "JOIN gold.dim_habitos h ON f.id_habitos = h.id_habitos\n",
    "GROUP BY f.obesity_category, h.alcohol_consumption\n",
    "ORDER BY f.obesity_category, count DESC;"
   ]
  },
  {
   "cell_type": "markdown",
   "metadata": {
    "application/vnd.databricks.v1+cell": {
     "cellMetadata": {},
     "inputWidgets": {},
     "nuid": "1e7ab7f4-3682-4c91-8ada-56dc83af80e6",
     "showTitle": false,
     "tableResultSettingsMap": {},
     "title": ""
    }
   },
   "source": [
    "Com base nos dados, não parece haver uma relação direta entre o consumo de álcool e os níveis de obesidade. A maioria das pessoas em todas as categorias de peso relatam consumir álcool “às vezes”, independentemente do nível de obesidade. Por exemplo:\n",
    "\n",
    "- **Obese**: 719 (às vezes), 237 (não bebem)\n",
    "- **Normal**: 159 (às vezes), 104 (não bebem)\n",
    "- **Overweight**: 353 (às vezes), 178 (não bebem)\n",
    "- **Underweight**: 149 (às vezes), 117 (não bebem)\n",
    "\n",
    "A proporção entre consumidores ocasionais e não consumidores se mantém relativamente constante entre os grupos. Casos de consumo frequente ou diário são raros em todos os níveis, indicando que esse comportamento não é predominante na nossa base de dados.\n"
   ]
  },
  {
   "cell_type": "markdown",
   "metadata": {
    "application/vnd.databricks.v1+cell": {
     "cellMetadata": {},
     "inputWidgets": {},
     "nuid": "dbafaf46-666a-42b0-af8c-f640658077da",
     "showTitle": false,
     "tableResultSettingsMap": {},
     "title": ""
    }
   },
   "source": [
    "### 6.11 **Pergunta 11. (Transporte vs Obesidade): Quem usa transporte ativo (bicicleta, caminhada) tem menores índices de obesidade do que aqueles que usam carro ou transporte público?**"
   ]
  },
  {
   "cell_type": "code",
   "execution_count": 0,
   "metadata": {
    "application/vnd.databricks.v1+cell": {
     "cellMetadata": {
      "byteLimit": 2048000,
      "implicitDf": true,
      "rowLimit": 10000
     },
     "inputWidgets": {},
     "nuid": "d42b3ad5-161d-4388-a7ba-d33ec931de1d",
     "showTitle": false,
     "tableResultSettingsMap": {},
     "title": ""
    }
   },
   "outputs": [
    {
     "output_type": "display_data",
     "data": {
      "text/html": [
       "<style scoped>\n",
       "  .table-result-container {\n",
       "    max-height: 300px;\n",
       "    overflow: auto;\n",
       "  }\n",
       "  table, th, td {\n",
       "    border: 1px solid black;\n",
       "    border-collapse: collapse;\n",
       "  }\n",
       "  th, td {\n",
       "    padding: 5px;\n",
       "  }\n",
       "  th {\n",
       "    text-align: left;\n",
       "  }\n",
       "</style><div class='table-result-container'><table class='table-result'><thead style='background-color: white'><tr><th>transportation_type</th><th>obesity_category</th><th>count</th></tr></thead><tbody><tr><td>active</td><td>normal</td><td>35</td></tr><tr><td>active</td><td>obese</td><td>4</td></tr><tr><td>active</td><td>overweight</td><td>17</td></tr><tr><td>active</td><td>underweight</td><td>6</td></tr><tr><td>car</td><td>normal</td><td>44</td></tr><tr><td>car</td><td>obese</td><td>206</td></tr><tr><td>car</td><td>overweight</td><td>160</td></tr><tr><td>car</td><td>underweight</td><td>46</td></tr><tr><td>other</td><td>normal</td><td>6</td></tr><tr><td>other</td><td>obese</td><td>3</td></tr><tr><td>other</td><td>overweight</td><td>2</td></tr><tr><td>public_transport</td><td>normal</td><td>197</td></tr><tr><td>public_transport</td><td>obese</td><td>759</td></tr><tr><td>public_transport</td><td>overweight</td><td>387</td></tr><tr><td>public_transport</td><td>underweight</td><td>215</td></tr></tbody></table></div>"
      ]
     },
     "metadata": {
      "application/vnd.databricks.v1+output": {
       "addedWidgets": {},
       "aggData": [],
       "aggError": "",
       "aggOverflow": false,
       "aggSchema": [],
       "aggSeriesLimitReached": false,
       "aggType": "",
       "arguments": {},
       "columnCustomDisplayInfos": {},
       "data": [
        [
         "active",
         "normal",
         35
        ],
        [
         "active",
         "obese",
         4
        ],
        [
         "active",
         "overweight",
         17
        ],
        [
         "active",
         "underweight",
         6
        ],
        [
         "car",
         "normal",
         44
        ],
        [
         "car",
         "obese",
         206
        ],
        [
         "car",
         "overweight",
         160
        ],
        [
         "car",
         "underweight",
         46
        ],
        [
         "other",
         "normal",
         6
        ],
        [
         "other",
         "obese",
         3
        ],
        [
         "other",
         "overweight",
         2
        ],
        [
         "public_transport",
         "normal",
         197
        ],
        [
         "public_transport",
         "obese",
         759
        ],
        [
         "public_transport",
         "overweight",
         387
        ],
        [
         "public_transport",
         "underweight",
         215
        ]
       ],
       "datasetInfos": [],
       "dbfsResultPath": null,
       "isJsonSchema": true,
       "metadata": {},
       "overflow": false,
       "plotOptions": {
        "customPlotOptions": {},
        "displayType": "table",
        "pivotAggregation": null,
        "pivotColumns": null,
        "xColumns": null,
        "yColumns": null
       },
       "removedWidgets": [],
       "schema": [
        {
         "metadata": "{\"comment\":\"active/car/public_transport/other\"}",
         "name": "transportation_type",
         "type": "\"string\""
        },
        {
         "metadata": "{\"comment\":\"Classificação simplificada\"}",
         "name": "obesity_category",
         "type": "\"string\""
        },
        {
         "metadata": "{}",
         "name": "count",
         "type": "\"long\""
        }
       ],
       "type": "table"
      }
     },
     "output_type": "display_data"
    }
   ],
   "source": [
    "%sql\n",
    "SELECT \n",
    "  a.transportation_type,\n",
    "  f.obesity_category,\n",
    "  COUNT(*) AS count\n",
    "FROM gold.fact_obesidade f\n",
    "JOIN gold.dim_atividade a ON f.id_atividade = a.id_atividade\n",
    "GROUP BY a.transportation_type, f.obesity_category\n",
    "ORDER BY a.transportation_type, f.obesity_category;\n"
   ]
  },
  {
   "cell_type": "markdown",
   "metadata": {
    "application/vnd.databricks.v1+cell": {
     "cellMetadata": {},
     "inputWidgets": {},
     "nuid": "b3882b6b-3f41-483b-99e3-de4d60c691fa",
     "showTitle": false,
     "tableResultSettingsMap": {},
     "title": ""
    }
   },
   "source": [
    "Sim, os dados sugerem que quem utiliza transporte ativo (como caminhada ou bicicleta) apresenta menores índices de obesidade.\n",
    "- Entre os que usam transporte ativo, apenas 4 são obesos, enquanto 35 têm peso normal, e os demais estão entre underweight e overweight. Ou seja, a maioria está fora das categorias mais altas de obesidade.\n",
    "- Já entre os que usam carro, a quantidade de obesos é bem maior (206), superando inclusive o número de pessoas com peso normal (44). O mesmo padrão se repete no transporte público, onde há 759 obesos contra 197 com peso normal.\n",
    "\n",
    "Ou seja, há uma tendência clara:\n",
    "- Usuários de transporte ativo têm menor prevalência de obesidade.\n",
    "- Usuários de carro ou transporte público apresentam maiores índices de obesidade.\n",
    "\n",
    "Isso indica que o deslocamento ativo contribui para o gasto calórico diário e ajuda no controle do peso corporal."
   ]
  },
  {
   "cell_type": "markdown",
   "metadata": {
    "application/vnd.databricks.v1+cell": {
     "cellMetadata": {},
     "inputWidgets": {},
     "nuid": "b46e7c57-bd69-4f68-a4f7-ba8891e48834",
     "showTitle": false,
     "tableResultSettingsMap": {},
     "title": ""
    }
   },
   "source": [
    "## 7. Conclusão"
   ]
  },
  {
   "cell_type": "markdown",
   "metadata": {
    "application/vnd.databricks.v1+cell": {
     "cellMetadata": {},
     "inputWidgets": {},
     "nuid": "ec9acb1f-b317-4787-aeea-2cd11491c574",
     "showTitle": false,
     "tableResultSettingsMap": {},
     "title": ""
    }
   },
   "source": [
    "A análise exploratória realizada permite identificar algumas evidências importantes:\n",
    "\n",
    "- **Mudança de hábitos isolada pode não ser suficiente.**  \n",
    "O consumo de água, a ingestão de vegetais, a redução de alimentos calóricos e a prática de atividades físicas precisam ocorrer em conjunto para gerar um impacto significativo na redução dos níveis de obesidade.\n",
    "- **Jovens adultos merecem atenção especial.**  \n",
    "Observamos um alto índice de obesidade na faixa etária dos 20 a 25 anos, o que indica a necessidade de políticas de prevenção mais direcionadas para essa fase da vida.\n",
    "- **O consumo de álcool tem relação mais forte com sobrepeso.**  \n",
    "Embora presente em todas as categorias, o álcool parece influenciar mais o ganho moderado de peso do que os casos de obesidade severa.\n",
    "- **Transporte ativo é aliado da saúde.**  \n",
    "Indivíduos que utilizam meios de transporte ativos, como bicicleta ou caminhada, apresentam menor incidência de obesidade, reforçando a importância de incentivar a mobilidade ativa nas cidades.\n",
    "\n",
    "Quanto ao **pipeline de dados**, sua construção possibilitou uma análise robusta, com alto nível de integridade e organização dos dados, por meio das camadas Bronze, Silver e Gold. A modelagem em estrela e a separação das dimensões facilitaram a extração de insights. Para trabalhos futuros, será interessante explorar novas métricas, desenvolver mais perguntas analíticas e aprofundar a correlação entre variáveis, potencializando ainda mais os resultados obtidos."
   ]
  },
  {
   "cell_type": "markdown",
   "metadata": {
    "application/vnd.databricks.v1+cell": {
     "cellMetadata": {},
     "inputWidgets": {},
     "nuid": "aa1b9a3a-a917-4bd0-a1ef-fe0cf67216e8",
     "showTitle": false,
     "tableResultSettingsMap": {},
     "title": ""
    }
   },
   "source": [
    "## 8. Auto Avaliação"
   ]
  },
  {
   "cell_type": "markdown",
   "metadata": {
    "application/vnd.databricks.v1+cell": {
     "cellMetadata": {},
     "inputWidgets": {},
     "nuid": "796ce4c2-5693-43f5-8a97-db9878b6d4c4",
     "showTitle": false,
     "tableResultSettingsMap": {},
     "title": ""
    }
   },
   "source": [
    "Na minha opinião, a autoavaliação do trabalho é bastante positiva. Foi possivel atingir o principal objetivo do projeto, que era estruturar um pipeline de dados eficiente e utilizá-lo para realizar uma análise exploratória relevante sobre obesidade e hábitos de vida. As perguntas propostas foram bem respondidas com base nos dados tratados, e os insights obtidos são coerentes e úteis tanto para fins acadêmicos quanto para possíveis aplicações em políticas de saúde. Por fim, esse projeto demonstrou uma boa organização, uso adequado das ferramentas e aplicação correta dos conceitos de engenharia de dados.\n",
    "\n"
   ]
  }
 ],
 "metadata": {
  "application/vnd.databricks.v1+notebook": {
   "computePreferences": null,
   "dashboards": [],
   "environmentMetadata": {
    "base_environment": "",
    "environment_version": "1"
   },
   "inputWidgetPreferences": null,
   "language": "python",
   "notebookMetadata": {
    "mostRecentlyExecutedCommandWithImplicitDF": {
     "commandId": 3141383109044949,
     "dataframes": [
      "_sqldf"
     ]
    },
    "pythonIndentUnit": 4
   },
   "notebookName": "MVP de Engenharia de Dados",
   "widgets": {}
  }
 },
 "nbformat": 4,
 "nbformat_minor": 0
}